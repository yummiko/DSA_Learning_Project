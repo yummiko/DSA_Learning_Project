{
 "cells": [
  {
   "cell_type": "markdown",
   "id": "a36b7c047d9210b1",
   "metadata": {
    "collapsed": false
   },
   "source": [
    "## Chapter 3 Algorithm Analysis\n",
    "### 3.1 Experimental Studies\n",
    "We can use the elapsed time( by recording the time just before the algorithm and the time just after the algorithm and compute their differences) to demonstrate the time usage of a algorithm, for example:\n",
    "```python\n",
    "from time import time\n",
    "def time_measure(algorithm):\n",
    "    start_time = time() # record the starting time\n",
    "    algorithm()\n",
    "    return time() - start_time # compute and return the elapsed time.\n",
    "```\n",
    "#### Challenges of Experimental Analysis:\n",
    "1. It's hard to compare two different algorithm unless they are performed in the same software and hardware environment.\n",
    "2. Experiments can be done only on a limited set of test input; hence, they leave out the running time of some inputs which might be important.\n",
    "3. An algorithm must be fully implemented in order to execute it to study its running time experimentally.\n",
    "\n",
    "#### 3.1.1 Moving beyond Experimental Analysis\n",
    "Our goal is to develop an approach to analyzing the efficiency of algorithms that:\n",
    "1. Allows us to evaluate the relative efficiency of any two algorithms in a way that is dependent of the hardware and software environment.\n",
    "2. Is performed by studying a high-level description of the algorithm without need for implementation.\n",
    "3. Takes into account all possible inputs.\n",
    "\n",
    "Counting Primitive Operation\n",
    "To analyze the running time of an algorithm without performing experiments, we perform an analysis of directly on a high-level description of the algorithm (either in the form of the actual code fragment, or language-independent pseudo-code.) There are a set of primitive operations such as the following:\n",
    "\n",
    "- Assigning an identifier to an object\n",
    "- Determining the object associated with an identifier\n",
    "- Performing an arithmetic operation (for example, adding two numbers)\n",
    "- Comparing two numbers\n",
    "- Accessing a single element of a Python list by index\n",
    "- Calling a function (excluding operations executed within the function)\n",
    "- Returning from a function. \n",
    "\n",
    "These primitive operations correspond to a low-level instruction with an execute time that is constant. This might be the type of basic operation that is executed by hardware, even though many of our primitive operations may be translated to a small number of instructions, we can still consider that they can be counted by the amount of primitive operations are executed and use these number *t* as a measure of the running time of the algorithm.\n",
    "This *t* is more like a proportional number of the running time of that algorithm.\n",
    "\n",
    "#### Measuring Operations as a Function of input size\n",
    "For capturing the order of growth of an algorithm's running time. We will use f(n) to describe the number of primitive operation, and n represent the input size. \n",
    "\n",
    "#### Focusing on the Worst-Case input\n",
    "An algorithm may run faster on some inputs than it does on others. \n",
    "It's difficult to determine an average overall level of running time because that means we have to figure out the probability distribution on the set of inputs. Therefore, worst-case analysis is much easier than average-case analysis.\n",
    "Designing an algorithm to perform well in the worst cases leads to stronger algorithm.\n"
   ]
  },
  {
   "cell_type": "markdown",
   "id": "2da46332d4a8cf80",
   "metadata": {
    "collapsed": false
   },
   "source": [
    "### 3.2 The seven function used in this book\n",
    "![Time complexity among different function](timecomplexity.jpg) \\\n",
    "\n",
    "#### 1. Constant Function *(f(n) = c)* :\n",
    "c refer to a constant value like 2 or 2^10^\n",
    "the formula might use a form *f(n) = cg(n) while g(n) is the most fundamental constant function g(n)=1* \n",
    "\n",
    "#### 2. Logarithm Function *($f(n) = log_b{n}$)*  \n",
    "$x = log_bn$ only if $b^x = n$\\\n",
    "the most common base is Logarithm Function is 2 because all integers are stored in computer as binary, and because a common operation in many algorithms is repeatedly divided an input in half. \n",
    "\n",
    "**Proposition3.1(Logarithm Rules)**: Given real numbers a > 0, b > 1, c > 0 and d > 1, we have:\\\n",
    " (* In this example, the usual convertion that the base is 2 if it is omitted)\n",
    " \n",
    "1. $log_b{(ac)} = log_b{a} + log_b{c}$ (e.g.: $log(2n) = log2 + logn = 1 + logn$) \n",
    "2. $logb(a/c) = log_b{a} - log_b{c}$ (e.g.: $log(n/2) = logn - log2 = logn-1$)\n",
    "3. $log_b{a^c} = clog_b{a}$ (e.g.: $logn^3 = 3logn$,  $log2^n = nlog2 = n · 1 = n$)\n",
    "4. **$log_b{a} = log_d{a}/log_d{b}$ (e.g.: $log~4~n = (logn)/log4 = (logn)/2$) *(This rule gives us a way to compute the base-two logarithn on a calculator that has a base-10 logarithm buttom.)*** \n",
    "5. $b^{log_d{a}} = a{log_d{b}}$ (e.g.: $2^{logn} = n^{log2} = n^1 = n$)\n",
    "\n",
    "#### 3. The Linear Function *($f(n) = n$, the best running time we can hope to achieve)*\n",
    "Another simple yet important function, the linear function *f*  assigns the given input value n itself.\\\n",
    "This function arises in algorithm analysis any time we have to do a single basic operation for each of n element. \\\n",
    "e.g. compare a number to each element of a sequence; \n",
    "\n",
    "#### 4. The N-log-N Function *($f(n) = nlogn$)* \n",
    "e.g. the fastest possible algorithms for sorting n arbitrary values require time proportional to nlogn.\n",
    "\n",
    "#### 5. The Quadratic Function *($f(n) = n^2$)*\n",
    "This function mainly is happened because there is nested loop while inner loop need a linear n times of operations and outer loop need another linear n times of operations as well, that is n * n operations. \\\n",
    "Another case of nested loop also can be described by Quadratic Function, where the first loop use one operation, the second loop use two operations, and so on （aka, Arithmetic Sequence). Cause $1 + 2 + 3 + ... + (n-1) + n = (n * (n-1)) /2 = (n^2 + n) /2$ (In this case, although the number of operations of inner loop just over half n, the order of growth is still quadratic n.\n",
    "\n",
    "#### 6. The Cubic Function and other Polynomials *($f(n) = n^3$, $f(n) = a_0+a_1n^1+a_2n^2+a_3n^3+\\dots+a_{d-1}n^{d-1}+a_dn^d$, )*\n",
    "***Polynomials***\n",
    "When $a_0,a_1,\\dots,a_{d-1},a_d$ are constants, we usually call them as coefficients and $a_d ≠ 0$. Integer d, which is the highest power in the polynomial, is called the degree of polynomial.\n",
    "And the running times that are polynomials with lower degree are generally better than polynomials with higher degree. \\\n",
    "***Summations***\n",
    "$\\sum_{i=a}^b f(i) = f(a+1) + f(a+2) + f(a+3) + ... + f(b)$ \\\n",
    "Summation notations give us a shorthand way to express the sums of increasing terms that have a regular structure:\\\n",
    "e.g. $\\sum_{i=0}^d f(n) = a_in^i$\n",
    "\n",
    "#### 7. The Exponential Function *($f(n) = b^n$)*\n",
    "In exponential function, base ***b*** is a positive constant and the input argument n is the exponent. \\\n",
    "The function f(n) assign to the input n the value obtained by multiplying the base *b* by itself *n* times \\\n",
    "Like Logarithm Function, the most common base is b = 2 \\\n",
    "**Proposition 3.4 (Exponent Rules): (Given positive integers a, b, and c)** \n",
    "1. $(b^a)^c = b^{ac}$\n",
    "2. $b^ab^c = b^{a+c}$\n",
    "3. $b^a/b^c = b^{a-c}$ \n",
    "\n",
    "For example: $ 256 = 16^2 = (2^4)^2 = 2^{4*2} = 2^4*2^4 = 2^{4+4} = 2^{10}/2^2 = 2^{10-2} = 2^8  $ \\\n",
    "\n",
    "given an integer k, we define $b^{1/k}$ to be the $k^{th}$ root of b\n",
    "\n",
    "***Geometric Sums***\n",
    "$\\sum_{i=0}^n a^i = 1 + a^1 + a^2 + a^3 + \\dots + a^n = \\frac{a^{n+1}-1}{a-1}$ \\\n",
    "from the equation above we can see each element is geometrically larger than previous one if a > 0. \\\n",
    "For example : $1 + 2 + 4 + 8 + \\dots + 2^{n-1} = 2^n - 1$\n",
    "\n",
    "\n",
    "#### 3.2.1 Comparing Growth Rates\n",
    "\n",
    "| constant | logarithm  | linear  | n-log-n  | quadratic  | cubic  | exponential |\n",
    "|:--------:|:----------:|:-------:|:--------:|:----------:|:------:|:-----------:|\n",
    "|1 | $logn$| $n$|$nlogn$|$n^2$|$n^3$|$b^n$| \\\n",
    "\n",
    "![Comparing Growth Rates](comparinggrowthrates.png)\n"
   ]
  },
  {
   "cell_type": "markdown",
   "id": "c6e0cfba437d1b95",
   "metadata": {
    "collapsed": false
   },
   "source": [
    "### 3.3 Asymptotic Analysis\n",
    "In algorithms analysis, it is important to focus on \"big-picture\", for example, it's usually enough to know the running time of an algorithm grows proportionally to n. Which means we will use the method of map the size of input n to value that correspond to the main factor but disregard the constant factors. (e.g. Using Pseudo-code or high-level language implementation may correspond to a small number of primitive operations.)  \\\n",
    "\n",
    "We revisit an example from Chapter 1 to which the goal is finding the largest number: \\\n",
    "```python \n",
    "def find_max(data:list):\n",
    "    # Returning the largest number from a nonempty Python list:     \n",
    "    max_num = data[0]\n",
    "    for var in data:\n",
    "        if var > max_num:\n",
    "            max_num = var\n",
    "    return max_num\n",
    "```\n",
    "This is class example of an algorithm with a running time grows proportionally to n. \\\n",
    "\n",
    "#### 3.3.1 The \"Big-O\" Notation\n",
    "#### *\\#It's an asymptotic way to say \"a function is less than or equal to another function\\#*\n",
    "Pronounce as \"f(n) is big-Oh of g(n)\" \\\n",
    "If there is a real constant c > 0 and an integer constant $n_0 > 1$, then we say : $f(n)$ is $O(g(n))$ \\\n",
    "such that = $f(n) \\le c(g)$, for $ n \\ge n_0$ \\\n",
    "\n",
    "\n",
    "*For a quadratic function as an example, f(n) = 3n^2 + 100n* \\ \n",
    "*It means, for a small number of inputs n, like 1 or 2, the n^2 doesn't be a big matter, until it grows into a big enough number, let's say 10000, then the running time is nearly all depend on the $n^2$ factor but not the 3 or the 100n anymore. \\\n",
    "That is, as $g(n) = n^2$, the $f(n) = 3g(n) + 100n$, with a large enough input, $f(n) = O(g(n))=O(n^2)$, which can also call $f(n)$ is $O(g(n))$ or $f(n)$ is $O(n^2)$.* \\\n",
    "*And all these thinking, is helping us to understand, to calculate the running time (or time complexity), we need to focus on the real matter part, the g(n), which in this case, is $n^2$*\n",
    "\n",
    "#### **Some properties of the Big-Oh Notation**\n",
    "\n",
    "1. $5n^4 + 3n^3 + 2n^2 + 4n + 1$ is $O(n^4)$ \\\n",
    "    **Justification:** $5n^4+3n^3+2n^2+4n+1 \\le (5+4+3+2+1)n^4 = cn^4$ \\\n",
    "    for c = 15 when $n \\ge n_0 = 1$\\ \n",
    "2. If $f(n)$ is a polynomial of degree d, that is, $f(n) = a_0 + a_1n + \\dots + a_dn^d$\\\n",
    "    and $a_d > 0$, then $f(n)$ is $O(n^d)$ \\\n",
    "    **Justification:** $n \\ge 1$  we have $ 1 \\le n \\le n^2 \\le n^3 \\le \\dots \\le n^d $ hence \\\n",
    "    $a_0+a_1n+a_2n^2+a_3n^3+\\dots+a_dn^d \\le (|a_0|+|a_1|+|a_2|+|a_3|+\\dots+|a_d|)n^d$ \\\n",
    "    We show that $f(n)$ is $O(n^d)$ by defining $c = |a_0|+|a_1|+\\dots+|a_d|$ and $n_0 = 1$ \\\n",
    "    So: $f(n)= O(n^d)$ \\\n",
    "3. $5n^2+3nlogn+2n+5$ is $O(n^2)$. \\\n",
    "    **Justification:** $5n^2+3nlogn+2n+5 \\le (5+3+2+5)n^2 = cn^2$ for $c =15$ when $n \\ge n_0 = 1$ \n",
    "\n",
    "4. $20n^3+10nlogn+5$ is $O(n^3)$ \\\n",
    "    **Justification:** $20n^3 + 10nlogn + 5 \\le 35n^3$ for $n\\ge 1$  \n",
    "\n",
    "5. $3logn + 2$ is $O(logn)$ \\\n",
    "    **Justification:** $3logn+2 \\le 5logn$, for $n\\ge2$  ($logn = 0$ for n = 1, that's why we use $n\\ge n_0=2$in this case) \\\n",
    "6. $2^{n+2}$ is $O(2^n)$ \\\n",
    "    **Justification:** $2^{n+2} = 2^n * 2^2 = 4 * 2^n$; we can take $c = 4$ and $n_0=1$ in this case. \n",
    "7. $2n+100logn$ is $O(n)$ \\\n",
    "    **Justification:** $2n+100log\\le 102n$, for $n\\ge n_0 = 1$, we can take c = 102 in this case.\n",
    "\n",
    "#### ***==== WE SHOULD ALWAYS KEEP OUR BIG-OH NOTATION ACCURATELY AND SIMPLY AS POSSIBLE! ====*** \n",
    "\n",
    "#### Big-Omega\n",
    "#### *\\#it's an asymptotic way to say \"a function is larger than or equal to another function\" \\#*\n",
    "Pronounce as \"f(n) is big-Omega of g(n)\" \\\n",
    "If there is a real constant c > 0 and an integer constant $n_0 > 1$, then we say : $f(n)$ is $\\Omega(g(n))$ \\\n",
    "such that = $f(n) \\ge c(g)$, for $ n \\ge n_0$\n",
    "#### ** Property of the Big-Omega Notation **\n",
    "1. $3nlogn - 2n $ is $\\Omega(nlogn)$ \\\n",
    "    **Justification:** $3nlogn-2n = nlogn+2n(logn-1) \\ge nlogn$ for $n \\ge 2$; hence, we can take c =1 and $n_0 = 2$ in this case.\n",
    "\n",
    "#### Big-Theta\n",
    "#### *\\#it's an asymptotic way to say \"two functions grow at the same rate, up to constant factor\" \\#*\n",
    "Pronounce as \"f(n) is big-Theta of g(n)\" \\\n",
    "If $f(n)$ is $O(g(n))$ and $f(n)$ is $\\Omega(g(n))$ and there is a real constant $c'\\gt 0$ and $c'' \\gt 0$ an integer constant $n_0 > 1$, then we say : $f(n)$ is $\\Theta(g(n))$, \\\n",
    "such that = $c'g(n) \\le f(n) \\le c''g(n)$, for $n\\ge n_0$\n",
    "\n",
    "#### **Property of the Big-Theta Notation**\n",
    "1. $3nlogn + 4n + 5logn$ is $\\Theta(nlogn)$.\n",
    "    **Justification:** $3nlogn \\le 3nlogn + 4n+5logn \\le (3+4+5)nlogn$ for $n\\ge 2$"
   ]
  },
  {
   "cell_type": "markdown",
   "id": "26b9221d562df6cd",
   "metadata": {
    "collapsed": false
   },
   "source": [
    "### 3.4 Simple Justification Techniques\n",
    "#### 3.4.1 By example:\n",
    "- If we need to justify a claim:\" There is an element x in a set S that has property P\"\\\n",
    "    We only need to produce a particular x in set S with property P\n",
    "- If we need to justify a claim:\" Every element x in a set S that has property P\" is False \\\n",
    "    We just need to produce a particular x in set S that does not have property P ***(Counter Example)***\n",
    "\n",
    "#### 3.4.2 The \"Contra\" Attack:\n",
    "#### *DeMorgan's Law*: \n",
    "\"*p* or *q*\"  is \"not *p* and not *q*\" \\\n",
    "\"*p* and *q*\" is \"not *p* or not *q*\".\n",
    "\n",
    "***Contrapositive*** statement: \"If *p* is true, then *q* is true\" == \"If *q* is not true, then *p* is not true.\" Which mean the first statement is the contrapositive of the second statement. \n",
    "\n",
    "***Contradiction*** If there is a statement that *p* is true, then supposing that *q* is false and then showing that this assumption leads to a contradiction (such as $2≠2$ or $1\\gt3$). By reaching such a contradiction, we show that no consistent situation exists with *q* being false, so *q* must be true.\n",
    "\n",
    "**Example:** \"Let *a* and *b* be integers, if *ab* is even, then *a* is even or *b* is even.\"\n",
    "\n",
    "**Justification 1:** *(In contrapositive way)* \n",
    "1. Change the statemenet into: \"If *a* and *b* are odds, then *ab* is odd.\"\n",
    "2. Suppose $a=2j+1$ and $b=2k+1$ for some integer\n",
    "3. Then $ab = 4jk+2j+2k+1 = 2(2jk+j+k)+1$ hence, *ab* is odd \n",
    "\n",
    "**Example:** \"Let *a* and *b* be integers, if *ab* is odd, then *a* is odd and *b* is odd.\"\n",
    "\n",
    "**Justification 2:** *(In contradiction way)*\n",
    "1. Let *ab* be odd (and we with to show that *a* is odd and *b* is odd).\n",
    "2. Assuming the opposite: supposing *a* is even or *b* is even\n",
    "3. Then $a = 2j$ for some integer *j*\n",
    "4. Hence $ab=(2j)b=2(jb)$ that is *ab* is even which is a contradiction given *ab* can't be simlutaneously.\n",
    "5. Therefore, a is odd and b is odd.\n",
    "\n",
    "#### 3.4.3 Induction and Loop invariants\n",
    "#### Induction\n",
    "Steps break through how to prove that for any particular $n\\ge1$, there is a finite sequence of impliactions that start with something known to be true and ultimately leads to showing that $q(n)$ is true  :\n",
    "1. Prove $q(n)$ is true for n=1 (and probably for other values $n=2,3,\\dots,k$ for some constant *k*)\n",
    "2. Then justify that the inductive \"step\" is true for $n\\gt k$\n",
    "3. if $q(j)$ is true for all $j\\lt n$, then $q(n)$ is true\n",
    "\n",
    "**Example:** Consider the Finbonacci function $F(n)$, which is defined such that $F(1)=1$, $F(2)=2$, and $F(n)=F(n-1)+F(n-2)$ for $n\\gt 2$ We claim that $F(n)\\lt 2^n$ \n",
    "\n",
    "**Justification:**\n",
    "1. Base cases($n\\le 2$): $F(1)=1\\lt 2=2^1$ and $F(2)=2\\lt 4=2^2$\n",
    "2. Induction Step($n\\gt 2$): Suppose it is true for all $n'\\lt n$\n",
    "3. Consider $F(n)$ since $n>2$, $F(n)=F(n-2)+F(n-1)$\n",
    "4. Moreover, since both $n-1$ and $n-2$ are less than n, we can apply the inductive hypothesis that $F(n)\\lt 2^{n-2}+2^{n-1} \\lt 2^{n-1}+2^{n-1} = 2*2^{n-1}=2^n$ \n",
    "\n",
    "#### Loop Invariants\n",
    "To prove some statement $L$ about a loop is correct, define $L$ in terms of a series of smaller statements $L_0, L_1, \\dots , L_k$, where:\n",
    "1. The initial claim, $L_0$ is true before the loop begins\n",
    "2. If $L_{j-1}$ is true before iteration $j$, then $L_j$ will be true after iteration $j#\n",
    "3. The final statement, $L_k$, implies the desired statement $L$ to be true.\n",
    "```python\n",
    "def find(S, val):\n",
    "    \"\"\"Returning index j such that S[j] == val, or -1 if no such element\"\"\"\n",
    "    n = len(s)\n",
    "    j = 0\n",
    "    while j < n:\n",
    "        if S[j] == val:\n",
    "            return S[j]\n",
    "        j += 1\n",
    "    return -1\n",
    "```\n",
    "For this loop, we claim the following is true at the beginning of iteration $j$ of the **while** loop:\n",
    "1.  $L_j$: *val* is not equal to any of the first $j$ elements of S(This claim is true at the beginning of the first interation of the loop, because $j$ is 0 and there are no elements among the first 0 in S(**vacuously** true claim))\n",
    "2.  In iteration $j$, we compare element val to element $S[j]$ and return the index $j$ if these two elements are equivalent.\n",
    "3.  If the two elements *val* and $S[j]$ are not equal, then find one more element by increasing the index $j$ \n",
    "4.  Thus, the claim $L_j$ will be true for this new value of $j$, hence, it's true at the beginning of the next iteration.\n",
    "5.  If the while loop terminates without ever returning an index in $S$, then we have j=n.\n",
    "6.  That is $L_n$ is true that there are no elements of $S$ equal to *val*. \n",
    "7.  Therefore, the algorithm return -1 to indicate thet val is not in S.\n"
   ]
  },
  {
   "cell_type": "markdown",
   "id": "b73f3f66",
   "metadata": {},
   "source": [
    "### 3.5 Excercises\n",
    "#### Reinforcement"
   ]
  },
  {
   "cell_type": "code",
   "execution_count": 16,
   "id": "e8a738a5",
   "metadata": {},
   "outputs": [],
   "source": [
    "import math\n",
    "from mpmath import mp\n",
    "import matplotlib as mpl\n",
    "import matplotlib.pyplot as plt\n",
    "import numpy as np\n",
    "import random"
   ]
  },
  {
   "cell_type": "markdown",
   "id": "25a433d8",
   "metadata": {},
   "source": [
    "#### R-3.1\n",
    "Graph the functions $8n$, $4n$, $\\log n$, $2n^2$ $n^3$ and $2^n$ using a logarithmic scale for the x- and y-axes; that is, if the function value $f(n)$ is $y$ plot this as a point with x-coordinate at $logn$ and y-coordinate at $\\log y$.\n"
   ]
  },
  {
   "cell_type": "markdown",
   "id": "657d89e5",
   "metadata": {},
   "source": [
    "#### Answer:"
   ]
  },
  {
   "cell_type": "code",
   "execution_count": 13,
   "id": "cdea243c",
   "metadata": {},
   "outputs": [
    {
     "data": {
      "image/png": "[encoded data removed]",
      "text/plain": [
       "<Figure size 1200x800 with 1 Axes>"
      ]
     },
     "metadata": {},
     "output_type": "display_data"
    }
   ],
   "source": [
    "\n",
    "mp.dps = 50\n",
    "def save_log_2(n):\n",
    "    return round(math.log2(n),2) if n > 0 else 0\n",
    "\n",
    "def plot_log_scale_functions():\n",
    "    n = np.arange(1,501).astype(int)\n",
    "    function_dict = {\"8n\": lambda x: 8 * x,\n",
    "                    \"4n\": lambda x: 4 * x,\n",
    "                    \"logn\": lambda x: round(math.log2(x),2) if x > 2 else 0,\n",
    "                    \"nlogn\": lambda x: round(math.log2(x),2) * x if x > 2 else 0,\n",
    "                    \"2n^2\": lambda x: mp.power(x, 2) * 2,\n",
    "                    \"n^3\": lambda x: mp.power(x, 2),\n",
    "                    \"2**n\": lambda x: mp.power(2, x)}\n",
    "\n",
    "    plt.figure(figsize=(12,8))\n",
    "    plt.yscale('log')\n",
    "    plt.xscale('log')\n",
    "\n",
    "    for name, func in function_dict.items():\n",
    "        y = [func(x) for x in n]\n",
    "        plt.plot(n, y, label=name)\n",
    "    \n",
    "    plt.legend()\n",
    "    plt.grid(True)\n",
    "    plt.show()\n",
    "\n",
    "plot_log_scale_functions()"
   ]
  },
  {
   "cell_type": "markdown",
   "id": "96420795",
   "metadata": {},
   "source": [
    "\n",
    "#### R-3.2\n",
    "The number of operations executed by algorithms $A$ and $B$ is $8n log n$ and $2n^2$ respectively. Determine $n_0$ such that $A$ is better than $B$ for $n \\geq n_0$.\n"
   ]
  },
  {
   "cell_type": "markdown",
   "id": "6e482481",
   "metadata": {},
   "source": [
    "#### Answer:"
   ]
  },
  {
   "cell_type": "code",
   "execution_count": 14,
   "id": "cd57cc02",
   "metadata": {},
   "outputs": [
    {
     "name": "stdout",
     "output_type": "stream",
     "text": [
      "n_0 = 2, a = 16, b = 8\n",
      "n_0 = 3, a = 48, b = 18\n",
      "n_0 = 4, a = 64, b = 32\n",
      "n_0 = 5, a = 80, b = 50\n",
      "n_0 = 6, a = 144, b = 72\n",
      "n_0 = 7, a = 168, b = 98\n",
      "n_0 = 8, a = 192, b = 128\n",
      "n_0 = 9, a = 216, b = 162\n",
      "n_0 = 10, a = 240, b = 200\n",
      "n_0 = 11, a = 264, b = 242\n",
      "n_0 = 12, a = 384, b = 288\n",
      "n_0 = 13, a = 416, b = 338\n",
      "n_0 = 14, a = 448, b = 392\n",
      "n_0 = 15, a = 480, b = 450\n",
      "n_0 = 16, a = 512, b = 512\n",
      "n_0 is 16\n"
     ]
    }
   ],
   "source": [
    "n_0 = 2\n",
    "a = 1\n",
    "b = 0\n",
    "while True:\n",
    "    a = 8*n_0*round(math.log2(n_0))\n",
    "    b = 2*(n_0**2)\n",
    "    print(f'n_0 = {n_0}, a = {a}, b = {b}')\n",
    "    if a <= b:\n",
    "        break\n",
    "    n_0 += 1\n",
    "    \n",
    "print(f\"n_0 is {n_0}\")"
   ]
  },
  {
   "cell_type": "markdown",
   "id": "c256d74c",
   "metadata": {},
   "source": [
    "\n",
    "#### R-3.3\n",
    "The number of operations executed by algorithms $A$ and $B$ is $40n^2$ and $2n^3$ respectively. Determine $n_0$ such that $A$ is better than $B$ for $n \\geq n_0$."
   ]
  },
  {
   "cell_type": "markdown",
   "id": "340da858",
   "metadata": {},
   "source": [
    "#### Answer:"
   ]
  },
  {
   "cell_type": "code",
   "execution_count": 15,
   "id": "9a223407",
   "metadata": {},
   "outputs": [
    {
     "name": "stdout",
     "output_type": "stream",
     "text": [
      "n_0 = 1, a = 40, b = 2\n",
      "n_0 = 2, a = 160, b = 16\n",
      "n_0 = 3, a = 360, b = 54\n",
      "n_0 = 4, a = 640, b = 128\n",
      "n_0 = 5, a = 1000, b = 250\n",
      "n_0 = 6, a = 1440, b = 432\n",
      "n_0 = 7, a = 1960, b = 686\n",
      "n_0 = 8, a = 2560, b = 1024\n",
      "n_0 = 9, a = 3240, b = 1458\n",
      "n_0 = 10, a = 4000, b = 2000\n",
      "n_0 = 11, a = 4840, b = 2662\n",
      "n_0 = 12, a = 5760, b = 3456\n",
      "n_0 = 13, a = 6760, b = 4394\n",
      "n_0 = 14, a = 7840, b = 5488\n",
      "n_0 = 15, a = 9000, b = 6750\n",
      "n_0 = 16, a = 10240, b = 8192\n",
      "n_0 = 17, a = 11560, b = 9826\n",
      "n_0 = 18, a = 12960, b = 11664\n",
      "n_0 = 19, a = 14440, b = 13718\n",
      "n_0 = 20, a = 16000, b = 16000\n",
      "While n_0 < 20, algorithms A is better than B\n"
     ]
    }
   ],
   "source": [
    "def executed_better():\n",
    "    n_0 = 1\n",
    "    while True:\n",
    "        a = 40*(n_0**2)\n",
    "        b = 2*(n_0**3)\n",
    "        print(f\"n_0 = {n_0}, a = {a}, b = {b}\")\n",
    "        if a <= b:\n",
    "            print(f\"While n_0 < {n_0}, algorithms A is better than B\")\n",
    "            break\n",
    "        n_0 += 1\n",
    "\n",
    "executed_better()"
   ]
  },
  {
   "cell_type": "markdown",
   "id": "30c95dbb",
   "metadata": {},
   "source": [
    "\n",
    "#### R-3.4\n",
    "Give an example of a function that is plotted the same on a log-log scale as it is on a standard scale.\n"
   ]
  },
  {
   "cell_type": "markdown",
   "id": "41be56dc",
   "metadata": {},
   "source": [
    "#### Answer:"
   ]
  },
  {
   "cell_type": "code",
   "execution_count": 16,
   "id": "59b50669",
   "metadata": {},
   "outputs": [
    {
     "data": {
      "image/png": "[encoded data removed]",
      "text/plain": [
       "<Figure size 1600x800 with 2 Axes>"
      ]
     },
     "metadata": {},
     "output_type": "display_data"
    }
   ],
   "source": [
    "func3_4 = lambda x: x\n",
    "n = np.arange(0,10001)\n",
    "\n",
    "def plot_two_scale(narange, func):\n",
    "    plt.figure(figsize=(16,8))  \n",
    "\n",
    "    #First plot with standard scale\n",
    "    plt.subplot(121)\n",
    "    plt.plot(narange, func(n))\n",
    "    \n",
    "    #Second plot with log-log scale\n",
    "    plt.subplot(122)\n",
    "    plt.xscale('log')\n",
    "    plt.yscale('log')\n",
    "    plt.plot(narange, func(n))\n",
    "\n",
    "    plt.show()\n",
    "\n",
    "plot_two_scale(n, func3_4)"
   ]
  },
  {
   "cell_type": "markdown",
   "id": "2a0ca74c",
   "metadata": {},
   "source": [
    "\n",
    "#### R-3.5\n",
    "Explain why the plot of the function $n^c$ is a straight line with slope $c$ on a log-log scale.\n"
   ]
  },
  {
   "cell_type": "markdown",
   "id": "263d9322",
   "metadata": {},
   "source": [
    "#### Answer:\n",
    "for $y = n^c$ \\ \n",
    "if we use log-log axis scale, that mean: \\\n",
    "$logy = log{n^c}$\\\n",
    "$logy = c * log(n)$\\\n",
    "which totally match the standard linear equation: $y = ax + b$\\\n",
    "where $y = logy$, $a = c$, $x = logn$ and $b = 0$\n",
    "\n",
    "\n",
    "```python\n",
    "func3_4 = lambda x: x ** 3\n",
    "n = np.arange(100,10001)\n",
    "\n",
    "def plot_two_scale(narange, func):\n",
    "    plt.figure(figsize=(16,8))  \n",
    "\n",
    "    #First plot with standard scale\n",
    "    plt.subplot(121)\n",
    "    plt.plot(narange, func(n))\n",
    "    \n",
    "    #Second plot with log-log scale\n",
    "    plt.subplot(122)\n",
    "    plt.xscale('log')\n",
    "    plt.yscale('log')\n",
    "    plt.plot(narange, func(n))\n",
    "\n",
    "    plt.show()\n",
    "\n",
    "plot_two_scale(n, func3_4)  \n",
    "```"
   ]
  },
  {
   "cell_type": "markdown",
   "id": "d2fbecf0",
   "metadata": {},
   "source": [
    "\n",
    "#### R-3.6\n",
    "What is the sum of all the even numbers from $0$ to $2n$ for any positive integer $n$?\n"
   ]
  },
  {
   "cell_type": "markdown",
   "id": "e041b6c1",
   "metadata": {},
   "source": [
    "#### Answer:\n",
    "Because every even number has a difference of d = 2, \\ \n",
    "So, from 0 to 2n, there are n numbers of values, \\\n",
    "That is , an arithmetic sequence. \n",
    "As such, the sum of all the even numbers from 0 to 2n is:\n",
    "$S(2n) = \\frac{n*(a_0 + a_n)}{2} = \\frac{n*(0+2n)}{2} = \\frac{2n^2}{2} = n^2$\n",
    "\n",
    "As a result, the sum of all even numbers from 0 to 2n is: $n^2$\n"
   ]
  },
  {
   "cell_type": "markdown",
   "id": "97931c7e",
   "metadata": {},
   "source": [
    "\n",
    "#### R-3.7\n",
    "Show that the following two statements are equivalent:  \n",
    "(a) The running time of algorithm $A$ is always $O(f(n))$.  \n",
    "(b) In the worst case, the running time of algorithm $A$ is $O(f(n))$.\n"
   ]
  },
  {
   "cell_type": "markdown",
   "id": "5444625b",
   "metadata": {},
   "source": [
    "#### Answer:\n",
    "When we need to consider the running time of an algorithm, it's always need to consider the worst case. That's because the \"average case\" it's really hard to depend and the running time would be very diversed. In addition, the big O notation implies the upper bound on growth rate, which is the maximum time complexity, same as the worst case effort. As a result, the The running time of algorithm A is always $O(f(n))$ is equivalent to the worst case running time : $O(f(n))$"
   ]
  },
  {
   "cell_type": "markdown",
   "id": "a32dc920",
   "metadata": {},
   "source": [
    "\n",
    "#### R-3.8\n",
    "Order the following functions by asymptotic growth rate:  \n",
    "|$4n \\log n + 2n$ |$2^{10}$ |$2^{\\log n}$  |\n",
    "| --- | --- | --- |\n",
    "|$3n + 100 \\log n$ |$4n$ |$2^n$  |\n",
    "|$n^2 + 10n$ |$n^3$|$nlogn$|\n"
   ]
  },
  {
   "cell_type": "markdown",
   "id": "f7e1a554",
   "metadata": {},
   "source": [
    "#### Answer:\n",
    "For all these functions, we can see from top to bottom, from left to right of the sheet that:\n",
    "1. $4nlogn+2n = 2n(2logn+1) \\le 2n(3logn) = 6nlogn$, for $n \\ge 2$, that is $O(nlogn)$\n",
    "2. $2^10$ is constant, which is $O(1)$\n",
    "3. $2^{logn}= nlog2 \\le nlogn$, for $n \\ge 2$, that is $O(nlogn)$\n",
    "4. $3n + 100logn \\le 3n + 100n = 103n$, for $n \\ge 1 $, that is $O(n)$\n",
    "5. $4n$ is $O(n)$\n",
    "6. $2^n$ is $O(2^n)$\n",
    "7. $n^2 + 10n \\le n^2 + 10n^2 = 11n^2$ is $O(n^2)$\n",
    "8. $n^3$ is $O(n^3)$\n",
    "9. $nlogn$ is $O(nlogn)$\n",
    "\n",
    "hence, the order of asymptotic growth rate is: $2^10 \\lt 3n +100logn = 4n\\lt 4nlogn+2n = 2^{logn} = nlogn \\lt n^2+10n \\lt n^3 \\lt 2^n$"
   ]
  },
  {
   "cell_type": "markdown",
   "id": "53f8424c",
   "metadata": {},
   "source": [
    "\n",
    "#### R-3.9\n",
    "Show that if $d(n)$ is $\\mathcal{O}(f(n))$, then $a \\cdot d(n)$ is $\\mathcal{O}(f(n))$, for any constant $a > 0$.\n"
   ]
  },
  {
   "cell_type": "markdown",
   "id": "ba766ba4",
   "metadata": {},
   "source": [
    "#### Answer:\n",
    "When $d(n)$ is $\\mathcal{O}(f(n))$, that means $d(n) \\le c\\cdot f(n)$ for $n\\ge n_0$.\\\n",
    "For $\\forall a \\gt 0$, let $c'=a\\cdot c$. We have $a \\cdot d(n) \\le  c'\\cdot f(n)$ \n",
    "Thus, $a\\cdot d(n)$ is $\\mathcal{O}(f(n))$"
   ]
  },
  {
   "cell_type": "markdown",
   "id": "2cb3d7e9",
   "metadata": {},
   "source": [
    "\n",
    "#### R-3.10\n",
    "Show that if $d(n)$ is $\\mathcal{O}(f(n))$ and $e(n)$ is $\\mathcal{O}(g(n))$, then the product $d(n) \\cdot e(n)$ is $\\mathcal{O}(f(n) \\cdot g(n))$.\n"
   ]
  },
  {
   "cell_type": "markdown",
   "id": "22dd9b12",
   "metadata": {},
   "source": [
    "#### Answer:\n",
    "When $d(n)$ is $\\mathcal{O}(f(n))$ and $e(n)$ is $\\mathcal{O}(g(n))$, that means $d(n) \\le c\\cdot f(n) $ and $e(n) \\le c\\cdot g(n)$ for $n\\ge n_0$ \\\n",
    "Let $c' = c\\cdot c = c^2$ \\\n",
    "That means, $d(n)\\cdot e(n) \\le c^2 \\cdot f(n) \\cdot g(n) = c' \\cdot (f(n) \\cdot g(n))$, Thus, $d(n)\\cdot e(n)$ is $\\mathcal{O}(f(n)\\cdot g(n))$ "
   ]
  },
  {
   "cell_type": "markdown",
   "id": "64160a70",
   "metadata": {},
   "source": [
    "\n",
    "#### R-3.11\n",
    "Show that if $d(n)$ is $\\mathcal{O}(f(n))$ and $e(n)$ is $\\mathcal{O}(g(n))$, then $d(n) + e(n)$ is $\\mathcal{O}(f(n) + g(n))$.\n"
   ]
  },
  {
   "cell_type": "markdown",
   "id": "f995cc79",
   "metadata": {},
   "source": [
    "#### Answer:\n",
    "When $d(n)$ is $\\mathcal{O}(f(n))$ and $e(n)$ is $\\mathcal{O}(g(n))$, that means $d(n) \\le c\\cdot f(n) $ and $e(n) \\le c\\cdot g(n)$ for $n\\ge n_0$ \\\n",
    "That means, $d(n) + e(n) \\le c \\cdot f(n) + c \\cdot g(n) = c \\cdot (f(n) + g(n))$, Thus, $d(n)\\cdot e(n)$ is $\\mathcal{O}(f(n) + g(n))$ "
   ]
  },
  {
   "cell_type": "markdown",
   "id": "28d0454f",
   "metadata": {},
   "source": [
    "\n",
    "#### R-3.12\n",
    "Show that if $d(n)$ is $\\mathcal{O}(f(n))$ and $e(n)$ is $\\mathcal{O}(g(n))$, then $d(n) - e(n)$ is not necessarily $\\mathcal{O}(f(n) - g(n))$.\n"
   ]
  },
  {
   "cell_type": "markdown",
   "id": "8dbfa653",
   "metadata": {},
   "source": [
    "#### Answer:\n",
    "When $d(n)$ is $\\mathcal{O}(f(n))$ and $e(n)$ is $\\mathcal{O}(g(n))$, that means $d(n) \\le c\\cdot f(n) $ and $e(n) \\le c\\cdot g(n)$ for $n\\ge n_0$ \\\n",
    "However, by the condition above we can just get that $d(n)-e(n)\\le O(f(n))-e(n)$ but we can not prove $d(n)-e(n)$ must less than $f(n)-g(n)$, hence, $d(n)-e(n)$ is not necessarily $f(n)-g(n)$\n"
   ]
  },
  {
   "cell_type": "markdown",
   "id": "58b506b8",
   "metadata": {},
   "source": [
    "\n",
    "#### R-3.13\n",
    "Show that if $d(n)$ is $\\mathcal{O}(f(n))$ and $f(n)$ is $\\mathcal{O}(g(n))$, then $d(n)$ is $\\mathcal{O}(g(n))$.\n"
   ]
  },
  {
   "cell_type": "markdown",
   "id": "1999da2c",
   "metadata": {},
   "source": [
    "#### Answer:\n",
    "From $d(n)$ is $\\mathcal{O}(f(n))$ and $f(n)$ is $\\mathcal{O}(g(n))$, we can know that $d(n) \\le c\\cdot f(n)$, $ f(n) \\le \\cdot g(n) $\\\n",
    "then we can easily get an inequaility: $d(n) \\le c\\cdot f(n) \\le c\\cdot c \\dot g(n) = c^2\\cdot g(n) $\\\n",
    "That is, $d(n)$ is $\\mathcal{O}(g(n))$\n"
   ]
  },
  {
   "cell_type": "markdown",
   "id": "33c49b88",
   "metadata": {},
   "source": [
    "\n",
    "#### R-3.14\n",
    "Show that $\\mathcal{O}(\\max\\{f(n), g(n)\\}) = \\mathcal{O}(f(n) + g(n))$."
   ]
  },
  {
   "cell_type": "markdown",
   "id": "8baa2289",
   "metadata": {},
   "source": [
    "#### Answer:\n",
    "1. Assume that $h(n)$ is $\\mathcal{O}(max\\{f(n), g(n)\\})$, which means $h(n) \\le c\\cdot max\\{f(n),g(n)\\} for $c > 0$ and $n\\ge n_0$\\\n",
    "And we know that for any non-negative function, we have $f(n)+g(n)\\ge max\\{f(n), g(n)\\}$, that means $max{f(n), g(n)}\\le c\\cdot (f(n)+g(n))$\\\n",
    "hence, we have $h(n) \\le c\\cdot max\\{f(n),g(n)\\} \\le c\\cdot (f(n)+g(n))$, which is the same as: $\\mathcal{O}(max\\{f(n),g(n)\\}) \\subseteq \\mathcal{O}(f(n)+g(n))$ \\\n",
    "2. Now assume that $h(n)$ is $\\mathcal{O}(f(n)+g(n))$, which means $h(n) \\le c\\cdot (f(n)+g(n))$\\\n",
    "And we know that $f(n)+g(n) \\le 2\\cdot max\\{f(n),g(n)\\}$, that is, $h(n) \\le c\\cdot (f(n)+g(n)) \\le c^2 \\cdot max\\{f(n),g(n)\\}$\\\n",
    "Hence we have, $\\mathcal{O}(max\\{f(n),g(n)\\}) \\subseteq \\mathcal{O}(f(n)+g(n))$\n",
    "\n",
    "    In conclusion, $\\mathcal{O}(f(n)+g(n)) = \\mathcal{O}(max\\{f(n),g(n)\\})$\n",
    " "
   ]
  },
  {
   "cell_type": "markdown",
   "id": "e5c2e1b8",
   "metadata": {},
   "source": [
    "#### R-3.15 \n",
    "Show that $f(n)$ is $O(g(n))$ if and only if $g(n)$ is $Ω(f(n))$.\n"
   ]
  },
  {
   "cell_type": "markdown",
   "id": "bedfa6e1",
   "metadata": {},
   "source": [
    "#### Answer:\n",
    "If $f(n)$ is $\\mathcal{O}(g(n))$, that means $f(n)\\le c\\cdot g(n)$, for constant $c\\ge 0, n\\ge n_0$,\\\n",
    "that means, $g(n)\\ge \\frac{1}{c}\\cdot f(n)$, cause $c\\ge 0$, which means $\\frac{1}{c} \\ge 0$,\\\n",
    "hence, $g(n)$ is $\\Omega(f(n))$"
   ]
  },
  {
   "cell_type": "markdown",
   "id": "69e9bd3a",
   "metadata": {},
   "source": [
    "#### R-3.16 \n",
    "Show that if $p(n)$ is a polynomial in $n$, then $log p(n)$ is $O(log n)$.\n"
   ]
  },
  {
   "cell_type": "markdown",
   "id": "6df829cc",
   "metadata": {},
   "source": [
    "#### Answer:\n",
    "If $p(n) = a_kn^k + a_{k-1}n^{k-1}+\\dots + a_3n^3 + a_2n^2+a_1n+a_0$, when $n -> \\infin$, $p(n) -> n^k $ and $k>0$,\\\n",
    "then $logp(n) -> log{n^k} = klogn$,\\ \n",
    "hence $logp(n) \\le c\\cdot k\\cdot logn$, for $c,k > 0$ $logp(n)$ is $\\mathcal{O}(logn)$\n",
    "\n",
    "\n"
   ]
  },
  {
   "cell_type": "markdown",
   "id": "b6feb32b",
   "metadata": {},
   "source": [
    "#### R-3.17 \n",
    "Show that (n + 1)^5 is O(n^5).\n",
    "\n"
   ]
  },
  {
   "cell_type": "markdown",
   "id": "024e4187",
   "metadata": {},
   "source": [
    "#### Answer:\n",
    "$(n+1)^5 = n^5 + 5n^4 + 10n^3 + 10n^2 + 5n + 1$ \\\n",
    "which means $(n+1)^5 \\le c\\cdot n^5$ for $c > 0$, and a large enought n \\\n",
    "hence, $(n+1)^5$ is $\\mathcal{O}(n^5)$"
   ]
  },
  {
   "cell_type": "markdown",
   "id": "8edd7da6",
   "metadata": {},
   "source": [
    "#### R-3.18 \n",
    "Show that $2^{(n+1)}$ is $O(2^n)$.\n",
    "\n"
   ]
  },
  {
   "cell_type": "markdown",
   "id": "6af49a04",
   "metadata": {},
   "source": [
    "#### Answer:\n",
    "$2^{(n+1)} = 2^n \\cdot 2 \\le 2\\cdot c\\cdot 2^n$ for $n\\ge n_0, c >2$ or let's just say $c = 80$,\\\n",
    "that is, we can ignore 2 and have $2^n \\le c\\cdot 2^n$ \\\n",
    "hence, $2^{(n+1)}$ is $\\mathcal{O}(2^n)$"
   ]
  },
  {
   "cell_type": "markdown",
   "id": "77957ec1",
   "metadata": {},
   "source": [
    "#### R-3.19 \n",
    "Show that $n$ is $O(n log n)$.\n",
    "\n"
   ]
  },
  {
   "cell_type": "markdown",
   "id": "ae2cd2e9",
   "metadata": {},
   "source": [
    "$n \\le n \\cdot c \\cdot logn $ for $n \\ge n_0, c > 1 $ \\\n",
    "which means:\\\n",
    "$1\\le c\\cdot logn$, \\\n",
    "$logn \\ge \\frac{1}{c}$,\\\n",
    "$n \\ge 2^\\frac{1}{c}$\n",
    "hence, n is $\\mathcal{O}(nlogn)$, for $n \\ge n_0 \\ge c$"
   ]
  },
  {
   "cell_type": "markdown",
   "id": "96d49a38",
   "metadata": {},
   "source": [
    "#### R-3.20 \n",
    "Show that $n^2$ is $Ω(n log n)$.\n",
    "\n"
   ]
  },
  {
   "cell_type": "markdown",
   "id": "5f325904",
   "metadata": {},
   "source": [
    "To show $n^2$ is $\\Omega(nlogn)$: \\\n",
    "which means $n^2 = n\\cdot n \\ge c\\cdot (nlogn) $,\\\n",
    "$n \\ge c\\cdot (logn)$ (for $n>0$),\\\n",
    "$\\frac{n}{logn}\\ge c$ (for $n>0$),\\\n",
    "Since $\\frac{n}{logn}$ can increase without bound, we can find any $n_0$ for $n\\gt n_0$ to let this inequality hold. \\\n",
    "Hence,  $n^2$ is $\\Omega(nlogn)"
   ]
  },
  {
   "cell_type": "markdown",
   "id": "9fa44261",
   "metadata": {},
   "source": [
    "#### R-3.21 \n",
    "Show that $n log n$ is $Ω(n)$.\n",
    "\n"
   ]
  },
  {
   "cell_type": "markdown",
   "id": "d8040e29",
   "metadata": {},
   "source": [
    "To show $nlogn$ is $\\Omega (n)$, which means $nlogn \\ge c\\cdot n$,\\\n",
    "$logn \\ge c$,\\\n",
    "$n \\ge 2^c$,\\\n",
    "Therefore, $nlogn$ is $\\Omega (n)$, for $n>n_0, c>0$"
   ]
  },
  {
   "cell_type": "markdown",
   "id": "8766d3f2",
   "metadata": {},
   "source": [
    "#### R-3.22 \n",
    "Show that $[f(n)]$ is $O(f(n))$, if $f(n)$ is a positive nondecreasing function that is always greater than 1.\n",
    "\n"
   ]
  },
  {
   "cell_type": "markdown",
   "id": "1209c48b",
   "metadata": {},
   "source": [
    "To show $[f(n)]$ is $O(f(n))$, which means $[f(n)] \\le c\\cdot f(n)$,\\\n",
    "As $[f(n)]$ means the floor of $f(n)$, which means $[f(n)] always \\le f(n)$, but $[f(n)]$ always $\\gt f(n)-1$ \\\n",
    "Then we have a inequality: $f(n)\\ge [f(n)] \\gt f(n)-1$\\\n",
    "It's also clear that, for any $c \\ge 1, [f(n)) \\le 1 \\cdot f(n) = c \\cdot f(n)$ ,\\\n",
    "Hence, we can conclude that $[f(n)] is O(f(n))$, for $c\\ge 1$,$n_0\\ge 1$"
   ]
  },
  {
   "cell_type": "markdown",
   "id": "b0c3e510",
   "metadata": {},
   "source": [
    "#### R-3.23 \n",
    "Give a big-Oh characterization, in terms of n, of the running time of the example1 function shown in Code Fragment 3.10.\n",
    "```python\n",
    "def example1(S):\n",
    "    \"\"\"Return the sum of the elements in sequence S.\"\"\"\n",
    "    n = len(S)\n",
    "    total = 0\n",
    "    for j in range(n):\n",
    "        total += S[j]\n",
    "    return total\n",
    "```\n"
   ]
  },
  {
   "cell_type": "markdown",
   "id": "420350cb",
   "metadata": {},
   "source": [
    "When example1 has only one loop in the function, each operation take O(1) time, hence the complexity of example1 is O(n)."
   ]
  },
  {
   "cell_type": "markdown",
   "id": "a71f34bc",
   "metadata": {},
   "source": [
    "#### R-3.24 \n",
    "Give a big-Oh characterization, in terms of n, of the running time of the example2 function shown in Code Fragment 3.10.\n",
    "```python\n",
    "def example2(S):\n",
    "    \"\"\"Return the sum of the elements with even index in sequence S.\"\"\"\n",
    "    n = len(S)\n",
    "    total = 0\n",
    "    for j in range(0, n, 2):\n",
    "        total += S[j]\n",
    "    return total\n",
    "```\n"
   ]
  },
  {
   "cell_type": "markdown",
   "id": "1e82133c",
   "metadata": {},
   "source": [
    "When example2 has only one loop in the function.\\\n",
    "In each iteration, the loop perform a constant-time operation.\\\n",
    "hence the total time complexity of example2 is proportional to the number of iteration, which is $O(n)$. "
   ]
  },
  {
   "cell_type": "markdown",
   "id": "661ea6a8",
   "metadata": {},
   "source": [
    "#### R-3.25 \n",
    "Give a big-Oh characterization, in terms of n, of the running time of the example3 function shown in Code Fragment 3.10.\n",
    "```python\n",
    "def example3(S):\n",
    "    \"\"\"Return the sum of the prefix sums of sequence S.\"\"\"\n",
    "    n = len(S)\n",
    "    total = 0\n",
    "    for j in range(n):\n",
    "        for k in range(1+j):\n",
    "            total += S[k]\n",
    "    return total\n",
    "```\n"
   ]
  },
  {
   "cell_type": "markdown",
   "id": "a6637584",
   "metadata": {},
   "source": [
    "When example3 has a nested loop, and for each inner loop, we can see it has an increasing from 1 to n, which match the pattern of arithmetic sequence.\\\n",
    "Therefore, the total number of operations is the sum of the number of iterations of the inner loop over all iterations of the outer loop,\\\n",
    "That is, the total number of operation is $1+2+3+\\dots+n-1+n = \\frac{n*(n+1)}{2}=\\frac{n^2}{2}+\\frac{n}{2}$, which grows quadratically.\\\n",
    "Hence, the complexity of example3 is $O(n^2)$"
   ]
  },
  {
   "cell_type": "markdown",
   "id": "07ae9c83",
   "metadata": {},
   "source": [
    "#### R-3.26\n",
    "Give a big-Oh characterization, in terms of n, of the running time of the example4 function shown in Code Fragment 3.10.\n",
    "```python\n",
    "def example4(S):\n",
    "    \"\"\"Return the sum of the prefix sums of sequence S.\"\"\"\n",
    "    n = len(S)\n",
    "    prefix = 0\n",
    "    total = 0\n",
    "    for j in range(n):\n",
    "        prefix += S[j]\n",
    "        total += prefix\n",
    "    return total\n",
    "```"
   ]
  },
  {
   "cell_type": "markdown",
   "id": "9dfa047a",
   "metadata": {},
   "source": [
    "$O(n)$"
   ]
  },
  {
   "cell_type": "markdown",
   "id": "e3562594",
   "metadata": {},
   "source": [
    "\n",
    "#### R-3.27 \n",
    "Give a big-Oh characterization, in terms of n, of the running time of the example5 function shown in Code Fragment 3.10.\n",
    "```python\n",
    "def example5(A, B):\n",
    "    \"\"\"Return the number of elements in B equal to the sum of prefix sums in A.\"\"\"\n",
    "    n = len(A)\n",
    "    count = 0\n",
    "    for i in range(n):\n",
    "        total = 0\n",
    "        for j in range(i+1):\n",
    "            for k in range(1+j):\n",
    "                total += A[k]\n",
    "        if B[i] == total:\n",
    "            count += 1\n",
    "    return count\n",
    "```\n"
   ]
  },
  {
   "cell_type": "markdown",
   "id": "23a5ee57",
   "metadata": {},
   "source": [
    "#### R-3.28 \n",
    "For each function f(n) and time t in the following table, determine the largest size n of a problem P that can be solved in time t if the algorithm for solving P takes f(n) microseconds (one entry is already completed).\n",
    "\n",
    "| | 1 Second | 1 Hour | 1 Month | 1 Century |\n",
    "| --- | --- | --- | --- | --- |\n",
    "| log n | ≈ $10^{300000}$ | | | |\n",
    "| n | | | | |\n",
    "| n log n | | | | |\n",
    "| n^2 | | | | |\n",
    "| 2^n | | | | |\n",
    "\n"
   ]
  },
  {
   "cell_type": "markdown",
   "id": "ac75de81",
   "metadata": {},
   "source": [
    "#### Answer:\n",
    "\n",
    "| | 1 Second | 1 Hour | 1 Month | 1 Century |\n",
    "| --- | --- | --- | --- | --- |\n",
    "| $log n$ | $≈10^{300000}$ | $\\approx 10^{1.08*10^{10}}$| $\\approx 10^{7.8*10^{12}}$ | $\\approx 10^{9.36*10^{15}}$ |\n",
    "| $n$ | $10^6$ | $3.6*10^9$ | $2.592*10^{12}$ | $3.11*10^{15}$ |\n",
    "| $nlogn$ | $6.27*10^4$ | $1.3338*10^8$ | $7.187*10^{10}$ | $6.76995 * 10^{13}$ |\n",
    "| $n^2$ | $1000$ | $60000$ | $1.6*10^6$ | $5.577*10^7$ |\n",
    "| $2^n$ | $19$ | $31$ | $41$ | $51$ |"
   ]
  },
  {
   "cell_type": "code",
   "execution_count": 17,
   "id": "2b08cc08",
   "metadata": {},
   "outputs": [
    {
     "name": "stdout",
     "output_type": "stream",
     "text": [
      "logn function solving problem size within 1 second is 10^3.0103e+06\n",
      "n function solving problem size within 1 second is 1e+06\n",
      "nlogn function solving problem size within 1 second is 62746\n",
      "n^2 function solving problem size within 1 second is 1000\n",
      "2^n function solving problem size within 1 second is 19\n",
      "logn function solving problem size within 1 hour is 10^1.08371e+10\n",
      "n function solving problem size within 1 hour is 3.6e+09\n",
      "nlogn function solving problem size within 1 hour is 1.33378e+08\n",
      "n^2 function solving problem size within 1 hour is 60000\n",
      "2^n function solving problem size within 1 hour is 31\n",
      "logn function solving problem size within 1 month is 10^7.8027e+12\n",
      "n function solving problem size within 1 month is 2.592e+12\n",
      "nlogn function solving problem size within 1 month is 7.18709e+10\n",
      "n^2 function solving problem size within 1 month is 1.60997e+06\n",
      "2^n function solving problem size within 1 month is 41\n",
      "logn function solving problem size within 1 century is 10^9.36324e+15\n",
      "n function solving problem size within 1 century is 3.1104e+15\n",
      "nlogn function solving problem size within 1 century is 6.76995e+13\n",
      "n^2 function solving problem size within 1 century is 5.5771e+07\n",
      "2^n function solving problem size within 1 century is 51\n"
     ]
    }
   ],
   "source": [
    "def log_runtime_cal(exp):\n",
    "    # for logn row:\n",
    "    return exp * math.log10(2) * 10\n",
    "\n",
    "def n_runtime_cal(input_size):\n",
    "    # for n row:\n",
    "    return input_size\n",
    "\n",
    "\n",
    "def nlogn_runtime_cal(input_size):\n",
    "    def check(n):\n",
    "        return n * math.log2(n) <= input_size\n",
    "    \n",
    "    # for nlogn row, we need to find a proper upper bound :\n",
    "    low, high = 1, input_size\n",
    "    fit_n = low\n",
    "    while low < high:\n",
    "        mid = (high + low + 1) // 2\n",
    "        if check(mid):\n",
    "            low = mid\n",
    "        else: high = mid - 1\n",
    "    return low\n",
    "\n",
    "\n",
    "def n2_runtime_cal(input_size):\n",
    "    # for n^2 row:\n",
    "    return math.sqrt(input_size)\n",
    "\n",
    "def expo_runtime_cal(input_size):\n",
    "    # for 2^n row:\n",
    "    return math.floor(math.log2(input_size))\n",
    "    \n",
    "\n",
    "size = 10**6\n",
    "hours = size * 3600\n",
    "month = hours * 24 * 30\n",
    "century = month * 12 * 100\n",
    "cols = {\"1 second\":size, \"1 hour\": hours, \"1 month\": month, \"1 century\": century}\n",
    "funcs = {\"logn\": log_runtime_cal, \n",
    "        \"n\": n_runtime_cal, \n",
    "        \"nlogn\": nlogn_runtime_cal, \n",
    "        \"n^2\":n2_runtime_cal, \n",
    "        \"2^n\":expo_runtime_cal\n",
    "        }\n",
    "\n",
    "for key, val in cols.items():\n",
    "    for name, func in funcs.items():\n",
    "        # print(f\"name = {name}, key = {key}, val = {val}\")\n",
    "        result = func(val)\n",
    "        if name == 'logn':\n",
    "            print(f\"{name} function solving problem size within {key} is 10^{result:g}\")\n",
    "        else: \n",
    "            print(f\"{name} function solving problem size within {key} is {result:g}\" )\n",
    "\n"
   ]
  },
  {
   "cell_type": "markdown",
   "id": "41aae180",
   "metadata": {},
   "source": [
    "#### R-3.29 \n",
    "Algorithm A executes an $O(log n)$-time computation for each entry of an n-element sequence. What is its worst-case running time?\n",
    "\n"
   ]
  },
  {
   "cell_type": "markdown",
   "id": "12564f83",
   "metadata": {},
   "source": [
    "#### Answer:\n",
    "The worst case running time is $O(nlogn)$."
   ]
  },
  {
   "cell_type": "markdown",
   "id": "8d557207",
   "metadata": {},
   "source": [
    "#### R-3.30 \n",
    "Given an n-element sequence $S$, Algorithm B chooses $log n$ elements in $S$ at random and executes an $O(n)$-time calculation for each. What is the worst-case running time of Algorithm B?\n"
   ]
  },
  {
   "cell_type": "markdown",
   "id": "5b5d2c2c",
   "metadata": {},
   "source": [
    "#### Answer:\n",
    "The worst case running time is $O(nlogn)$."
   ]
  },
  {
   "cell_type": "markdown",
   "id": "d41bc66b",
   "metadata": {},
   "source": [
    "#### R-3.31 \n",
    "Given an n-element sequence S of integers, Algorithm C executes an $O(n)$-time computation for each even number in S, and an $O(log n)$-time computation for each odd number in S. What are the best-case and worst-case running times of Algorithm C?\n"
   ]
  },
  {
   "cell_type": "markdown",
   "id": "18e1144f",
   "metadata": {},
   "source": [
    "#### Answer:\n",
    "The best case is only 1 even number and 2 odd number (for example: $[1, 2, 3]$), so the running time is $n_{even} + log n_{odd} = 1+log2 = 2$, \\\n",
    "The worst case is half n of even and half n of odd, which is $n_{even} + log n_{odd} = n/2 + log{n/2} = n/2 + logn - log2 = /frac{1}{2} \\cdot n + logn -1 \\le /frac{1}{2} \\cdot n + n -1$, hence the worst case is $\\mathcal{O}(n)$ "
   ]
  },
  {
   "cell_type": "markdown",
   "id": "855c7de2",
   "metadata": {},
   "source": [
    "\n",
    "```python\n",
    "def example1(S):\n",
    "    \"\"\"Return the sum of the elements in sequence S.\"\"\"\n",
    "    n = len(S)\n",
    "    total = 0\n",
    "    for j in range(n):\n",
    "        total += S[j]\n",
    "    return total\n",
    "\n",
    "def example2(S):\n",
    "    \"\"\"Return the sum of the elements with even index in sequence S.\"\"\"\n",
    "    n = len(S)\n",
    "    total = 0\n",
    "    for j in range(0, n, 2):\n",
    "        total += S[j]\n",
    "    return total\n",
    "\n",
    "def example3(S):\n",
    "    \"\"\"Return the sum of the prefix sums of sequence S.\"\"\"\n",
    "    n = len(S)\n",
    "    total = 0\n",
    "    for j in range(n):\n",
    "        for k in range(1+j):\n",
    "            total += S[k]\n",
    "    return total\n",
    "\n",
    "def example4(S):\n",
    "    \"\"\"Return the sum of the prefix sums of sequence S.\"\"\"\n",
    "    n = len(S)\n",
    "    prefix = 0\n",
    "    total = 0\n",
    "    for j in range(n):\n",
    "        prefix += S[j]\n",
    "        total += prefix\n",
    "    return total\n",
    "\n",
    "\n",
    "\n"
   ]
  },
  {
   "cell_type": "markdown",
   "id": "3d1a3f1c",
   "metadata": {},
   "source": [
    "#### R-3.32 \n",
    "Given an n-element sequence S, Algorithm D calls Algorithm E on each element S[i]. Algorithm E runs in O(i) time when it is called on element S[i]. What is the worst-case running time of Algorithm D?\n",
    "\n"
   ]
  },
  {
   "cell_type": "markdown",
   "id": "e305a2f9",
   "metadata": {},
   "source": [
    "#### Answer:\n",
    "When we consider the running time of Algorithm D, We see every operation of Algorithm D calls Algorithm E on each element S[i], \\\n",
    "As the worst-case running time, we can assume that we need to operate every single time in sequence S, which is sum up to n times.\\\n",
    "And we know that the runtime of Algorithm E is $O(i)$ for i represent the index of the elements of S, that is , value of i can up to be n, \\\n",
    "hence, the worst-case running time of Algorithm D is: \\\n",
    "$O(0)+O(1)+O(2)+\\dots+O(n-2)+O(n-1) = 0+1+2+3+\\dots +n-2+n-1 = {n(n-1)}/2 = \\frac{1}{2}n^2 - \\frac{1}{2}n \\le \\frac{1}{2} n^2 + \\frac{1}{2} n^2 = n^2 $, which is $O(n^2)$"
   ]
  },
  {
   "cell_type": "markdown",
   "id": "d6132000",
   "metadata": {},
   "source": [
    "#### R-3.33\n",
    "Al and Bob are arguing about their algorithms. Al claims his O(n log n)-time method is always faster than Bob's O(n^2)-time method. To settle the issue, they perform a set of experiments. To Al's dismay, they find that if n < 100, the O(n^2)-time algorithm runs faster, and only when n ≥ 100 is the O(n log n)-time one better. Explain how this is possible.\n",
    "\n"
   ]
  },
  {
   "cell_type": "markdown",
   "id": "ec541e98",
   "metadata": {},
   "source": [
    "#### Answer:\n",
    "When considering the big O notation, we always ignore the constant factor to consider the maximum factor, like $n^2, nlogn, 2^n$, etc.\\\n",
    "However, when the n is not big enough, the constant might take a significant effect on the running time, so, if Al and Bob's algorithms are:\\\n",
    "1. $1.43  n log n$ (Al's algorithm)\n",
    "2. $0.101n^2$ (Bob's' algorithm) \\\n",
    "then, it will happen the issue that has been discussed above. Which is Al's algorithm perform better only after $n\\ge 100$"
   ]
  },
  {
   "cell_type": "markdown",
   "id": "636a9cca",
   "metadata": {},
   "source": [
    "#### R-3.34 \n",
    "There is a well-known city (which will go nameless here) whose inhabitants have the reputation of enjoying a meal only if that meal is the best they have ever experienced in their life. Otherwise, they hate it. Assuming meal quality is distributed uniformly across a person's life, describe the expected number of times inhabitants of this city are happy with their meals?\n",
    "\n"
   ]
  },
  {
   "cell_type": "markdown",
   "id": "8281a3a3",
   "metadata": {},
   "source": [
    "#### Answer:\n",
    "Assuming there are a total number of n population of inhabitants, each inhabitant will have x meals in their whole life. \\\n",
    "As the X sequence is distributed uniformly， which means every "
   ]
  },
  {
   "cell_type": "markdown",
   "id": "bd70f43b",
   "metadata": {},
   "source": [
    "#### Creativity\n",
    "\n"
   ]
  },
  {
   "cell_type": "markdown",
   "id": "9a5f3784",
   "metadata": {},
   "source": [
    "#### C-3.35 \n",
    "Assuming it is possible to sort n numbers in O(n log n) time, show that it is possible to solve the three-way set disjointness problem in O(n log n) time.\n",
    "\n"
   ]
  },
  {
   "cell_type": "markdown",
   "id": "e5b3996a",
   "metadata": {},
   "source": [
    "### Answer:\n",
    "1. If there are 3 sets (set A, B and C) of numbers and their length are all n. As the sorting time of each set need $\\mathcal{O}(nlogn)$ time, which sorting time $f(n) \\le c\\cdot(nlogn), for n>n_0$.\n",
    "2. Then, the processing time of sorting 3 sets should be $3\\cdot f(n) \\le 3c\\cdot(nlogn)$\n",
    "3. And if these 3 sets are conformed to the three-way set disjointness form, they should be: $A \\cap B = \\empty$ and $A \\cap C = \\empty$ and $B\\cap C = \\empty$.\n",
    "4. We can have comparing operations of: $(max(A) \\lt min(B) \\lor min(A)\\gt max(B)) \\land (max(A) \\lt min(C) \\lor min(A)\\gt max(C))\\land (max(B) \\lt min(C) \\lor min(B)\\gt max(C))$，every comparison take 3 operations and 2 operation to make sure each comparison make sense all the time, that's 11 operations in total.\n",
    "5. Hence, the whole processing time should be $3\\cdot f(n) \\le 3c\\cdot (nlogn) + 11 = \\mathcal{O}(nlogn)$, for $n\\gt n_0$"
   ]
  },
  {
   "cell_type": "markdown",
   "id": "d4c1a76d",
   "metadata": {},
   "source": [
    "#### C-3.36 \n",
    "Describe an efficient algorithm for finding the ten largest elements in a sequence of size n. What is the running time of your algorithm?\n"
   ]
  },
  {
   "cell_type": "markdown",
   "id": "dfcd8ddf",
   "metadata": {},
   "source": [
    "### Answer:\n",
    "1. Clarify the n size sequence as a.\n",
    "2. Use the last element of a as pivot.\n",
    "3. Find the 10 largest by using quick search algorithm\n",
    "4. As we use Quick Search algorithm, it will take $O(nlogn)$"
   ]
  },
  {
   "cell_type": "code",
   "execution_count": 40,
   "id": "0f474e77",
   "metadata": {},
   "outputs": [
    {
     "name": "stdout",
     "output_type": "stream",
     "text": [
      "<class 'list'> [16, 43, 12, 45, 94, 61, 21, 82, 45, 17, 95, 19, 65, 23, 27, 42, 46, 68, 77, 56, 25, 7, 88, 60, 26, 8, 45, 34, 40, 95]\n"
     ]
    }
   ],
   "source": [
    "a = np.random.randint(0,99,30)\n",
    "a = a.tolist()\n",
    "print(type(a),a)\n"
   ]
  },
  {
   "cell_type": "code",
   "execution_count": 47,
   "id": "0414089e",
   "metadata": {},
   "outputs": [
    {
     "name": "stdout",
     "output_type": "stream",
     "text": [
      "original sequence is [16, 43, 12, 45, 94, 61, 21, 82, 45, 17, 95, 19, 65, 23, 27, 42, 46, 68, 77, 56, 25, 7, 88, 60, 26, 8, 45, 34, 40, 95]\n",
      "pivot is 95, i = -1\n",
      "[95, 43, 12, 45, 94, 61, 21, 82, 45, 17, 95, 19, 65, 23, 27, 42, 46, 68, 77, 56, 25, 7, 88, 60, 26, 8, 45, 34, 40, 16]\n",
      "Too less!\n",
      "pivot is 16, i = 0\n",
      "[95, 43, 12, 45, 94, 61, 21, 82, 45, 17, 95, 19, 65, 23, 27, 42, 46, 68, 77, 56, 25, 7, 88, 60, 26, 8, 45, 34, 40, 16]\n",
      "[95, 43, 45, 12, 94, 61, 21, 82, 45, 17, 95, 19, 65, 23, 27, 42, 46, 68, 77, 56, 25, 7, 88, 60, 26, 8, 45, 34, 40, 16]\n",
      "[95, 43, 45, 94, 12, 61, 21, 82, 45, 17, 95, 19, 65, 23, 27, 42, 46, 68, 77, 56, 25, 7, 88, 60, 26, 8, 45, 34, 40, 16]\n",
      "[95, 43, 45, 94, 61, 12, 21, 82, 45, 17, 95, 19, 65, 23, 27, 42, 46, 68, 77, 56, 25, 7, 88, 60, 26, 8, 45, 34, 40, 16]\n",
      "[95, 43, 45, 94, 61, 21, 12, 82, 45, 17, 95, 19, 65, 23, 27, 42, 46, 68, 77, 56, 25, 7, 88, 60, 26, 8, 45, 34, 40, 16]\n",
      "[95, 43, 45, 94, 61, 21, 82, 12, 45, 17, 95, 19, 65, 23, 27, 42, 46, 68, 77, 56, 25, 7, 88, 60, 26, 8, 45, 34, 40, 16]\n",
      "[95, 43, 45, 94, 61, 21, 82, 45, 12, 17, 95, 19, 65, 23, 27, 42, 46, 68, 77, 56, 25, 7, 88, 60, 26, 8, 45, 34, 40, 16]\n",
      "[95, 43, 45, 94, 61, 21, 82, 45, 17, 12, 95, 19, 65, 23, 27, 42, 46, 68, 77, 56, 25, 7, 88, 60, 26, 8, 45, 34, 40, 16]\n",
      "[95, 43, 45, 94, 61, 21, 82, 45, 17, 95, 12, 19, 65, 23, 27, 42, 46, 68, 77, 56, 25, 7, 88, 60, 26, 8, 45, 34, 40, 16]\n",
      "[95, 43, 45, 94, 61, 21, 82, 45, 17, 95, 19, 12, 65, 23, 27, 42, 46, 68, 77, 56, 25, 7, 88, 60, 26, 8, 45, 34, 40, 16]\n",
      "[95, 43, 45, 94, 61, 21, 82, 45, 17, 95, 19, 65, 12, 23, 27, 42, 46, 68, 77, 56, 25, 7, 88, 60, 26, 8, 45, 34, 40, 16]\n",
      "[95, 43, 45, 94, 61, 21, 82, 45, 17, 95, 19, 65, 23, 12, 27, 42, 46, 68, 77, 56, 25, 7, 88, 60, 26, 8, 45, 34, 40, 16]\n",
      "[95, 43, 45, 94, 61, 21, 82, 45, 17, 95, 19, 65, 23, 27, 12, 42, 46, 68, 77, 56, 25, 7, 88, 60, 26, 8, 45, 34, 40, 16]\n",
      "[95, 43, 45, 94, 61, 21, 82, 45, 17, 95, 19, 65, 23, 27, 42, 12, 46, 68, 77, 56, 25, 7, 88, 60, 26, 8, 45, 34, 40, 16]\n",
      "[95, 43, 45, 94, 61, 21, 82, 45, 17, 95, 19, 65, 23, 27, 42, 46, 12, 68, 77, 56, 25, 7, 88, 60, 26, 8, 45, 34, 40, 16]\n",
      "[95, 43, 45, 94, 61, 21, 82, 45, 17, 95, 19, 65, 23, 27, 42, 46, 68, 12, 77, 56, 25, 7, 88, 60, 26, 8, 45, 34, 40, 16]\n",
      "[95, 43, 45, 94, 61, 21, 82, 45, 17, 95, 19, 65, 23, 27, 42, 46, 68, 77, 12, 56, 25, 7, 88, 60, 26, 8, 45, 34, 40, 16]\n",
      "[95, 43, 45, 94, 61, 21, 82, 45, 17, 95, 19, 65, 23, 27, 42, 46, 68, 77, 56, 12, 25, 7, 88, 60, 26, 8, 45, 34, 40, 16]\n",
      "[95, 43, 45, 94, 61, 21, 82, 45, 17, 95, 19, 65, 23, 27, 42, 46, 68, 77, 56, 25, 12, 7, 88, 60, 26, 8, 45, 34, 40, 16]\n",
      "[95, 43, 45, 94, 61, 21, 82, 45, 17, 95, 19, 65, 23, 27, 42, 46, 68, 77, 56, 25, 88, 7, 12, 60, 26, 8, 45, 34, 40, 16]\n",
      "[95, 43, 45, 94, 61, 21, 82, 45, 17, 95, 19, 65, 23, 27, 42, 46, 68, 77, 56, 25, 88, 60, 12, 7, 26, 8, 45, 34, 40, 16]\n",
      "[95, 43, 45, 94, 61, 21, 82, 45, 17, 95, 19, 65, 23, 27, 42, 46, 68, 77, 56, 25, 88, 60, 26, 7, 12, 8, 45, 34, 40, 16]\n",
      "[95, 43, 45, 94, 61, 21, 82, 45, 17, 95, 19, 65, 23, 27, 42, 46, 68, 77, 56, 25, 88, 60, 26, 45, 12, 8, 7, 34, 40, 16]\n",
      "[95, 43, 45, 94, 61, 21, 82, 45, 17, 95, 19, 65, 23, 27, 42, 46, 68, 77, 56, 25, 88, 60, 26, 45, 34, 8, 7, 12, 40, 16]\n",
      "[95, 43, 45, 94, 61, 21, 82, 45, 17, 95, 19, 65, 23, 27, 42, 46, 68, 77, 56, 25, 88, 60, 26, 45, 34, 40, 7, 12, 8, 16]\n",
      "[95, 43, 45, 94, 61, 21, 82, 45, 17, 95, 19, 65, 23, 27, 42, 46, 68, 77, 56, 25, 88, 60, 26, 45, 34, 40, 16, 12, 8, 7]\n",
      "Too Many!\n",
      "pivot is 40, i = 0\n",
      "[95, 43, 45, 94, 61, 21, 82, 45, 17, 95, 19, 65, 23, 27, 42, 46, 68, 77, 56, 25, 88, 60, 26, 45, 34, 40, 16, 12, 8, 7]\n",
      "[95, 43, 45, 94, 61, 21, 82, 45, 17, 95, 19, 65, 23, 27, 42, 46, 68, 77, 56, 25, 88, 60, 26, 45, 34, 40, 16, 12, 8, 7]\n",
      "[95, 43, 45, 94, 61, 21, 82, 45, 17, 95, 19, 65, 23, 27, 42, 46, 68, 77, 56, 25, 88, 60, 26, 45, 34, 40, 16, 12, 8, 7]\n",
      "[95, 43, 45, 94, 61, 21, 82, 45, 17, 95, 19, 65, 23, 27, 42, 46, 68, 77, 56, 25, 88, 60, 26, 45, 34, 40, 16, 12, 8, 7]\n",
      "[95, 43, 45, 94, 61, 82, 21, 45, 17, 95, 19, 65, 23, 27, 42, 46, 68, 77, 56, 25, 88, 60, 26, 45, 34, 40, 16, 12, 8, 7]\n",
      "[95, 43, 45, 94, 61, 82, 45, 21, 17, 95, 19, 65, 23, 27, 42, 46, 68, 77, 56, 25, 88, 60, 26, 45, 34, 40, 16, 12, 8, 7]\n",
      "[95, 43, 45, 94, 61, 82, 45, 95, 17, 21, 19, 65, 23, 27, 42, 46, 68, 77, 56, 25, 88, 60, 26, 45, 34, 40, 16, 12, 8, 7]\n",
      "[95, 43, 45, 94, 61, 82, 45, 95, 65, 21, 19, 17, 23, 27, 42, 46, 68, 77, 56, 25, 88, 60, 26, 45, 34, 40, 16, 12, 8, 7]\n",
      "[95, 43, 45, 94, 61, 82, 45, 95, 65, 42, 19, 17, 23, 27, 21, 46, 68, 77, 56, 25, 88, 60, 26, 45, 34, 40, 16, 12, 8, 7]\n",
      "[95, 43, 45, 94, 61, 82, 45, 95, 65, 42, 46, 17, 23, 27, 21, 19, 68, 77, 56, 25, 88, 60, 26, 45, 34, 40, 16, 12, 8, 7]\n",
      "[95, 43, 45, 94, 61, 82, 45, 95, 65, 42, 46, 68, 23, 27, 21, 19, 17, 77, 56, 25, 88, 60, 26, 45, 34, 40, 16, 12, 8, 7]\n",
      "[95, 43, 45, 94, 61, 82, 45, 95, 65, 42, 46, 68, 77, 27, 21, 19, 17, 23, 56, 25, 88, 60, 26, 45, 34, 40, 16, 12, 8, 7]\n",
      "[95, 43, 45, 94, 61, 82, 45, 95, 65, 42, 46, 68, 77, 56, 21, 19, 17, 23, 27, 25, 88, 60, 26, 45, 34, 40, 16, 12, 8, 7]\n",
      "[95, 43, 45, 94, 61, 82, 45, 95, 65, 42, 46, 68, 77, 56, 88, 19, 17, 23, 27, 25, 21, 60, 26, 45, 34, 40, 16, 12, 8, 7]\n",
      "[95, 43, 45, 94, 61, 82, 45, 95, 65, 42, 46, 68, 77, 56, 88, 60, 17, 23, 27, 25, 21, 19, 26, 45, 34, 40, 16, 12, 8, 7]\n",
      "[95, 43, 45, 94, 61, 82, 45, 95, 65, 42, 46, 68, 77, 56, 88, 60, 45, 23, 27, 25, 21, 19, 26, 17, 34, 40, 16, 12, 8, 7]\n",
      "[95, 43, 45, 94, 61, 82, 45, 95, 65, 42, 46, 68, 77, 56, 88, 60, 45, 40, 27, 25, 21, 19, 26, 17, 34, 23, 16, 12, 8, 7]\n",
      "Too Many!\n",
      "pivot is 45, i = 0\n",
      "[95, 94, 45, 43, 61, 82, 45, 95, 65, 42, 46, 68, 77, 56, 88, 60, 45, 40, 27, 25, 21, 19, 26, 17, 34, 23, 16, 12, 8, 7]\n",
      "[95, 94, 61, 43, 45, 82, 45, 95, 65, 42, 46, 68, 77, 56, 88, 60, 45, 40, 27, 25, 21, 19, 26, 17, 34, 23, 16, 12, 8, 7]\n",
      "[95, 94, 61, 82, 45, 43, 45, 95, 65, 42, 46, 68, 77, 56, 88, 60, 45, 40, 27, 25, 21, 19, 26, 17, 34, 23, 16, 12, 8, 7]\n",
      "[95, 94, 61, 82, 95, 43, 45, 45, 65, 42, 46, 68, 77, 56, 88, 60, 45, 40, 27, 25, 21, 19, 26, 17, 34, 23, 16, 12, 8, 7]\n",
      "[95, 94, 61, 82, 95, 65, 45, 45, 43, 42, 46, 68, 77, 56, 88, 60, 45, 40, 27, 25, 21, 19, 26, 17, 34, 23, 16, 12, 8, 7]\n",
      "[95, 94, 61, 82, 95, 65, 46, 45, 43, 42, 45, 68, 77, 56, 88, 60, 45, 40, 27, 25, 21, 19, 26, 17, 34, 23, 16, 12, 8, 7]\n",
      "[95, 94, 61, 82, 95, 65, 46, 68, 43, 42, 45, 45, 77, 56, 88, 60, 45, 40, 27, 25, 21, 19, 26, 17, 34, 23, 16, 12, 8, 7]\n",
      "[95, 94, 61, 82, 95, 65, 46, 68, 77, 42, 45, 45, 43, 56, 88, 60, 45, 40, 27, 25, 21, 19, 26, 17, 34, 23, 16, 12, 8, 7]\n",
      "[95, 94, 61, 82, 95, 65, 46, 68, 77, 56, 45, 45, 43, 42, 88, 60, 45, 40, 27, 25, 21, 19, 26, 17, 34, 23, 16, 12, 8, 7]\n",
      "[95, 94, 61, 82, 95, 65, 46, 68, 77, 56, 88, 45, 43, 42, 45, 60, 45, 40, 27, 25, 21, 19, 26, 17, 34, 23, 16, 12, 8, 7]\n",
      "[95, 94, 61, 82, 95, 65, 46, 68, 77, 56, 88, 60, 43, 42, 45, 45, 45, 40, 27, 25, 21, 19, 26, 17, 34, 23, 16, 12, 8, 7]\n",
      "[95, 94, 61, 82, 95, 65, 46, 68, 77, 56, 88, 60, 45, 42, 45, 45, 43, 40, 27, 25, 21, 19, 26, 17, 34, 23, 16, 12, 8, 7]\n",
      "Too Many!\n",
      "pivot is 60, i = 0\n",
      "[95, 94, 61, 82, 95, 65, 46, 68, 77, 56, 88, 60, 45, 42, 45, 45, 43, 40, 27, 25, 21, 19, 26, 17, 34, 23, 16, 12, 8, 7]\n",
      "[95, 94, 61, 82, 95, 65, 46, 68, 77, 56, 88, 60, 45, 42, 45, 45, 43, 40, 27, 25, 21, 19, 26, 17, 34, 23, 16, 12, 8, 7]\n",
      "[95, 94, 61, 82, 95, 65, 46, 68, 77, 56, 88, 60, 45, 42, 45, 45, 43, 40, 27, 25, 21, 19, 26, 17, 34, 23, 16, 12, 8, 7]\n",
      "[95, 94, 61, 82, 95, 65, 46, 68, 77, 56, 88, 60, 45, 42, 45, 45, 43, 40, 27, 25, 21, 19, 26, 17, 34, 23, 16, 12, 8, 7]\n",
      "[95, 94, 61, 82, 95, 65, 46, 68, 77, 56, 88, 60, 45, 42, 45, 45, 43, 40, 27, 25, 21, 19, 26, 17, 34, 23, 16, 12, 8, 7]\n",
      "[95, 94, 61, 82, 95, 65, 68, 46, 77, 56, 88, 60, 45, 42, 45, 45, 43, 40, 27, 25, 21, 19, 26, 17, 34, 23, 16, 12, 8, 7]\n",
      "[95, 94, 61, 82, 95, 65, 68, 77, 46, 56, 88, 60, 45, 42, 45, 45, 43, 40, 27, 25, 21, 19, 26, 17, 34, 23, 16, 12, 8, 7]\n",
      "[95, 94, 61, 82, 95, 65, 68, 77, 88, 56, 46, 60, 45, 42, 45, 45, 43, 40, 27, 25, 21, 19, 26, 17, 34, 23, 16, 12, 8, 7]\n",
      "[95, 94, 61, 82, 95, 65, 68, 77, 88, 60, 46, 56, 45, 42, 45, 45, 43, 40, 27, 25, 21, 19, 26, 17, 34, 23, 16, 12, 8, 7]\n"
     ]
    }
   ],
   "source": [
    "def partition(low, high,arr):\n",
    "    pivot = arr[high]\n",
    "    i = low - 1\n",
    "    print(f\"pivot is {pivot}, i = {i}\")\n",
    "    \n",
    "    for j in range(low, high):\n",
    "        if arr[j] > pivot:  # Change to > to get largest elements\n",
    "            i += 1\n",
    "            arr[i], arr[j] = arr[j], arr[i]\n",
    "            print(arr)\n",
    "            \n",
    "    arr[i + 1], arr[high] = arr[high], arr[i + 1]\n",
    "    print(arr)\n",
    "    return i + 1\n",
    "\n",
    "def select(low, high, k, arr):\n",
    "    if low < high:\n",
    "        pivot_idx = partition(low, high,arr)\n",
    "        \n",
    "        # Count elements larger than pivot\n",
    "        num_larger = pivot_idx - low + 1\n",
    "        \n",
    "        if num_larger == k:\n",
    "            return\n",
    "        elif num_larger > k:\n",
    "            # Too many large elements, partition left side\n",
    "            print(\"Too Many!\")\n",
    "            select(low, pivot_idx - 1, k, arr)\n",
    "        else:\n",
    "            # Need more large elements, partition right side\n",
    "            print(\"Too less!\")\n",
    "            select(pivot_idx + 1, high, k - num_larger, arr)\n",
    "\n",
    "b = a.copy()\n",
    "print(f\"original sequence is {b}\")\n",
    "n = len(b)\n",
    "\n",
    "select(0, n-1, 10, b)\n"
   ]
  },
  {
   "cell_type": "markdown",
   "id": "73a7d93c",
   "metadata": {},
   "source": [
    "\n",
    "#### C-3.37 \n",
    "Give an example of a positive function f(n) such that f(n) is neither O(n) nor Ω(n).\n",
    "\n"
   ]
  },
  {
   "cell_type": "markdown",
   "id": "522ea06d",
   "metadata": {},
   "source": [
    "### Answer:\n",
    "While a positive function is neither $O(n)$ nor $\\mathcal{\\Omega}(n)$,\\\n",
    "it means that there is a exist constant c make $f(n)$ neither $\\ge c\\cdot n$ nor $\\le c\\dot n$ for all $n\\gt n_0 $\\\n",
    "Assuming $f(n) = nlogn$ is $O(n)$, which means: $nlogn \\le c\\cdot n$\\\n",
    "As we divide n in both side, then we can see: $logn \\le c$. \\\n",
    "Which is not true cause $logn$ grows without bound as n increases. \\\n",
    "Therefore, $f(n) = nlogn$ is $O(n)$ is false.\\\n",
    "\n",
    "Assuming $f(n) = nlogn$ is $\\mathcal{\\Omega}(n)$, which means:$nlogn \\ge c\\cdot n$\\\n",
    "As we divide n in both side, then we can see: $logn \\ge c$. \\\n",
    "However, for a small n (let's say n = 2) and c = 2, we have $f(2) = 2log2 ≈ 1.386 \\ge 2 \\times 2 = 4$, which is not hold.\\\n",
    "hence, $f(n) = nlogn$ can be not true for a small enough n. \n"
   ]
  },
  {
   "cell_type": "markdown",
   "id": "9926555b",
   "metadata": {},
   "source": [
    "#### C-3.38 \n",
    "Show that $∑_{i=1}^n{i^2}$ is $O(n^3)$.\n",
    "\n"
   ]
  },
  {
   "cell_type": "markdown",
   "id": "2178adb1",
   "metadata": {},
   "source": [
    "### Answer:\n",
    "While $\\sum_{i=1}^{n}i^2 = 1^2+2^2+3^2+\\cdots + n^2$ = S(n), we can observe that:\\\n",
    "$S(1) = 1^2 = 1$\\\n",
    "$S(2) = 1^2 + 2^2 = 5$\\\n",
    "$S(3) = 1^2 + 2^2 + 3^2 = 14$\\ \n",
    "$S(4) = 1^2 + 2^2 + 3^2 * 4^2= 30$\\ \n",
    "Now, we can use Polynomial Fitting method to calculate the grow rate:\\\n",
    "First difference($S(2)-S(1), S(3)-S(2), S(4)-S(3)$, etc.) $= 4, 9, 16, 25, \\cdots$ which grows quadratically.\\\n",
    "Second difference($9-4, 16-9, 25-16, 36-25, \\cdots$) $= 5, 7, 9, 11, \\cdots$ which grows linearly.\\\n",
    "Third difference($7-5, 9-7, 11-9, 13-11, \\cdots$) $= 2, 2, 2, 2, \\cdots$ which grows constantly.\\\n",
    "The results are perfectly fit into what the characteristic of cubic polynomial will have. And the algebra expression of $S(n) = [n*(2n+1)*(n+1)]/6$, which match the common formula of Cubic Polynomial: $an^3+bn^2+cn+d = 0$\\\n",
    "Hence, for $n\\gt n_0$, $\\sum_{i=1}^{n}i^2$ is $O(n^3)$.\n"
   ]
  },
  {
   "cell_type": "markdown",
   "id": "653d5276",
   "metadata": {},
   "source": [
    "#### C-3.39 \n",
    "Show that $∑_{i=1}^n{i/2^i} < 2$. (Hint: Try to bound this sum term by term with a geometric progression.)\n",
    "\n"
   ]
  },
  {
   "cell_type": "markdown",
   "id": "318cee6c",
   "metadata": {},
   "source": [
    "### Answer: \n",
    "While $S(n) = \\sum_{i=1}^{n}(i/2^i) = \\frac{1}{2^1}+\\frac{2}{2^2}+\\frac{3}{2^3}+\\cdots + \\frac{n}{2^n}$, we can observe that:\\\n",
    "$S(1) = \\frac{1}{2^1} = \\frac{1}{2}$\\\n",
    "$S(2) = \\frac{1}{2^1} + \\frac{2}{2^2} = \\frac{4}{4}$\\\n",
    "$S(3) = \\frac{1}{2^1} + \\frac{2}{2^2} + \\frac{3}{2^3} = \\frac{11}{8}$\\\n",
    "$S(4) = \\frac{1}{2^1} + \\frac{2}{2^2} + \\frac{3}{2^3} + \\frac{4}{2^4} = \\frac{26}{16}$\\\n",
    "$S(5) = \\frac{1}{2^1} + \\frac{2}{2^2} + \\frac{3}{2^3} + \\frac{4}{2^4} + \\frac{5}{2^5} = \\frac{57}{32}$\\\n",
    "So we can say for any integer n, we have:\\\n",
    "$S(n) = \\frac{1*2^{(n-1)}+2*2^{(n-2)}+3*2^{(n-3)}+\\cdots+n*2^{(n-n)}}{2^n}$\\\n",
    "Which equal to:\\\n",
    "$S(n) = \\sum_{k=1}^{n} \\frac{k*2^{(n-k)}}{2^n} = \\sum_{k=1}^{n} k*(\\frac{2^n}{2^n * 2^k}) = \\sum_{k=1}^{n} k*2^{-k}$\\\n",
    "As we have a well-known sum for a infinite geometric series:\\\n",
    "$\\sum_{k=1}^{\\infty} k\\cdot r^k = \\frac{r}{(1-r)^2}$， for $|r|<1 $\\\n",
    "Substituting $r = \\frac{1}{2}$\\\n",
    "$\\sum_{k=1}^{\\infty} k\\cdot (\\frac{1}{2})^k =\\sum_{k=1}^{\\infty} k\\cdot 2^{-k} = \\frac{\\frac{1}{2}}{(1-\\frac{1}{2})^2} = 2$\\\n",
    "Since S(n) is just the sum of the first n terms of this infinity sequence, hence we can conclude that:\\ \n",
    "\n",
    "$S(n) = \\sum_{i=1}^{n}(i\\cdot 2^{-i}) < \\sum_{i=1}^{\\infty} (i\\cdot 2^{-i}) = 2$, for all n."
   ]
  },
  {
   "cell_type": "markdown",
   "id": "db554e1d",
   "metadata": {},
   "source": [
    "#### C-3.40 \n",
    "Show that $log_b f(n)$ is $Θ(log f(n))$ if $b > 1$ is a constant.\n",
    "\n"
   ]
  },
  {
   "cell_type": "markdown",
   "id": "661c51d4",
   "metadata": {},
   "source": [
    "### Answer:\n",
    "To show $log_bf(n)$ is $\\mathcal{\\Theta}(logf(n))$ if b > 1 is a constant, which means there are two constants $c'>0 $ and $c''>0$ to let:\\\n",
    "$c'\\cdot logf(n)\\le log_bf(n) \\le c''\\cdot logf(n)$, for $n\\ge n_0, $\\\n",
    "As logarithm base change rule, we have $log_bf(n) = \\frac{logf(n)}{logb} = \\frac{1}{logb}\\cdot logf(n)$\\\n",
    "Because $b>1$ and is a constant. which we can assume that b can be two different constant $b'>1$ and $b''>1$.\\\n",
    "That is for exact $c'=\\frac{1}{logb'}>0$ and $c''=\\frac{1}{logb''}>0$, which let $c'\\cdot logf(n)\\le log_bf(n) \\le c''\\cdot logf(n)$, for $n\\ge n_0,\\\n",
    "Hence, $log_bf(n)$ is $\\mathcal{\\Theta}(logf(n))$ "
   ]
  },
  {
   "cell_type": "markdown",
   "id": "e147312c",
   "metadata": {},
   "source": [
    "#### C-3.41 \n",
    "Describe an algorithm for finding both the minimum and maximum of n numbers using fewer than 3n/2 comparisons. (Hint: First, construct a group of candidate minimums and a group of candidate maximums.)\n",
    "\n"
   ]
  },
  {
   "cell_type": "markdown",
   "id": "d5a457e8",
   "metadata": {},
   "source": [
    "### Answer:\n",
    "Process:\n",
    "1. Get and check the length of the whole sequence\\\n",
    "2. If the length of the whole sequence is odd, let both temp_max and temp_min value to index 0 element\n",
    "3. If the length of the whole sequence is even, compare the first two element of the sequence, let the greater one to be temp_max and less one to be temp_min value.\n",
    "4. Use 'for' to iterate the whole sequence from index 1(when the length is odd)/ index 2(when the length is even) with a step of 2, and compare it with the next element, let the greater one compare with the temp_max and the less one compare with temp_min. \\\n",
    "\n",
    "Time complexity calculation:\n",
    "1. Step 1, 2, 3 take constant time, which has a complexity O(1). \n",
    "2. Step 4, as the iteration has step of two, which the total amount of operations equal to $(full length-1)/2$ for odd sequence/ $(full length -2)/2$ for even sequence of the sequence(which is $\\frac{n}{2}$). and there are 3 comparison operations for every iteration. Hence, the complexity of the whole process should be $frac{3(n-1)}{2}$(odd)/ $frac{3n}{2}$-2(odd)\n",
    "\n",
    "\n",
    "Code:\n",
    "```python\n",
    "seq = np.random.randint(0,10000000,10000).tolist()\n",
    "if len(seq) % 2 == 1:\n",
    "    temp_max = temp_min = seq[0]\n",
    "    start_idx = 1\n",
    "else:\n",
    "    temp_max = max(seq[0], seq[1])\n",
    "    temp_min = min(seq[0], seq[1])\n",
    "    start_idx = 2\n",
    "for i in range(start_idx, len(seq), 2):\n",
    "    if seq[i] > seq[i+1]:\n",
    "        if seq[i] > temp_max:\n",
    "            temp_max = seq[i]\n",
    "        if seq[i+1] < temp_min:\n",
    "            temp_min = seq[i+1]\n",
    "    else:\n",
    "        if seq[i+1] > temp_max:\n",
    "            temp_max = seq[i+1]\n",
    "        if seq[i] < temp_min:\n",
    "            temp_min = seq[i]\n",
    "\n",
    "print(f\"max = {temp_max}\")\n",
    "print(f\"min = {temp_min}\")\n",
    "```"
   ]
  },
  {
   "cell_type": "code",
   "execution_count": 32,
   "id": "bd3a24aa",
   "metadata": {},
   "outputs": [
    {
     "name": "stdout",
     "output_type": "stream",
     "text": [
      "max = 9999937\n",
      "min = 697\n"
     ]
    }
   ],
   "source": [
    "temp_max = 0\n",
    "temp_min = 100000000\n",
    "seq = np.random.randint(0,10000000,10000).tolist()\n",
    "if len(seq) % 2 == 1:\n",
    "    temp_max = temp_min = seq[0]\n",
    "    start_idx = 1\n",
    "else:\n",
    "    temp_max = max(seq[0], seq[1])\n",
    "    temp_min = min(seq[0], seq[1])\n",
    "    start_idx = 2\n",
    "for i in range(start_idx, len(seq), 2):\n",
    "    if seq[i] > seq[i+1]:\n",
    "        if seq[i] > temp_max:\n",
    "            temp_max = seq[i]\n",
    "        if seq[i+1] < temp_min:\n",
    "            temp_min = seq[i+1]\n",
    "    else:\n",
    "        if seq[i+1] > temp_max:\n",
    "            temp_max = seq[i+1]\n",
    "        if seq[i] < temp_min:\n",
    "            temp_min = seq[i]\n",
    "\n",
    "print(f\"max = {temp_max}\")\n",
    "print(f\"min = {temp_min}\")"
   ]
  },
  {
   "cell_type": "markdown",
   "id": "bea1ed16",
   "metadata": {},
   "source": [
    "#### C-3.42 \n",
    "Bob built a Web site and gave the URL only to his n friends, which he numbered from 1 to n. He told friend number i that he/she can visit the Web site at most i times. Now Bob has a counter, C, keeping track of the total number of visits to the site (but not the identities of who visits). What is the minimum value for C such that Bob can know that one of his friends has visited his/her maximum allowed number of times?\n",
    "\n"
   ]
  },
  {
   "cell_type": "markdown",
   "id": "95e4bec7",
   "metadata": {},
   "source": [
    "#### C-3.43 \n",
    "Draw a visual justification of Proposition 3.3 analogous to that of Figure 3.3(b) for the case when n is odd.\n",
    "\n"
   ]
  },
  {
   "cell_type": "markdown",
   "id": "10de6fcf",
   "metadata": {},
   "source": [
    "#### C-3.44 \n",
    "Communication security is extremely important in computer networks, and one way many network protocols achieve security is to encrypt messages. Typical cryptographic schemes for the secure transmission of messages over such networks are based on the fact that no efficient algorithms are known for factoring large integers. Hence, if we can represent a secret message by a large prime number p, we can transmit, over the network, the number $r = p · q$, where $q > p$ is another large prime number that acts as the encryption key. An eavesdropper who obtains the transmitted number $r$ on the network would have to factor $r$ in order to figure out the secret message $p$.\\\n",
    "Using factoring to figure out a message is very difficult without knowing the encryption key $q$. To understand why, consider the following naive factoring algorithm:\n",
    "```python\n",
    "for p in range(2,r):\n",
    "    if r % p == 0:\n",
    "        return 'The secret message is p!'\n",
    "```\n",
    "\n",
    "    a. Suppose that the eavesdropper uses the above algorithm and has a computer that can carry out in 1 microsecond (1 millionth of a second) a division between two integers of up to 100 bits each. Give an estimate of the time that it will take in the worst case to decipher the secret message p if the transmitted message r has 100 bits.\n",
    "    b. What is the worst-case time complexity of the above algorithm?\n",
    "Since the input to the algorithm is just one large number r, assume that the input size n is the number of bytes needed to store r, that is, $n = ⌈(log2 r)/8⌉ + 1$, and that each division takes time $O(n)$.\n",
    "\n"
   ]
  },
  {
   "cell_type": "markdown",
   "id": "5c8e67a3",
   "metadata": {},
   "source": [
    "#### C-3.45 \n",
    "A sequence $S$ contains $n - 1$ unique integers in the range $[0,n - 1]$, that is, there is one number from this range that is not in $S$. Design an $O(n)$-time algorithm for finding that number. You are only allowed to use $O(1)$ additional space besides the sequence $S$ itself.\n"
   ]
  },
  {
   "cell_type": "markdown",
   "id": "85c23485",
   "metadata": {},
   "source": [
    "#### C-3.46 \n",
    "Al says he can prove that all sheep in a flock are the same color:\\\n",
    "*Base case*: One sheep. It is clearly the same color as itself.\\\n",
    "*Induction step*: A flock of n sheep. Take a sheep, a, out. The remaining $n - 1$ are all the same color by induction. Now put sheep a back in and take out a different sheep, b. By induction, the $n - 1$ sheep (now with a) are all the same color. Therefore, all the sheep in the flock are the same color. What is wrong with Al's \"justification\"?\n"
   ]
  },
  {
   "cell_type": "markdown",
   "id": "7918427f",
   "metadata": {},
   "source": [
    "#### C-3.47 \n",
    "Let $S$ be a set of $n$ lines in the plane such that no two are parallel and no three meet in the same point. Show, by induction, that the lines in S determine $Ω(n^2)$ intersection points.\n"
   ]
  },
  {
   "cell_type": "markdown",
   "id": "edbb8827",
   "metadata": {},
   "source": [
    "#### C-3.48 \n",
    "Consider the following \"justification\" that the Fibonacci function, $F(n)$ (see Proposition 3.20) is $O(n)$:\\\n",
    "*Base case* $(n ≤ 2): F(1) = 1$ and $F(2) = 2$.\\\n",
    "*Induction* step $(n > 2)$: Assume claim true for $n' < n$. Consider $n$, $F(n) = F(n-2) + F(n-1)$. By induction, $F(n-2)$ is $O(n-2)$ and $F(n-1)$ is $O(n-1)$. Then, $F(n)$ is $O((n-2)+(n-1))$, by the identity presented in Exercise R-3.11. Therefore, $F(n)$ is $O(n)$.\\\n",
    "What is wrong with this \"justification\"?\n",
    "\n"
   ]
  },
  {
   "cell_type": "markdown",
   "id": "f2d3f02a",
   "metadata": {},
   "source": [
    "#### C-3.49 \n",
    "Consider the Fibonacci function, F(n) (see Proposition 3.20). Show by induction that F(n) is $Ω((3/2)^n)$.\n"
   ]
  },
  {
   "cell_type": "markdown",
   "id": "eef5178e",
   "metadata": {},
   "source": [
    "#### C-3.50 \n",
    "Let $p(x)$ be a polynomial of degree $n$, that is, $p(x) = ∑^n_{i=0} a_ix^i$.\\\n",
    "(a) Describe a simple $O(n^2)$-time algorithm for computing $p(x)$.\\\n",
    "(b) Describe an $O(n log n)$-time algorithm for computing $p(x)$, based upon a more efficient calculation of $x^i$.\\\n",
    "(c) Now consider a rewriting of p(x) as\\\n",
    "$p(x) = a_0 + x(a_1 + x(a_2 + x(a_3 + ... + x(a_n-1 + xa_n)...)))$,\\\n",
    "which is known as Horner's method. Using the big-Oh notation, characterize the number of arithmetic operations this method executes.\n"
   ]
  },
  {
   "cell_type": "markdown",
   "id": "c5f1a154",
   "metadata": {},
   "source": [
    "#### C-3.51 \n",
    "Show that the summation $∑^n_{i=1} log i$ is $O(n log n)$.\n"
   ]
  },
  {
   "cell_type": "markdown",
   "id": "13482b3a",
   "metadata": {},
   "source": [
    "#### C-3.52 \n",
    "Show that the summation $∑^n_{i=1} log i$ is $Ω(n log n)$.\n"
   ]
  },
  {
   "cell_type": "markdown",
   "id": "f98311fd",
   "metadata": {},
   "source": [
    "#### C-3.53 \n",
    "An evil king has n bottles of wine, and a spy has just poisoned one of them. Unfortunately, they do not know which one it is. The poison is very deadly; just one drop diluted even a billion to one will still kill. Even so, it takes a full month for the poison to take effect. Design a scheme for determining exactly which one of the wine bottles was poisoned in just one month's time while expending O(log n) taste testers.\n"
   ]
  },
  {
   "cell_type": "markdown",
   "id": "93ff5e5c",
   "metadata": {},
   "source": [
    "#### C-3.54 \n",
    "A sequence $S$ contains n integers taken from the interval $[0,4n)$, with repetitions allowed. Describe an efficient algorithm for determining an integer value $k$ that occurs the most often in $S$. What is the running time of your algorithm?\n",
    "Projects\n"
   ]
  },
  {
   "cell_type": "markdown",
   "id": "821ab50a",
   "metadata": {},
   "source": [
    "#### P-3.55 \n",
    "Perform an experimental analysis of the three algorithms prefix_average1, prefix_average2, and prefix_average3, from Section 3.3.3. Visualize their running times as a function of the input size with a log-log chart.\n"
   ]
  },
  {
   "cell_type": "markdown",
   "id": "48e4f4df",
   "metadata": {},
   "source": [
    "#### P-3.56 \n",
    "Perform an experimental analysis that compares the relative running times of the functions shown in Code Fragment 3.10.\n"
   ]
  },
  {
   "cell_type": "markdown",
   "id": "b1aead0d",
   "metadata": {},
   "source": [
    "\n",
    "#### P-3.57\n",
    "Perform experimental analysis to test the hypothesis that Python's sorted method runs in $O(nlogn) time on average.\n"
   ]
  },
  {
   "cell_type": "markdown",
   "id": "106e8485",
   "metadata": {},
   "source": [
    "\n",
    "#### P.3.58\n",
    "For each of the three algorithms, unique1, unique2, and unique3, which solve the element uniqueness problem, perform an experimental analysis to determine the largest value of n such that the given algorithm runs in one minuete or less."
   ]
  }
 ],
 "metadata": {
  "kernelspec": {
   "display_name": "DSA_Learning_Project",
   "language": "python",
   "name": "python3"
  },
  "language_info": {
   "codemirror_mode": {
    "name": "ipython",
    "version": 3
   },
   "file_extension": ".py",
   "mimetype": "text/x-python",
   "name": "python",
   "nbconvert_exporter": "python",
   "pygments_lexer": "ipython3",
   "version": "3.11.0"
  }
 },
 "nbformat": 4,
 "nbformat_minor": 5
}
