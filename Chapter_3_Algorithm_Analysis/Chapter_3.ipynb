{
 "cells": [
  {
   "cell_type": "markdown",
   "source": [
    "## Chapter 3 Algorithm Analysis\n",
    "### 3.1 Experimental Studies\n"
   ],
   "metadata": {
    "collapsed": false
   },
   "id": "a36b7c047d9210b1"
  }
 ],
 "metadata": {
  "kernelspec": {
   "display_name": "Python 3",
   "language": "python",
   "name": "python3"
  },
  "language_info": {
   "codemirror_mode": {
    "name": "ipython",
    "version": 2
   },
   "file_extension": ".py",
   "mimetype": "text/x-python",
   "name": "python",
   "nbconvert_exporter": "python",
   "pygments_lexer": "ipython2",
   "version": "2.7.6"
  }
 },
 "nbformat": 4,
 "nbformat_minor": 5
}
