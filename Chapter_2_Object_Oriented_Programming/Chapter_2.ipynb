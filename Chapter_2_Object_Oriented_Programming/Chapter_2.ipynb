{
 "cells": [
  {
   "cell_type": "markdown",
   "source": [
    "## Chapter 2 Object-Oriented Programming\n",
    "### 2.1.1 Object-Oriented design goals\n",
    "  - Robustness\n",
    "  - Adaptability\n",
    "  - Reusability\n",
    "\n",
    "### 2.1.2 Object-Oriented design principles\n",
    "- **Modularity**\n",
    "  As a real-world analogy, a house or apartment can be viewed as consisting ofseveral interacting units: electrical, heating and cooling, plumbing, and structural.Rather than viewing these systems as one giant jumble of.wires,vents,pipes, andboards, the organized architect designing a house or apartment wilview them asseparate modules that interact in well-defined ways.\n",
    "  \n",
    " <br>\n",
    " \n",
    "- **Abstraction**\n",
    "Python has a tradition of treating abstraction simplicitly using a mechanism known as duck typing. As an interpreted and dynamically typed language, there is no \"compile time\"’\" checking of data types inPython, and no formal requirement for declarations of abstract base classes. Instead, programmers assume that an object supports a set of known behaviors, with the interpreter raising a run-time error if those assumptions fail. The description of this as \"duck typing\"comes from an adage attributed to poet James Whitcomb Riley, stating that \"when I see a bird that walks like a duck and swims like a duck and quacks like a duck, I call that bird a duck,\""
   ],
   "metadata": {
    "collapsed": false
   },
   "id": "1c6ce086c8d727b6"
  },
  {
   "cell_type": "code",
   "execution_count": 68,
   "outputs": [
    {
     "name": "stdout",
     "output_type": "stream",
     "text": [
      "Quack!\n",
      "I can make \"Quack\" sound like a duck.\n"
     ]
    }
   ],
   "source": [
    "# Example of Duck Typing\n",
    "\n",
    "class Duck:\n",
    "    def __init__(self):\n",
    "        pass\n",
    "    \n",
    "    def quack(self):\n",
    "        print('Quack!')\n",
    "        \n",
    "class Human():\n",
    "    def quack(self):\n",
    "        print('I can make \"Quack\" sound like a duck.')\n",
    "        \n",
    "def make_it_quack(duck):\n",
    "    duck.quack()\n",
    "    \n",
    "donald = Duck()\n",
    "john_doe = Human()\n",
    "\n",
    "# Here, the make_it_quack function works with both Duck and Person objects because both have a quack method. Python does not enforce that duck must be of type Duck; it only cares that duck has a quack method.\n",
    "\n",
    "make_it_quack(donald)\n",
    "make_it_quack(john_doe)"
   ],
   "metadata": {
    "collapsed": false,
    "ExecuteTime": {
     "end_time": "2024-06-13T12:04:30.727250Z",
     "start_time": "2024-06-13T12:04:30.721964Z"
    }
   },
   "id": "dee333042c01985c"
  },
  {
   "cell_type": "code",
   "execution_count": 11,
   "outputs": [
    {
     "name": "stdout",
     "output_type": "stream",
     "text": [
      "Woof!\n",
      "Meow!\n"
     ]
    }
   ],
   "source": [
    "from abc import ABC, abstractmethod\n",
    "\n",
    "class Animal(ABC):\n",
    "    @abstractmethod\n",
    "    def make_sound(self):\n",
    "        pass\n",
    "\n",
    "class Dog(Animal):\n",
    "    def make_sound(self):\n",
    "        return \"Woof!\"\n",
    "\n",
    "class Cat(Animal):\n",
    "    def make_sound(self):\n",
    "        return \"Meow!\"\n",
    "\n",
    "# animal = Animal()  # This will raise an error: Can't instantiate abstract class Animal with abstract methods make_sound\n",
    "\n",
    "dog = Dog()\n",
    "cat = Cat()\n",
    "\n",
    "print(dog.make_sound())  # Outputs: Woof!\n",
    "print(cat.make_sound())  # Outputs: Meow!\n"
   ],
   "metadata": {
    "collapsed": false,
    "ExecuteTime": {
     "end_time": "2024-10-29T15:15:01.186891Z",
     "start_time": "2024-10-29T15:15:01.173420Z"
    }
   },
   "id": "ae9cfe88eaece641"
  },
  {
   "cell_type": "markdown",
   "source": [
    "\n",
    "- Encapsulation\n",
    "\n"
   ],
   "metadata": {
    "collapsed": false
   },
   "id": "e1a5fe5a4c6a680d"
  },
  {
   "cell_type": "markdown",
   "source": [
    "## Design Pattern\n",
    "\n",
    "This book present several design patterns in this book, and we show how they can be consistently applied to implementations of data structures and algorithms. These design patterns fall into two groups patterns for solving algorithm design problems and patterns for solving software engineering problems. \n",
    "The **algorithm design patterns** we discuss include the following:\n",
    "Recursion (Chapter 4)\n",
    "Amortization (Sections 5.3 and 11.4)\n",
    "Divide-and-conquer (Section 12.2.1)\n",
    "Prune-and-search, also known as decrease-and-conquer (Section 12.7.1)\n",
    "Brute force (Section 13.2.1)\n",
    "Dynamic programming (Section 13.3).The greedy method (Sections 13.4.2, 14.6.2, and 14.7)\n",
    "</br>\n",
    "Likewise, the **software engineering design patterns** we discuss include:\n",
    "Iterator (Sections 1.8 and 2.3.4)\n",
    "Adapter (Section 6.1.2)\n",
    "Position (Sections 7.4 and 8.1.2)\n",
    "Composition (Sections 7.6.1, 9.2.1, and 10.1.4)\n",
    "Template method (Sections 2.4.3, 8.4.6, 10.1.3, 10.5.2, and 11.2.1)\n",
    "Locator (Section 9.5.1)\n",
    "Factory method (Section 11.2.1)\n"
   ],
   "metadata": {
    "collapsed": false
   },
   "id": "3049dd8e4225e53c"
  },
  {
   "cell_type": "markdown",
   "source": [
    "### 2.3 Class Definition"
   ],
   "metadata": {
    "collapsed": false
   },
   "id": "b6d3f2dcdf1caf94"
  },
  {
   "cell_type": "code",
   "execution_count": 2,
   "outputs": [
    {
     "name": "stdout",
     "output_type": "stream",
     "text": [
      "Customer = Jonathan Doe\n",
      "Bank = AAB\n",
      "Account = 3211 4819 7777 4919\n",
      "Limit = 2500\n",
      "Balance = 136\n",
      "New Balance = 36\n",
      "\n",
      "Customer = Jonathan Doe\n",
      "Bank = BBC\n",
      "Account = 1211 4819 8888 4919\n",
      "Limit = 3500\n",
      "Balance = 272\n",
      "New Balance = 172\n",
      "New Balance = 72\n",
      "\n",
      "Customer = Jonathan Doe\n",
      "Bank = CCA\n",
      "Account = 3211 4819 9999 4919\n",
      "Limit = 5000\n",
      "Balance = 408\n",
      "New Balance = 308\n",
      "New Balance = 208\n",
      "New Balance = 108\n",
      "New Balance = 8\n"
     ]
    }
   ],
   "source": [
    "\"\"\"\n",
    "Here's a example of CreditCard Class definition\n",
    "\"\"\"\n",
    "class CreditCard:\n",
    "    \"\"\"A consumer credit card.\"\"\"\n",
    "    def __init__(self, customer, bank, acnt, limit):\n",
    "        \"\"\"Create a new credit card instance\n",
    "        \n",
    "        The initial balance is zero\n",
    "        \n",
    "        customer  the name of the customer (e.g. 'John Roman')\n",
    "        bank      the name of the bank (e.g. 'California Saving')\n",
    "        acnt      the account identifier (e.g. '5522 3991 3332 2344')\n",
    "        limit     credit limit (measured in dollars) \n",
    "        \"\"\"\n",
    "        \n",
    "        self._customer = customer\n",
    "        self._bank = bank\n",
    "        self._acnt = acnt\n",
    "        self._limit = limit\n",
    "        self._balance = 0\n",
    "        \n",
    "    def get_customer(self):\n",
    "        \"\"\"return the name of customer\"\"\"        \n",
    "        return self._customer\n",
    "    \n",
    "    def get_bank(self):\n",
    "        \"\"\"return the name of bank\"\"\"\n",
    "        return self._bank\n",
    "    \n",
    "    def get_acnt(self):\n",
    "        \"\"\"return the account number, typically in string\"\"\"\n",
    "        return self._acnt\n",
    "    \n",
    "    def get_limit(self):\n",
    "        \"\"\"return current credit limit\"\"\"\n",
    "        return self._limit\n",
    "    \n",
    "    def get_balance(self):\n",
    "        \"\"\"return current balance\"\"\"\n",
    "        return self._balance\n",
    "    \n",
    "    def charge(self, price):\n",
    "        \"\"\"Charge given price to the card, assuming sufficient credit limit.\n",
    "        Return True if the charge was processed; False if charge was denied.\n",
    "        \"\"\"\n",
    "        if price + self._balance > self._limit:\n",
    "            return False\n",
    "        else:\n",
    "            self._balance += price\n",
    "            return True\n",
    "        \n",
    "    def make_payment(self, amount):\n",
    "        \"\"\"Process customer payment that reduces balance\"\"\"\n",
    "        self._balance -= amount\n",
    "        return self._balance\n",
    "    \n",
    "\n",
    "if __name__ == '__main__':\n",
    "    wallet = []\n",
    "    wallet.append(CreditCard('Jonathan Doe', 'AAB', '3211 4819 7777 4919', 2500))\n",
    "    wallet.append(CreditCard('Jonathan Doe', 'BBC', '1211 4819 8888 4919', 3500))\n",
    "    wallet.append(CreditCard('Jonathan Doe', 'CCA', '3211 4819 9999 4919', 5000))\n",
    "    for val in range(1,17):\n",
    "        wallet[0].charge(val)\n",
    "        wallet[1].charge(val*2)\n",
    "        wallet[2].charge(val*3)\n",
    "        \n",
    "    for c in range(3):\n",
    "        print(f\"Customer = {wallet[c].get_customer()}\")\n",
    "        print(f\"Bank = {wallet[c].get_bank()}\")\n",
    "        print(f\"Account = {wallet[c].get_acnt()}\")\n",
    "        print(f\"Limit = {wallet[c].get_limit()}\")\n",
    "        print(f\"Balance = {wallet[c].get_balance()}\")\n",
    "        while wallet[c].get_balance() > 100:\n",
    "            wallet[c].make_payment(100)\n",
    "            print(f\"New Balance = {wallet[c].get_balance()}\")\n",
    "        print()\n"
   ],
   "metadata": {
    "collapsed": false,
    "ExecuteTime": {
     "end_time": "2024-09-01T04:28:08.211844Z",
     "start_time": "2024-09-01T04:28:08.210472Z"
    }
   },
   "id": "1485bb27b8163f14"
  },
  {
   "cell_type": "code",
   "execution_count": 102,
   "outputs": [
    {
     "name": "stdout",
     "output_type": "stream",
     "text": [
      "[19, 0, 5]\n",
      "[19, 0, -3]\n",
      "16\n",
      "<[19, 0, -3]>\n"
     ]
    }
   ],
   "source": [
    "\"\"\"Example Multidimensional Vector Class\n",
    "   To demonstrate the use of operator overloading via special method.\n",
    "\"\"\"\n",
    "\n",
    "class Vector:\n",
    "    def __init__(self, dims):\n",
    "        \"\"\"Create d-dimensional vector of zero\"\"\"\n",
    "        self.dims = dims\n",
    "        self.vector = [0] * dims\n",
    "        \n",
    "    def __len__(self):\n",
    "        \"\"\"Return the dimension of the vector\"\"\"\n",
    "        return len(self.vector)\n",
    "\n",
    "    def __getitem__(self, j):\n",
    "        \"\"\"Return the jth coordinate of vector\"\"\"\n",
    "        return self.vector[j]\n",
    "    \n",
    "    def __setitem__(self, j, value):\n",
    "        \"\"\"Set jth coordinate of vector to given value\"\"\"\n",
    "        self.vector[j] = value\n",
    "        return self.vector\n",
    "    \n",
    "    def __add__(self, other):\n",
    "        \"\"\"Return the sum of two vector\"\"\"\n",
    "        if len(self.vector) != len(other.vector):\n",
    "            raise ValueError('Two Vectors must have the same length!')\n",
    "        return [self.vector[i]+ other.vector[i] for i in range(len(self.vector))]\n",
    "    \n",
    "    def __eq__(self, other):\n",
    "        \"\"\"\"\"\"\n",
    "        if self.vector == other.vector:\n",
    "            return True\n",
    "    \n",
    "    def __ne__(self, other):\n",
    "        if self.vector != other.vector:\n",
    "            return True\n",
    "    \n",
    "    def __str__(self):\n",
    "        return '<' + str(self.vector[:]) + '>'\n",
    "    \n",
    "v_a = Vector(3)\n",
    "v_b = Vector(3)\n",
    "v_a[0] = 19\n",
    "v_a[-1] = -3\n",
    "v_b[-1]= 8\n",
    "total = 0\n",
    "for entry in v_a:\n",
    "    total += entry\n",
    "\n",
    "\n",
    "print(v_a+v_b)\n",
    "print(v_a[:])\n",
    "print(total)\n",
    "print(v_a)"
   ],
   "metadata": {
    "collapsed": false,
    "ExecuteTime": {
     "end_time": "2024-06-19T10:17:29.109264Z",
     "start_time": "2024-06-19T10:17:29.096129Z"
    }
   },
   "id": "8f2e4390ece5404"
  },
  {
   "cell_type": "code",
   "execution_count": 73,
   "outputs": [
    {
     "data": {
      "text/plain": "[0, 0, 0, 0, 0]"
     },
     "execution_count": 73,
     "metadata": {},
     "output_type": "execute_result"
    }
   ],
   "source": [
    "\"\"\"An Example to demonstrate how an iterator works\"\"\"\n",
    "\n",
    "class SequenceIterator:\n",
    "    \"\"\"An iterator for any of Python's sequence types\"\"\"\n",
    "    def __init__(self, sequence):\n",
    "        \"\"\"Create an iterator for a given sequence\"\"\"\n",
    "        self._seq = sequence\n",
    "        self._k = -1\n",
    "        \n",
    "    def __next__(self):\n",
    "        \"\"\"Return the next element, or else raise StopIteration error.\"\"\"\n",
    "        self._k += 1\n",
    "        if self._k <= len(self._seq):\n",
    "            return self._seq[self._k]\n",
    "        else:\n",
    "            raise StopIteration()\n",
    "        \n",
    "    def __iter__(self):\n",
    "        \"\"\"By convention, an iterator must return itself as an iterator.\"\"\"\n",
    "        return self\n",
    "    \n",
    "    \n",
    "    "
   ],
   "metadata": {
    "collapsed": false,
    "ExecuteTime": {
     "end_time": "2024-06-19T09:41:33.643246Z",
     "start_time": "2024-06-19T09:41:33.621848Z"
    }
   },
   "id": "dc7dcd7d306dd3d7"
  },
  {
   "cell_type": "code",
   "execution_count": 147,
   "outputs": [],
   "source": [
    "\"\"\"A Range Class Example\"\"\"\n",
    "\n",
    "class Range:\n",
    "    \"\"\"A class that mimic's the python build-in class range.\"\"\"\n",
    "    def __init__(self, start, stop=None, step=1):\n",
    "        \"\"\"Initialize a Range instance\n",
    "        Semantics is similar to the build-in range class.\n",
    "        \"\"\"\n",
    "        \n",
    "        if step == 0:\n",
    "            raise ValueError('step cannot be 0')\n",
    "        \n",
    "        if stop is None:  # special case as range(n)\n",
    "            start, stop = 0, start # should be treated as range(0, n)\n",
    "        \n",
    "        self._length = max(0, (stop-start+step-1)//step)\n",
    "        self._start = start\n",
    "        self._step = step\n",
    "        \n",
    "    def __len__(self):\n",
    "        \"\"\"Return number of entries of the range\"\"\"\n",
    "        return self._length\n",
    "    \n",
    "    def __getitem__(self, j):\n",
    "        \"\"\"Return the entry at index k (using standard interpretation if negative\"\"\"\n",
    "        if j < 0:\n",
    "            j += self._length\n",
    "            \n",
    "        if 0 <= j < self._length:\n",
    "            raise IndexError('index out of Range')\n",
    "\n",
    "        return self._start + j* self._step\n",
    "    \n"
   ],
   "metadata": {
    "collapsed": false,
    "ExecuteTime": {
     "end_time": "2024-06-20T07:22:06.575281Z",
     "start_time": "2024-06-20T07:22:06.512045Z"
    }
   },
   "id": "43ad607a6cc1c0a2"
  },
  {
   "cell_type": "code",
   "execution_count": 120,
   "outputs": [
    {
     "name": "stdout",
     "output_type": "stream",
     "text": [
      "2\n",
      "0\n",
      "4\n"
     ]
    }
   ],
   "source": [
    "\"\"\"Extending the CreditCard class by using super() method to demonstrate the mechanisms for inheritance\"\"\"\n",
    "\n",
    "class PredatoryCreditCard(CreditCard):\n",
    "    \"\"\"Create a new predatory credit card instance.\n",
    "    \n",
    "    The initial balance is zero\n",
    "    \n",
    "    customer  the name of the customer (e.g., 'John Bowman')\n",
    "    bank      the name of the bank (e.g., 'California Savings)\n",
    "    acnt      the account identifier (e.g., '5391 0375 9387 5309') \n",
    "    limit     credit limit (measured in dollars)\n",
    "    apr       annual percentage rate (e.g., 0.0825 for 8.25% APR)\n",
    "    \"\"\"\n",
    "    \n",
    "    def __init__(self, customer, bank, acnt, limit, apr):\n",
    "        super().__init__(customer, bank, acnt, limit)\n",
    "        self._apr = apr\n",
    "        \n",
    "    def charge(self, price):\n",
    "        \"\"\"Charge given price to the card, assuming sufficient credit limit.\n",
    "        \n",
    "        Return True if charge was processed.\n",
    "        Return False and assess $5 fee if charge is denied.\n",
    "        \"\"\"\n",
    "        success = super().charge(price)   # call inherited method\n",
    "        if not success:\n",
    "            self._balance += 5\n",
    "        return success # caller expects return value\n",
    "    \n",
    "    def process_month(self):\n",
    "        \"\"\"Access monthly interest outstanding balance.\"\"\"\n",
    "        if self._balance > 0:\n",
    "            monthly_interest = pow(1+self._apr, 1/12)\n",
    "            self._balance *= monthly_interest\n",
    "        \n",
    "            \n",
    "        \n",
    "    \n",
    "        "
   ],
   "metadata": {
    "collapsed": false,
    "ExecuteTime": {
     "end_time": "2024-06-20T02:32:37.144647Z",
     "start_time": "2024-06-20T02:32:37.115875Z"
    }
   },
   "id": "68dd1705e29223e1"
  },
  {
   "cell_type": "markdown",
   "source": [
    "## 2.4.2 Hierarchy of Numeric Progression"
   ],
   "metadata": {
    "collapsed": false
   },
   "id": "8bfb368ffa0bcba1"
  },
  {
   "cell_type": "code",
   "execution_count": 2,
   "outputs": [
    {
     "name": "stdout",
     "output_type": "stream",
     "text": [
      "10 11 12 13 14 15 16 17 18 19 20\n"
     ]
    }
   ],
   "source": [
    "class Progression:\n",
    "    def __init__(self, start=0):\n",
    "        self._current = start\n",
    "        \n",
    "    def __iter__(self):\n",
    "        return self\n",
    "    \n",
    "    def _advance(self):\n",
    "        \"\"\" Update self._current to a new value.\n",
    "        \n",
    "        This should be overridden by a subclass to customize progression\n",
    "        \n",
    "        By convention, if current is set to None, this designates the end of a finite progression. \n",
    "        \"\"\"\n",
    "        self._current += 1\n",
    "    \n",
    "    def __next__(self):\n",
    "        if self._current is None:\n",
    "            raise StopIteration()\n",
    "        else:\n",
    "            answer = self._current\n",
    "            self._advance()\n",
    "            return answer\n",
    "        \n",
    "    def print_progression(self, n):\n",
    "        \"\"\" Print the next n value of the progression.\"\"\"\n",
    "        print(' '.join(str(next(self)) for j in range(n)))\n",
    "        \n",
    "ps = Progression(10)\n",
    "ps.print_progression(11)"
   ],
   "metadata": {
    "collapsed": false,
    "ExecuteTime": {
     "end_time": "2024-10-30T11:38:55.075668Z",
     "start_time": "2024-10-30T11:38:55.067067Z"
    }
   },
   "id": "71ef17af05ba6a73"
  },
  {
   "cell_type": "code",
   "execution_count": 3,
   "outputs": [
    {
     "name": "stdout",
     "output_type": "stream",
     "text": [
      "5 8 11 14 17 20 23 26 29 32 35 38 41 44 47 50 53 56 59 62\n"
     ]
    }
   ],
   "source": [
    "class ArithmeticProgression(Progression):\n",
    "    def __init__(self,increment=1,start=0):\n",
    "        \"\"\"Create a new arithmetic progression class\n",
    "        :param increment: the fix constant to add to each term (default 1)\n",
    "        :param start:     the first term of progression (default 0) \n",
    "        \"\"\"\n",
    "        super().__init__(start)\n",
    "        self._increment = increment\n",
    "        \n",
    "    def _advance(self):\n",
    "        \"\"\"Update self._current value by adding the fixed increment\"\"\"\n",
    "        self._current += self._increment\n",
    "        \n",
    "        \n",
    "ap = ArithmeticProgression(3, 5)\n",
    "\n",
    "ap.print_progression(20)   "
   ],
   "metadata": {
    "collapsed": false,
    "ExecuteTime": {
     "end_time": "2024-10-30T11:38:58.705431Z",
     "start_time": "2024-10-30T11:38:58.588624Z"
    }
   },
   "id": "dfe8e75c47396675"
  },
  {
   "cell_type": "code",
   "execution_count": 50,
   "outputs": [
    {
     "name": "stdout",
     "output_type": "stream",
     "text": [
      "3 27 243 2187 19683 177147 1594323 14348907 129140163 1162261467\n"
     ]
    }
   ],
   "source": [
    "class GeometricProgression(Progression):\n",
    "    def __init__(self, base=2, start=1):\n",
    "        \"\"\"Create a new geometric progression class\n",
    "        :param base:   the fix constant multiplied to each term ( default 2)\n",
    "        :param start:  the first term of progression （ default 1)\n",
    "        \"\"\"\n",
    "        super().__init__(start)\n",
    "        self._base = base\n",
    "        \n",
    "    def _advance(self):\n",
    "        \"\"\"Update self._current value by multiplying the base value.\"\"\"\n",
    "        self._current *= self._base\n",
    "        \n",
    "\n",
    "gp = GeometricProgression(9,3)\n",
    "\n",
    "gp.print_progression(10)"
   ],
   "metadata": {
    "collapsed": false,
    "ExecuteTime": {
     "end_time": "2024-10-30T10:24:15.592792Z",
     "start_time": "2024-10-30T10:24:15.561571Z"
    }
   },
   "id": "db1adcef75df3edb"
  },
  {
   "cell_type": "code",
   "execution_count": 27,
   "outputs": [
    {
     "name": "stdout",
     "output_type": "stream",
     "text": [
      "0 1 1 2 3 5 8 13 21 34\n"
     ]
    }
   ],
   "source": [
    "class FibonacciProgression(Progression):\n",
    "    def __init__(self, first=0, second=1):\n",
    "        \"\"\"Iterator producing a generalized Fibonacci progression\n",
    "        :param first:    the first term of the progression (default 0)\n",
    "        :param second:   the second term of the progression (default 1)\n",
    "        \"\"\"\n",
    "        self._prev = second - first\n",
    "        super().__init__(first)\n",
    "        \n",
    "    def _advance(self):\n",
    "        \"\"\"Update self._current and self._prev value by taking sum of previous two.\"\"\"\n",
    "        self._prev, self._current = self._current, self._prev + self._current\n",
    "        \n",
    "fb = FibonacciProgression()\n",
    "fb.print_progression(10)"
   ],
   "metadata": {
    "collapsed": false,
    "ExecuteTime": {
     "end_time": "2024-10-30T09:59:21.993641Z",
     "start_time": "2024-10-30T09:59:21.986575Z"
    }
   },
   "id": "4ee99489086c5c81"
  },
  {
   "cell_type": "code",
   "execution_count": 178,
   "outputs": [
    {
     "name": "stdout",
     "output_type": "stream",
     "text": [
      "Default progression:\n",
      "0 1 2 3 4 5 6 7 8 9\n",
      "Arithmatic Progression with increment 5.\n",
      "0 5 10 15 20 25 30 35 40 45\n",
      "Arithmetic Progression with increment 5 and start 2\n",
      "2 7 12 17 22 27 32 37 42 47\n",
      "Geometric Progression with default base.\n",
      "1 2 4 8 16 32 64 128 256 512\n",
      "Geometric Progression with base 3 and default start\n",
      "1 3 9 27 81 243 729 2187 6561 19683\n",
      "Fibonacci Progression with default start\n",
      "0 1 1 2 3 5 8 13 21 34\n",
      "Fibonacci Progression with start values 4 and 6\n",
      "4 6 10 16 26 42 68 110 178 288\n"
     ]
    }
   ],
   "source": [
    "\"\"\"Test our Progression class family\"\"\"\n",
    "\n",
    "if __name__ == '__main__':\n",
    "    print(\"Default progression:\")\n",
    "    Progression().print_progression(10)\n",
    "    \n",
    "    print(\"Arithmatic Progression with increment 5.\")\n",
    "    ArithmeticProgression(5).print_progression(10)\n",
    "    \n",
    "    print(\"Arithmetic Progression with increment 5 and start 2\")\n",
    "    ArithmeticProgression(5, 2).print_progression(10)\n",
    "    \n",
    "    print(\"Geometric Progression with default base.\")\n",
    "    GeometricProgression().print_progression(10)\n",
    "    \n",
    "    print(\"Geometric Progression with base 3 and default start\")\n",
    "    GeometricProgression(3).print_progression(10)\n",
    "    \n",
    "    print(\"Fibonacci Progression with default start\")\n",
    "    FibonacciProgression().print_progression(10)\n",
    "    \n",
    "    print(\"Fibonacci Progression with start values 4 and 6\")\n",
    "    FibonacciProgression(4,6).print_progression(10)"
   ],
   "metadata": {
    "collapsed": false,
    "ExecuteTime": {
     "end_time": "2024-06-22T06:25:12.168730Z",
     "start_time": "2024-06-22T06:25:12.123836Z"
    }
   },
   "id": "872627812d933b2b"
  },
  {
   "cell_type": "markdown",
   "source": [
    "## 2.4.3 Abstract Based Classes \n"
   ],
   "metadata": {
    "collapsed": false
   },
   "id": "66ceee44e233c252"
  },
  {
   "cell_type": "code",
   "execution_count": 1,
   "outputs": [
    {
     "name": "stdout",
     "output_type": "stream",
     "text": [
      "3\n",
      "9\n",
      "2\n",
      "4\n",
      "True\n"
     ]
    }
   ],
   "source": [
    "\"\"\"In this implementation, I create a 'MySubClass' to indicate how to create a subclass by through an AbstractBaseClass. When we use abstractmethod, it means we ensure the rule that all the subclass must include __len__() and __getitem__() method. And all the subclass can use those concrete method like index(), __contains__(), count()\"\"\"\n",
    "from abc import ABCMeta, abstractmethod\n",
    "\n",
    "class Sequence(metaclass=ABCMeta):\n",
    "    @abstractmethod\n",
    "    def __len__(self):\n",
    "        \"\"\"Return the length of the sequence\"\"\"\n",
    "    \n",
    "    @abstractmethod\n",
    "    def __getitem__(self, j):\n",
    "        \"\"\"Return the element at index j of the sequence\"\"\"\n",
    "    \n",
    "    def __contains__(self, val):\n",
    "        \"\"\"Return True if val found in sequence, False otherwise.\"\"\"\n",
    "        for i in range(len(self)):\n",
    "            if val == self[i]:\n",
    "                return True\n",
    "        return False\n",
    "            \n",
    "    def index(self, val):\n",
    "        \"\"\"Return leftmost index at which val is found (or raise ValueError)\"\"\"\n",
    "        for i in range(len(self)):\n",
    "            if val == self[i]:\n",
    "                return i\n",
    "        raise ValueError\n",
    "        \n",
    "    def count(self, val):\n",
    "        \"\"\"Return the number of elements equal to given value.\"\"\"\n",
    "        k = 0\n",
    "        for i in range(len(self)):\n",
    "            if val == self[i]:\n",
    "                k +=1\n",
    "        return k\n",
    "\n",
    "class MySubClass(Sequence):\n",
    "    def __init__(self,seq):\n",
    "        self._seq = seq\n",
    "        \n",
    "    def __len__(self):\n",
    "        return len(self._seq)\n",
    "        \n",
    "    def __getitem__(self, j):\n",
    "        return self._seq[j]\n",
    "    \n",
    "msc = MySubClass([1,3,3,3,5,7,7,8,9])\n",
    "print(msc[3])\n",
    "print(len(msc))\n",
    "print(msc.count(7))\n",
    "print(msc.index(5))\n",
    "print(3 in msc)\n",
    "    "
   ],
   "metadata": {
    "collapsed": false,
    "ExecuteTime": {
     "end_time": "2024-11-17T14:44:43.809847Z",
     "start_time": "2024-11-17T14:44:43.782494Z"
    }
   },
   "id": "a9e40b3caef71b03"
  },
  {
   "cell_type": "markdown",
   "source": [
    "## 2.5 Namespaces and Object-Orientation\n",
    "## 2.5.1 Instance and Class Namespaces"
   ],
   "metadata": {
    "collapsed": false
   },
   "id": "3890274ca5eddd1f"
  },
  {
   "cell_type": "code",
   "execution_count": 14,
   "outputs": [
    {
     "name": "stdout",
     "output_type": "stream",
     "text": [
      "0\n",
      "False\n",
      "5\n"
     ]
    }
   ],
   "source": [
    "\"\"\"Class Data Members\n",
    "A Class-level data member is often used when there is some value, such as a constant, that is to be shared by all instances of a class.  \n",
    "As a sample, we revisit the PredatoryCreditCard \n",
    "\"\"\"\n",
    "\n",
    "class PredatoryCreditCard(CreditCard):\n",
    "    OVERLIMIT_FEE = 5\n",
    "    \n",
    "    def charge(self, price):\n",
    "        success = super().charge(price)\n",
    "        if not success:\n",
    "            self._balance += PredatoryCreditCard.OVERLIMIT_FEE\n",
    "        return success\n",
    "    \n",
    "pcc = PredatoryCreditCard('Jenny','CBB','1100 1110 1001 1011', 500)\n",
    "print(pcc.get_balance())\n",
    "print(pcc.charge(5000))\n",
    "print(pcc.get_balance())"
   ],
   "metadata": {
    "collapsed": false,
    "ExecuteTime": {
     "end_time": "2024-09-01T09:27:19.701085Z",
     "start_time": "2024-09-01T09:27:19.689513Z"
    }
   },
   "id": "ac6a510add2e47b9"
  },
  {
   "cell_type": "code",
   "execution_count": 50,
   "outputs": [
    {
     "name": "stdout",
     "output_type": "stream",
     "text": [
      "{'_customer': 'Jenny', '_bank': 'CBB', '_acnt': '1100 1110 1001 1011', '_limit': 500, '_balance': 5, 'x': 3}\n",
      "{'_customer': 'Jenny', '_bank': 'CBB', '_acnt': '1100 1110 1001 1011', '_limit': 500, '_balance': 5, 'x': 3}\n",
      "3\n",
      "{'z': 100}\n",
      "sec.x =  10\n",
      "ec.x =  10\n"
     ]
    },
    {
     "ename": "AttributeError",
     "evalue": "'ExampleClass' object has no attribute 'z'",
     "output_type": "error",
     "traceback": [
      "\u001B[0;31m---------------------------------------------------------------------------\u001B[0m",
      "\u001B[0;31mAttributeError\u001B[0m                            Traceback (most recent call last)",
      "Cell \u001B[0;32mIn[50], line 28\u001B[0m\n\u001B[1;32m     26\u001B[0m ec\u001B[38;5;241m.\u001B[39mx \u001B[38;5;241m=\u001B[39m \u001B[38;5;241m10\u001B[39m\n\u001B[1;32m     27\u001B[0m \u001B[38;5;28mprint\u001B[39m(\u001B[38;5;124m'\u001B[39m\u001B[38;5;124mec.x = \u001B[39m\u001B[38;5;124m'\u001B[39m, ec\u001B[38;5;241m.\u001B[39mx)\n\u001B[0;32m---> 28\u001B[0m ec\u001B[38;5;241m.\u001B[39mz \u001B[38;5;241m=\u001B[39m \u001B[38;5;241m50\u001B[39m\n",
      "\u001B[0;31mAttributeError\u001B[0m: 'ExampleClass' object has no attribute 'z'"
     ]
    }
   ],
   "source": [
    "\"\"\"1. You can use .__dict__ method to check what namespaces does an instance contain (and this mechanism require extra memory of your system.) \n",
    "   2. By the code fragment below you can see, we actually can add a variable to a instance by using [instance_name].[variable_name] = value (We can see this as a benefit of dynamic programing language, compare to static programing language.\n",
    "   3. To avoid the extra-memory-used problem in 1. , we can use __slots__ method as a solution \n",
    "   4. Additionally, __slots__ method can also limit variables of a Class, so if I write a code like \" __slots__ = ('x', 'y')\" inside the declaration of ExampleClass, I can't add other variables (such as 'z') to instances of ExampleClass, and I can't use __dict__ to show all variables of ExampleClass as well (because it hadn't created one when it was created).\n",
    "   5. If you set up a subclass of ExampleClass, you can use __dict__ and add new variable to the instance dynamically. However, when you use __dict__ method to show all variables, it won't show those had define in __slots__\". Or, if you want to make sure all inheritances to avoid creation of instance dictionaries, you should also declare __slots__ in your subclasses.   \n",
    "\"\"\"\n",
    "pcc1 = PredatoryCreditCard('Jenny1','CBB','1100 1110 1001 1011', 500)\n",
    "print(pcc.__dict__)\n",
    "pcc.x =3\n",
    "print(pcc.__dict__)\n",
    "print(pcc.x)\n",
    "\n",
    "class ExampleClass:\n",
    "    __slots__ = ('x','y')\n",
    "\n",
    "class SubExampleClass(ExampleClass):\n",
    "    pass\n",
    "\n",
    "sec = SubExampleClass()   \n",
    "sec.x = 10\n",
    "sec.z = 100\n",
    "print(sec.__dict__)\n",
    "print('sec.x = ', sec.x)\n",
    "ec = ExampleClass()\n",
    "ec.x = 10\n",
    "print('ec.x = ', ec.x)\n",
    "ec.z = 50"
   ],
   "metadata": {
    "collapsed": false,
    "ExecuteTime": {
     "end_time": "2024-09-01T10:41:15.996341Z",
     "start_time": "2024-09-01T10:41:15.978388Z"
    }
   },
   "id": "c6e1d4f009edc3e4"
  },
  {
   "cell_type": "code",
   "execution_count": 40,
   "outputs": [
    {
     "ename": "AttributeError",
     "evalue": "'ExampleClass' object has no attribute '__dict__'",
     "output_type": "error",
     "traceback": [
      "\u001B[0;31m---------------------------------------------------------------------------\u001B[0m",
      "\u001B[0;31mAttributeError\u001B[0m                            Traceback (most recent call last)",
      "Cell \u001B[0;32mIn[40], line 1\u001B[0m\n\u001B[0;32m----> 1\u001B[0m ec\u001B[38;5;241m.\u001B[39m\u001B[38;5;18m__dict__\u001B[39m\n",
      "\u001B[0;31mAttributeError\u001B[0m: 'ExampleClass' object has no attribute '__dict__'"
     ]
    }
   ],
   "source": [
    "ec.__dict__"
   ],
   "metadata": {
    "collapsed": false,
    "ExecuteTime": {
     "end_time": "2024-09-01T10:23:32.564801Z",
     "start_time": "2024-09-01T10:23:32.549358Z"
    }
   },
   "id": "5bd79291b53d2bee"
  },
  {
   "cell_type": "markdown",
   "source": [
    "## 2.6 Shallow and Deep copy"
   ],
   "metadata": {
    "collapsed": false
   },
   "id": "752fecd336215ae4"
  },
  {
   "cell_type": "code",
   "execution_count": 72,
   "outputs": [
    {
     "name": "stdout",
     "output_type": "stream",
     "text": [
      "warm color ID: 4406480192\n",
      "content of warm color[0]: {'_red': 249, '_green': 124, '_blue': 43}\n",
      "palette ID as reference: 4406480192\n",
      "content of palette[0]: {'_red': 249, '_green': 124, '_blue': 43}\n",
      "warm color ID: 4406480192\n",
      "content of warm color: [<__main__.Color object at 0x1068c9ad0>, <__main__.Color object at 0x106a56a10>]\n",
      "palette ID : 4396414144\n",
      "content of palette: [<__main__.Color object at 0x1068c9ad0>, <__main__.Color object at 0x106a56a10>]\n",
      "content of warm color after pop: [<__main__.Color object at 0x1068c9ad0>, <__main__.Color object at 0x106a56a10>]\n",
      "content of palette after pop: [<__main__.Color object at 0x1068c9ad0>]\n",
      "content of warm color after edit value: {'_red': 99, '_green': 124, '_blue': 43}\n",
      "content of palette after edit value: {'_red': 99, '_green': 124, '_blue': 43}\n",
      "warm color ID: 4406696448\n",
      "palette ID: 4406062720\n",
      "content of warm color[0] value: {'_red': 249, '_green': 124, '_blue': 43}\n",
      "content of palette[0] value: {'_red': 99, '_green': 124, '_blue': 43}\n"
     ]
    }
   ],
   "source": [
    "class Color:\n",
    "    def __init__(self, r, g, b):\n",
    "        self._red = r\n",
    "        self._green = g\n",
    "        self._blue = b\n",
    "\n",
    "warm_color = [Color(249, 124, 43), Color(169, 163, 52)]\n",
    "\n",
    "# no new list creat, just a reference:\n",
    "palette = warm_color\n",
    "print('warm color ID:', id(warm_color))\n",
    "print('content of warm color[0]:', warm_color[0].__dict__)\n",
    "print('palette ID as reference:', id(palette))\n",
    "print('content of palette[0]:', palette[0].__dict__)\n",
    "\n",
    "# shallow copy ( different id, can delete element of list, but share same content)\n",
    "palette = list(warm_color)\n",
    "print('warm color ID:', id(warm_color))\n",
    "print('content of warm color:', warm_color)\n",
    "print('palette ID :', id(palette))\n",
    "print('content of palette:', palette)\n",
    "palette.pop()\n",
    "print('content of warm color after pop:', warm_color)\n",
    "print('content of palette after pop:', palette)\n",
    "palette[0]._red = 99\n",
    "print('content of warm color after edit value:', warm_color[0].__dict__)\n",
    "print('content of palette after edit value:', palette[0].__dict__)\n",
    "\n",
    "# deep copy, by using the module 'copy'\n",
    "import copy\n",
    "\n",
    "warm_color = [Color(249, 124, 43), Color(169, 163, 52)]\n",
    "palette = copy.deepcopy(warm_color)\n",
    "print('warm color ID:', id(warm_color))\n",
    "print('palette ID:', id(palette))\n",
    "palette[0]._red = 99\n",
    "print('content of warm color[0] value:', warm_color[0].__dict__)\n",
    "print('content of palette[0] value:', palette[0].__dict__)\n"
   ],
   "metadata": {
    "collapsed": false,
    "ExecuteTime": {
     "end_time": "2024-09-03T14:45:27.081293Z",
     "start_time": "2024-09-03T14:45:27.076518Z"
    }
   },
   "id": "5184b674a58e141d"
  },
  {
   "cell_type": "markdown",
   "source": [
    "## 2.7 Exercises"
   ],
   "metadata": {
    "collapsed": false
   },
   "id": "3aba5924390ded7"
  },
  {
   "cell_type": "code",
   "execution_count": 75,
   "outputs": [
    {
     "name": "stdout",
     "output_type": "stream",
     "text": [
      "1. Automatic Driving \n",
      "2. Remote surgery\n",
      "3. Software in heart monitor\n"
     ]
    }
   ],
   "source": [
    "\"\"\"Reinforcement\n",
    "R-2.1 Give three examples of life-critical software applications.\n",
    "\"\"\"\n",
    "print('1. Automatic Driving \\n2. Remote surgery\\n3. Software in heart monitor')"
   ],
   "metadata": {
    "collapsed": false,
    "ExecuteTime": {
     "end_time": "2024-09-03T15:35:50.912174Z",
     "start_time": "2024-09-03T15:35:50.908048Z"
    }
   },
   "id": "dd101db20aec1cf5"
  },
  {
   "cell_type": "code",
   "execution_count": 0,
   "outputs": [],
   "source": [
    "\"\"\"R-2.2 Give an example of a software application in which adaptability can mean the difference between a prolonged lifetime of sales and bankruptcy.\n",
    "\"\"\"\n",
    "print('E-commerce platforms billions of business expand their client group to all over the world.')"
   ],
   "metadata": {
    "collapsed": false
   },
   "id": "ee6d387d48816179"
  },
  {
   "cell_type": "code",
   "execution_count": 77,
   "outputs": [
    {
     "name": "stdout",
     "output_type": "stream",
     "text": [
      "The main text area in a text-editor GUI which can capture and show what user had input is a usually in the middle, white area.\n",
      "It usually has three main components:\n",
      "  1. A background which simulates the same function of paper. Where showing the content of the text file. \n",
      "  2. Contents which can be both read from the original file or typed by the current user. \n",
      "  3. Cursor which is a flashing object to indicate current input position. \n"
     ]
    }
   ],
   "source": [
    "\"\"\"R-2.3 Describe a component from a text-editor GUI and the methods that it encapsulates.\"\"\"\n",
    "print('The main text area in a text-editor GUI which can capture and show what user had input is a usually in the middle, white area.')\n",
    "print('It usually has three main components:\\n  1. A background which simulates the same function of paper. Where showing the content of the text file. \\n  2. Contents which can be both read from the original file or typed by the current user. \\n  3. Cursor which is a flashing object to indicate current input position. ')"
   ],
   "metadata": {
    "collapsed": false,
    "ExecuteTime": {
     "end_time": "2024-09-03T15:53:07.373535Z",
     "start_time": "2024-09-03T15:53:07.336327Z"
    }
   },
   "id": "c3340fda69409ce5"
  },
  {
   "cell_type": "code",
   "execution_count": 78,
   "outputs": [
    {
     "name": "stdout",
     "output_type": "stream",
     "text": [
      "Rose\n",
      "100\n",
      "2.5\n",
      "Big Rose\n",
      "1000\n",
      "3.5\n"
     ]
    }
   ],
   "source": [
    "\"\"\"R-2.4 Write a Python class, Flower, that has three instance variables of type str, int, and float, that respectively represent the name of the flower, its number of petals, and its price. Your class must include a constructor method that initializes each variable to an appropriate value, and your class should include methods for setting the value of each type, and retrieving the value of each type.\"\"\"\n",
    "\n",
    "class Flower:\n",
    "    def __init__(self, name, petals, price):\n",
    "        \"\"\"\n",
    "        :param name:    type str, as the name of the flower\n",
    "        :param petals:  type int, as the number of petals\n",
    "        :param price:   type float, as the price of the flower\n",
    "        \"\"\"\n",
    "        self._name = str(name)\n",
    "        self._petals = int(petals)\n",
    "        self._price = float(price)\n",
    "    \n",
    "    def get_name(self):\n",
    "        return self._name\n",
    "    \n",
    "    def get_petals(self):\n",
    "        return self._petals\n",
    "    \n",
    "    def get_price(self):\n",
    "        return self._price\n",
    "    \n",
    "    def set_name(self, newname):\n",
    "        self._name = str(newname)\n",
    "    \n",
    "    def set_petals(self, new_num):\n",
    "        self._petals = int(new_num)\n",
    "        \n",
    "    def set_price(self, new_price):\n",
    "        self._price = float(new_price)\n",
    "\n",
    "# Test the class\n",
    "rose = Flower('Rose', 100, 2.5)\n",
    "print(rose.get_name())\n",
    "print(rose.get_petals())\n",
    "print(rose.get_price())\n",
    "rose.set_name('Big Rose')\n",
    "rose.set_petals(1000)\n",
    "rose.set_price(3.5)\n",
    "print(rose.get_name())\n",
    "print(rose.get_petals())\n",
    "print(rose.get_price())\n",
    "    \n",
    "        "
   ],
   "metadata": {
    "collapsed": false,
    "ExecuteTime": {
     "end_time": "2024-09-03T16:11:42.554324Z",
     "start_time": "2024-09-03T16:11:42.528107Z"
    }
   },
   "id": "cd6252096533d125"
  },
  {
   "cell_type": "code",
   "execution_count": 88,
   "outputs": [
    {
     "name": "stdout",
     "output_type": "stream",
     "text": [
      "0\n",
      "You need to pass a number as parameter.\n",
      "You need to pass a number as parameter.\n"
     ]
    }
   ],
   "source": [
    "\"\"\"R-2.5 Use the techniques of Section 1.7 to revise the charge and make_payment methods of the CreditCard class to ensure that the caller sends a number as a parameter.\"\"\"\n",
    "\n",
    "class CreditCard:\n",
    "    \"\"\"A consumer credit card.\"\"\"\n",
    "    def __init__(self, customer, bank, acnt, limit):\n",
    "        \"\"\"Create a new credit card instance\n",
    "        \n",
    "        The initial balance is zero\n",
    "        \n",
    "        customer  the name of the customer (e.g. 'John Roman')\n",
    "        bank      the name of the bank (e.g. 'California Saving')\n",
    "        acnt      the account identifier (e.g. '5522 3991 3332 2344')\n",
    "        limit     credit limit (measured in dollars) \n",
    "        \"\"\"\n",
    "        \n",
    "        self._customer = customer\n",
    "        self._bank = bank\n",
    "        self._acnt = acnt\n",
    "        self._limit = limit\n",
    "        self._balance = 0\n",
    "        \n",
    "    def get_customer(self):\n",
    "        \"\"\"return the name of customer\"\"\"        \n",
    "        return self._customer\n",
    "    \n",
    "    def get_bank(self):\n",
    "        \"\"\"return the name of bank\"\"\"\n",
    "        return self._bank\n",
    "    \n",
    "    def get_acnt(self):\n",
    "        \"\"\"return the account number, typically in string\"\"\"\n",
    "        return self._acnt\n",
    "    \n",
    "    def get_limit(self):\n",
    "        \"\"\"return current credit limit\"\"\"\n",
    "        return self._limit\n",
    "    \n",
    "    def get_balance(self):\n",
    "        \"\"\"return current balance\"\"\"\n",
    "        return self._balance\n",
    "    \n",
    "    def charge(self, price):\n",
    "        \"\"\"Charge given price to the card, assuming sufficient credit limit.\n",
    "        Return True if the charge was processed; False if charge was denied.\n",
    "        \"\"\"\n",
    "        if not isinstance(price, (int, float)):\n",
    "            raise TypeError\n",
    "        \n",
    "        if price + self._balance > self._limit:\n",
    "            return False\n",
    "        else:\n",
    "            self._balance += price\n",
    "            return True\n",
    "        \n",
    "    def make_payment(self, amount):\n",
    "        \"\"\"Process customer payment that reduces balance\"\"\"\n",
    "        \n",
    "        if not isinstance(amount, (int, float)):\n",
    "            raise TypeError\n",
    "        self._balance -= amount\n",
    "        return self._balance\n",
    "        \n",
    "            \n",
    "new_card = CreditCard('John', 'CBC', '1100 1001 1010 0100', 50)\n",
    "print(new_card.get_balance())\n",
    "try:\n",
    "    new_card.charge('dd')\n",
    "except TypeError:\n",
    "    print('You need to pass a number as parameter.')\n",
    "\n",
    "try:\n",
    "    new_card.make_payment('dd')\n",
    "except TypeError:\n",
    "    print('You need to pass a number as parameter.')\n"
   ],
   "metadata": {
    "collapsed": false,
    "ExecuteTime": {
     "end_time": "2024-09-04T06:49:21.852565Z",
     "start_time": "2024-09-04T06:49:21.837460Z"
    }
   },
   "id": "67bfe9c291951ad1"
  },
  {
   "cell_type": "code",
   "execution_count": 90,
   "outputs": [
    {
     "name": "stdout",
     "output_type": "stream",
     "text": [
      "ValueError: This method do not accept negative number.\n"
     ]
    }
   ],
   "source": [
    "\"\"\"R-2.6 If the parameter to the make_payment method of the CreditCard class were a negative number, that would have the effect of raising the balance on the account. Revise the implementation so that it raises a ValueError if a negative value is sent.\"\"\"\n",
    "\n",
    "class CreditCard:\n",
    "    \"\"\"A consumer credit card.\"\"\"\n",
    "    def __init__(self, customer, bank, acnt, limit):\n",
    "        \"\"\"Create a new credit card instance\n",
    "        \n",
    "        The initial balance is zero\n",
    "        \n",
    "        customer  the name of the customer (e.g. 'John Roman')\n",
    "        bank      the name of the bank (e.g. 'California Saving')\n",
    "        acnt      the account identifier (e.g. '5522 3991 3332 2344')\n",
    "        limit     credit limit (measured in dollars) \n",
    "        \"\"\"\n",
    "        \n",
    "        self._customer = customer\n",
    "        self._bank = bank\n",
    "        self._acnt = acnt\n",
    "        self._limit = limit\n",
    "        self._balance = 0\n",
    "        \n",
    "    def get_customer(self):\n",
    "        \"\"\"return the name of customer\"\"\"        \n",
    "        return self._customer\n",
    "    \n",
    "    def get_bank(self):\n",
    "        \"\"\"return the name of bank\"\"\"\n",
    "        return self._bank\n",
    "    \n",
    "    def get_acnt(self):\n",
    "        \"\"\"return the account number, typically in string\"\"\"\n",
    "        return self._acnt\n",
    "    \n",
    "    def get_limit(self):\n",
    "        \"\"\"return current credit limit\"\"\"\n",
    "        return self._limit\n",
    "    \n",
    "    def get_balance(self):\n",
    "        \"\"\"return current balance\"\"\"\n",
    "        return self._balance\n",
    "    \n",
    "    def charge(self, price):\n",
    "        \"\"\"Charge given price to the card, assuming sufficient credit limit.\n",
    "        Return True if the charge was processed; False if charge was denied.\n",
    "        \"\"\"\n",
    "        if not isinstance(price, (int, float)):\n",
    "            raise TypeError\n",
    "        \n",
    "        if price + self._balance > self._limit:\n",
    "            return False\n",
    "        else:\n",
    "            self._balance += price\n",
    "            return True\n",
    "        \n",
    "    def make_payment(self, amount):\n",
    "        \"\"\"Process customer payment that reduces balance\"\"\"\n",
    "        \n",
    "        if amount < 0:\n",
    "            raise ValueError\n",
    "        self._balance -= amount\n",
    "        return self._balance\n",
    "\n",
    "new_card = CreditCard('Moo', 'CCB', '1020 2010 1200 2100', 500) \n",
    "try:\n",
    "    new_card.make_payment(-50)\n",
    "except ValueError:\n",
    "    print('ValueError: This method do not accept negative number.')"
   ],
   "metadata": {
    "collapsed": false,
    "ExecuteTime": {
     "end_time": "2024-09-04T09:03:01.740770Z",
     "start_time": "2024-09-04T09:03:01.720112Z"
    }
   },
   "id": "763c0bbc0bc6fc6e"
  },
  {
   "cell_type": "code",
   "execution_count": 91,
   "outputs": [
    {
     "name": "stdout",
     "output_type": "stream",
     "text": [
      "new card 1 balance: 0\n",
      "new card 2 balance: 100\n"
     ]
    }
   ],
   "source": [
    "\"\"\"R-2.7 The CreditCard class of Section 2.3 initializes the balance of a new account to zero. Modify that class so that a new account can be given a nonzero balance using an optional fifth parameter to the constructor. The four-parameter constructor syntax should continue to produce an account with zero balance.\"\"\"\n",
    "\n",
    "class CreditCard:\n",
    "    \"\"\"A consumer credit card.\"\"\"\n",
    "    def __init__(self, customer, bank, acnt, limit, balance=0):\n",
    "        \"\"\"Create a new credit card instance\n",
    "        \n",
    "        The initial balance is zero\n",
    "        \n",
    "        customer  the name of the customer (e.g. 'John Roman')\n",
    "        bank      the name of the bank (e.g. 'California Saving')\n",
    "        acnt      the account identifier (e.g. '5522 3991 3332 2344')\n",
    "        limit     credit limit (measured in dollars) \n",
    "        balance   set a default value for balance, but user still can pass a customized value optionally.\n",
    "        \"\"\"\n",
    "        \n",
    "        self._customer = customer\n",
    "        self._bank = bank\n",
    "        self._acnt = acnt\n",
    "        self._limit = limit\n",
    "        self._balance = balance\n",
    "        \n",
    "    def get_balance(self):\n",
    "        return self._balance\n",
    "    \n",
    "new_card1 = CreditCard('Moo', 'CCB', '1020 2010 1200 2100', 500) \n",
    "new_card2 = CreditCard('Moo', 'CCB', '1020 2010 1200 2100', 500, 100)\n",
    "print(\"new card 1 balance:\", new_card1.get_balance())\n",
    "print('new card 2 balance:', new_card2.get_balance())"
   ],
   "metadata": {
    "collapsed": false,
    "ExecuteTime": {
     "end_time": "2024-09-04T09:12:30.449689Z",
     "start_time": "2024-09-04T09:12:30.435364Z"
    }
   },
   "id": "501b6707c5e2d570"
  },
  {
   "cell_type": "code",
   "execution_count": 107,
   "outputs": [
    {
     "name": "stdout",
     "output_type": "stream",
     "text": [
      "current val 1\n",
      "wallet1(AAB): 1\n",
      "wallet2(BBC): 2\n",
      "wallet3(CCA): 3\n",
      "current val 2\n",
      "wallet1(AAB): 3\n",
      "wallet2(BBC): 6\n",
      "wallet3(CCA): 9\n",
      "current val 3\n",
      "wallet1(AAB): 6\n",
      "wallet2(BBC): 12\n",
      "wallet3(CCA): 18\n",
      "current val 4\n",
      "wallet1(AAB): 10\n",
      "wallet2(BBC): 20\n",
      "wallet3(CCA): 30\n",
      "current val 5\n",
      "wallet1(AAB): 15\n",
      "wallet2(BBC): 30\n",
      "wallet3(CCA): 45\n",
      "current val 6\n",
      "wallet1(AAB): 21\n",
      "wallet2(BBC): 42\n",
      "wallet3(CCA): 63\n",
      "current val 7\n",
      "wallet1(AAB): 28\n",
      "wallet2(BBC): 56\n",
      "wallet3(CCA): 84\n",
      "current val 8\n",
      "wallet1(AAB): 36\n",
      "wallet2(BBC): 72\n",
      "wallet3(CCA): 108\n",
      "current val 9\n",
      "wallet1(AAB): 45\n",
      "wallet2(BBC): 90\n",
      "wallet3(CCA): 135\n",
      "current val 10\n",
      "wallet1(AAB): 55\n",
      "wallet2(BBC): 110\n",
      "wallet3(CCA): 165\n",
      "current val 11\n",
      "wallet1(AAB): 66\n",
      "wallet2(BBC): 132\n",
      "wallet3(CCA): 198\n",
      "current val 12\n",
      "wallet1(AAB): 78\n",
      "wallet2(BBC): 156\n",
      "wallet3(CCA): 234\n",
      "current val 13\n",
      "wallet1(AAB): 91\n",
      "wallet2(BBC): 182\n",
      "wallet3(CCA): 273\n",
      "current val 14\n",
      "wallet1(AAB): 105\n",
      "wallet2(BBC): 210\n",
      "wallet3(CCA): 315\n",
      "current val 15\n",
      "wallet1(AAB): 120\n",
      "wallet2(BBC): 240\n",
      "wallet3(CCA): 360\n",
      "current val 16\n",
      "wallet1(AAB): 136\n",
      "wallet2(BBC): 272\n",
      "wallet3(CCA): 408\n",
      "current val 17\n",
      "wallet1(AAB): 153\n",
      "wallet2(BBC): 306\n",
      "wallet3(CCA): 459\n",
      "current val 18\n",
      "wallet1(AAB): 171\n",
      "wallet2(BBC): 342\n",
      "wallet3(CCA): 513\n",
      "current val 19\n",
      "wallet1(AAB): 190\n",
      "wallet2(BBC): 380\n",
      "wallet3(CCA): 570\n",
      "current val 20\n",
      "wallet1(AAB): 210\n",
      "wallet2(BBC): 420\n",
      "wallet3(CCA): 630\n",
      "current val 21\n",
      "wallet1(AAB): 231\n",
      "wallet2(BBC): 462\n",
      "wallet3(CCA): 693\n",
      "current val 22\n",
      "wallet1(AAB): 253\n",
      "wallet2(BBC): 506\n",
      "wallet3(CCA): 759\n",
      "current val 23\n",
      "wallet1(AAB): 276\n",
      "wallet2(BBC): 552\n",
      "wallet3(CCA): 828\n",
      "current val 24\n",
      "wallet1(AAB): 300\n",
      "wallet2(BBC): 600\n",
      "wallet3(CCA): 900\n",
      "current val 25\n",
      "wallet1(AAB): 325\n",
      "wallet2(BBC): 650\n",
      "wallet3(CCA): 975\n",
      "current val 26\n",
      "wallet1(AAB): 351\n",
      "wallet2(BBC): 702\n",
      "wallet3(CCA): 1053\n",
      "current val 27\n",
      "wallet1(AAB): 378\n",
      "wallet2(BBC): 756\n",
      "wallet3(CCA): 1134\n",
      "current val 28\n",
      "wallet1(AAB): 406\n",
      "wallet2(BBC): 812\n",
      "wallet3(CCA): 1218\n",
      "current val 29\n",
      "wallet1(AAB): 435\n",
      "wallet2(BBC): 870\n",
      "wallet3(CCA): 1305\n",
      "current val 30\n",
      "wallet1(AAB): 465\n",
      "wallet2(BBC): 930\n",
      "wallet3(CCA): 1395\n",
      "current val 31\n",
      "wallet1(AAB): 496\n",
      "wallet2(BBC): 992\n",
      "wallet3(CCA): 1488\n",
      "current val 32\n",
      "wallet1(AAB): 528\n",
      "wallet2(BBC): 1056\n",
      "wallet3(CCA): 1584\n",
      "current val 33\n",
      "wallet1(AAB): 561\n",
      "wallet2(BBC): 1122\n",
      "wallet3(CCA): 1683\n",
      "current val 34\n",
      "wallet1(AAB): 595\n",
      "wallet2(BBC): 1190\n",
      "wallet3(CCA): 1785\n",
      "current val 35\n",
      "wallet1(AAB): 630\n",
      "wallet2(BBC): 1260\n",
      "wallet3(CCA): 1890\n",
      "current val 36\n",
      "wallet1(AAB): 666\n",
      "wallet2(BBC): 1332\n",
      "wallet3(CCA): 1998\n",
      "current val 37\n",
      "wallet1(AAB): 703\n",
      "wallet2(BBC): 1406\n",
      "wallet3(CCA): 2109\n",
      "current val 38\n",
      "wallet1(AAB): 741\n",
      "wallet2(BBC): 1482\n",
      "wallet3(CCA): 2223\n",
      "current val 39\n",
      "wallet1(AAB): 780\n",
      "wallet2(BBC): 1560\n",
      "wallet3(CCA): 2340\n",
      "current val 40\n",
      "wallet1(AAB): 820\n",
      "wallet2(BBC): 1640\n",
      "wallet3(CCA): 2460\n",
      "current val 41\n",
      "wallet1(AAB): 861\n",
      "wallet2(BBC): 1722\n",
      "wallet3(CCA): 2583\n",
      "current val 42\n",
      "wallet1(AAB): 903\n",
      "wallet2(BBC): 1806\n",
      "wallet3(CCA): 2709\n",
      "current val 43\n",
      "wallet1(AAB): 946\n",
      "wallet2(BBC): 1892\n",
      "wallet3(CCA): 2838\n",
      "current val 44\n",
      "wallet1(AAB): 990\n",
      "wallet2(BBC): 1980\n",
      "wallet3(CCA): 2970\n",
      "current val 45\n",
      "wallet1(AAB): 1035\n",
      "wallet2(BBC): 2070\n",
      "wallet3(CCA): 3105\n",
      "current val 46\n",
      "wallet1(AAB): 1081\n",
      "wallet2(BBC): 2162\n",
      "wallet3(CCA): 3243\n",
      "current val 47\n",
      "wallet1(AAB): 1128\n",
      "wallet2(BBC): 2256\n",
      "wallet3(CCA): 3384\n",
      "current val 48\n",
      "wallet1(AAB): 1176\n",
      "wallet2(BBC): 2352\n",
      "wallet3(CCA): 3528\n",
      "current val 49\n",
      "wallet1(AAB): 1225\n",
      "wallet2(BBC): 2450\n",
      "wallet3(CCA): 3675\n",
      "current val 50\n",
      "wallet1(AAB): 1275\n",
      "wallet2(BBC): 2550\n",
      "wallet3(CCA): 3825\n",
      "current val 51\n",
      "wallet1(AAB): 1326\n",
      "wallet2(BBC): 2652\n",
      "wallet3(CCA): 3978\n",
      "current val 52\n",
      "wallet1(AAB): 1378\n",
      "wallet2(BBC): 2756\n",
      "wallet3(CCA): 4134\n",
      "current val 53\n",
      "wallet1(AAB): 1431\n",
      "wallet2(BBC): 2862\n",
      "wallet3(CCA): 4293\n",
      "current val 54\n",
      "wallet1(AAB): 1485\n",
      "wallet2(BBC): 2970\n",
      "wallet3(CCA): 4455\n",
      "current val 55\n",
      "wallet1(AAB): 1540\n",
      "wallet2(BBC): 3080\n",
      "wallet3(CCA): 4620\n",
      "current val 56\n",
      "wallet1(AAB): 1596\n",
      "wallet2(BBC): 3192\n",
      "wallet3(CCA): 4788\n",
      "current val 57\n",
      "wallet1(AAB): 1653\n",
      "wallet2(BBC): 3306\n",
      "wallet3(CCA): 4959\n",
      "CCA reach credit limit.\n",
      "Credit limit exceeded at 58\n"
     ]
    }
   ],
   "source": [
    "\"\"\"R-2.8 Modify the declaration of the first for loop in the CreditCard tests, from Code Fragment 2.3, so that it will eventually cause exactly one of the three credit cards to go over its credit limit. Which credit card is it?\"\"\"\n",
    "\n",
    "class CreditCard:\n",
    "    \"\"\"A consumer credit card.\"\"\"\n",
    "    def __init__(self, customer, bank, acnt, limit):\n",
    "        \"\"\"Create a new credit card instance\n",
    "        \n",
    "        The initial balance is zero\n",
    "        \n",
    "        customer  the name of the customer (e.g. 'John Roman')\n",
    "        bank      the name of the bank (e.g. 'California Saving')\n",
    "        acnt      the account identifier (e.g. '5522 3991 3332 2344')\n",
    "        limit     credit limit (measured in dollars) \n",
    "        \"\"\"\n",
    "        \n",
    "        self._customer = customer\n",
    "        self._bank = bank\n",
    "        self._acnt = acnt\n",
    "        self._limit = limit\n",
    "        self._balance = 0\n",
    "        \n",
    "    def get_customer(self):\n",
    "        \"\"\"return the name of customer\"\"\"        \n",
    "        return self._customer\n",
    "    \n",
    "    def get_bank(self):\n",
    "        \"\"\"return the name of bank\"\"\"\n",
    "        return self._bank\n",
    "    \n",
    "    def get_acnt(self):\n",
    "        \"\"\"return the account number, typically in string\"\"\"\n",
    "        return self._acnt\n",
    "    \n",
    "    def get_limit(self):\n",
    "        \"\"\"return current credit limit\"\"\"\n",
    "        return self._limit\n",
    "    \n",
    "    def get_balance(self):\n",
    "        \"\"\"return current balance\"\"\"\n",
    "        return self._balance\n",
    "    \n",
    "    def charge(self, price):\n",
    "        \"\"\"Charge given price to the card, assuming sufficient credit limit.\n",
    "        Return True if the charge was processed; False if charge was denied.\n",
    "        \"\"\"\n",
    "        if not isinstance(price, (int, float)):\n",
    "            raise TypeError\n",
    "        \n",
    "        if price + self._balance > self._limit:\n",
    "            print(f'{self._bank} reach credit limit.')\n",
    "            raise ValueError\n",
    "            \n",
    "        else:\n",
    "            self._balance += price\n",
    "            return True\n",
    "        \n",
    "    def make_payment(self, amount):\n",
    "        \"\"\"Process customer payment that reduces balance\"\"\"\n",
    "        \n",
    "        if amount < 0:\n",
    "            raise ValueError\n",
    "        self._balance -= amount\n",
    "        return self._balance\n",
    "    \n",
    "wallet = []\n",
    "wallet.append(CreditCard('Jonathan Doe', 'AAB', '3211 4819 7777 4919', 2500))\n",
    "wallet.append(CreditCard('Jonathan Doe', 'BBC', '1211 4819 8888 4919', 3500))\n",
    "wallet.append(CreditCard('Jonathan Doe', 'CCA', '3211 4819 9999 4919', 5000))\n",
    "for val in range(1,60):\n",
    "    try:\n",
    "        wallet[0].charge(val)\n",
    "        wallet[1].charge(val*2)\n",
    "        wallet[2].charge(val*3)\n",
    "        print('current val', val)\n",
    "        print('wallet1(AAB):', wallet[0].get_balance())\n",
    "        print('wallet2(BBC):', wallet[1].get_balance())\n",
    "        print('wallet3(CCA):', wallet[2].get_balance())\n",
    "    except ValueError:\n",
    "        print(f\"Credit limit exceeded at {val}\")\n",
    "        break\n"
   ],
   "metadata": {
    "collapsed": false,
    "ExecuteTime": {
     "end_time": "2024-09-04T09:43:11.946948Z",
     "start_time": "2024-09-04T09:43:11.944188Z"
    }
   },
   "id": "32b61500d66f9492"
  },
  {
   "cell_type": "code",
   "execution_count": 144,
   "outputs": [
    {
     "name": "stdout",
     "output_type": "stream",
     "text": [
      "<2, 3, 5> - <8, 0, 2> = <-6, 3, 3>\n",
      "<-2, -3, -5>\n",
      "<6, 9, 15>\n",
      "26\n",
      "<6, 9, 15>\n",
      "<2, 3, 4, 1, 2>\n"
     ]
    }
   ],
   "source": [
    "\"\"\"R-2.9 Implement the __sub__ method for the Vector class of Section 2.3.3, so that the expression u−v returns a new vector instance representing the difference between two vectors.\"\"\"\n",
    "\"\"\"R-2.10 Implement the __neg__ method for the Vector class of Section 2.3.3, so that the expression −v returns a new vector instance whose coordinates are all the negated values of the respective coordinates of v.\"\"\"\n",
    "\"\"\"R-2.11 In Section 2.3.3, we note that our Vector class supports a syntax such as v = u + [5, 3, 10, -2, 1], in which the sum of a vector and list returns a new vector. However, the syntax v = [5, 3, 10, -2, 1] + u is illegal. Explain how the Vector class definition can be revised so that this syntax generates a new vector.\"\"\"\n",
    "\"\"\"R-2.12 Implement the __mul__ method for the Vector class of Section 2.3.3, so that the expression v * 3 returns a new vector with coordinates that are 3 times the respective coordinates of v.\"\"\"\n",
    "\"\"\"R-2.13 Exercise R-2.12 asks for an implementation of __mul__, for the Vector class of Section 2.3.3, to provide support for the syntax v * 3. Implement the __rmul__ method, to provide additional support for syntax 3 * v.\"\"\"\n",
    "\n",
    "\"\"\"R-2.14 Implement the __mul__ method for the Vector class of Section 2.3.3, so that the expression u * v returns a scalar that represents the dot product of the vectors, that is, \n",
    "𝑑\n",
    "∑ 𝑢𝑖⋅𝑣\n",
    "𝑖=1\n",
    " .\"\"\"\n",
    "\"\"\"R-2.15 The Vector class of Section 2.3.3 provides a constructor that takes an integer d, and produces a d-dimensional vector with all coordinates equal to 0. Another convenient form for creating a new vector would be to send the constructor a parameter that is some iterable type representing a sequence of numbers, and to create a vector with dimension equal to the length of that sequence and coordinates equal to the sequence values. For example, Vector([4, 7, 5]) would produce a three-dimensional vector with coordinates <4, 7, 5>. Modify the constructor so that either of these forms is acceptable; that is, if a single integer is sent, it produces a vector of that dimension with all zeros, but if a sequence of numbers is provided, it produces a vector with coordinates based on that sequence.\"\"\"\n",
    "\n",
    "\n",
    "class Vector:\n",
    "    \"\"\"\n",
    "    Param:  cord, represent the dimension amount of a vector\n",
    "    \"\"\"\n",
    "    def __init__(self, coords):\n",
    "        if isinstance(coords, int):\n",
    "            self._v = [0] * coords\n",
    "        else:\n",
    "            self._v = list(coords)\n",
    "            \n",
    "    def __len__(self):\n",
    "        return len(self._v)\n",
    "    \n",
    "    def __getitem__(self, item):\n",
    "        return self._v[item]\n",
    "    \n",
    "    def __setitem__(self, key, value):\n",
    "        self._v[key] = value        \n",
    "    \n",
    "    def __add__(self, other):\n",
    "        if len(self) != len(other):\n",
    "            raise ValueError('dimension must agree')\n",
    "        \n",
    "        result = Vector(len(self))\n",
    "        for i in range(len(self)):\n",
    "            result[i] = self[i] + other[i]\n",
    "        return result\n",
    "            \n",
    "    \n",
    "    def __sub__(self, other):\n",
    "        if len(self) != len(other):\n",
    "            raise ValueError('dimension must agree')\n",
    "        \n",
    "        result = Vector(len(self))\n",
    "        for j in range(len(self)):\n",
    "            result[j] = self[j] - other[j]\n",
    "        return result\n",
    "    \n",
    "    def __mul__(self, other):\n",
    "        result = Vector(len(self))\n",
    "        if isinstance(other, (int, float)):\n",
    "            for j in range(len(self)):\n",
    "                result[j] =self[j] * other\n",
    "            return result\n",
    "        elif isinstance(other, Vector):\n",
    "            if len(self) != len(other):\n",
    "                raise ValueError('dimension must agree')\n",
    "            return sum(self[j] * other[j] for j in range(len(self)))\n",
    "        else:\n",
    "            raise TypeError(\"Unsupported type for multiplication\")\n",
    "        \n",
    "    def __rmul__(self, other):\n",
    "        return self * other # Use __mul__ method to handle the rest.\n",
    "    \n",
    "    def __neg__(self):\n",
    "        result = Vector(len(self))\n",
    "        for j in range(len(self)):\n",
    "            result[j] = self[j] * -1\n",
    "        return result\n",
    "    \n",
    "    def __eq__(self, other):\n",
    "        \"\"\"return True if vector have same coordinates as other \"\"\"\n",
    "        return self._v == other._v\n",
    "        \n",
    "    \n",
    "    def __ne__(self, other):\n",
    "        \"\"\"return True if vector differ from other \"\"\"\n",
    "        return self != other\n",
    "    \n",
    "    def __str__(self):\n",
    "        return '<' + str(self._v)[1:-1] + '>'\n",
    "\n",
    "v1 = Vector(3)\n",
    "v2 = Vector(3)\n",
    "# Test case for vectors subtraction\n",
    "v1[0] = 2\n",
    "v1[1] = 3\n",
    "v1[2] = 5\n",
    "v2[0] = 8\n",
    "v2[2] = 2\n",
    "print(f'{v1} - {v2} = {v1 - v2}')\n",
    "# Fail case for vectors subtraction with different coordination\n",
    "# v3 = Vector(5)\n",
    "# v4 = Vector(3)\n",
    "# print(f'{v3} - {v4} = {v3 - v4}')\n",
    "\n",
    "# Test case for negate transform\n",
    "\n",
    "print(-v1)\n",
    "\n",
    "# Answer of R-2.11 :\n",
    "# That's because we've revised the __add__ method of class Vector to let it sum each element of two vectors. However, when we use syntax like \"v = [5, 3, 10, -2, 1] + u', that mean we use the method of class list, which we haven't revised yet. As a result, a list can not sum with a instance of class Vector according to class list's __add__ method.\n",
    "\n",
    "# Test case for multiplication method (both doc product and vector * int):\n",
    "print(v1 * 3)\n",
    "print(v1 * v2)\n",
    "\n",
    "# Test case for implement the __rmul__ method.\n",
    "print(3 * v1)\n",
    "\n",
    "# Use different constructor to creat a vector instance\n",
    "v5 = Vector([2,3,4,1,2])\n",
    "print(v5)"
   ],
   "metadata": {
    "collapsed": false,
    "ExecuteTime": {
     "end_time": "2024-09-04T15:05:44.965133Z",
     "start_time": "2024-09-04T15:05:44.950587Z"
    }
   },
   "id": "f116bd5426183469"
  },
  {
   "cell_type": "code",
   "execution_count": 10,
   "outputs": [],
   "source": [
    "\"\"\"R-2.16 Our Range class, from Section 2.3.5, relies on the formula\n",
    "  max(0,(stop−start+step−1)//step) \n",
    "to compute the number of elements in the range. It is not immediately evident why this formula provides the correct calculation, even if assuming a positive step size. Justify this formula, in your own words.\"\"\"\n",
    "\n",
    "class Range:\n",
    "    \"\"\"A class that mimic's the python build-in class range.\"\"\"\n",
    "    def __init__(self, start, stop=None, step=1):\n",
    "        \"\"\"Initialize a Range instance\n",
    "        Semantics is similar to the build-in range class.\n",
    "        \"\"\"\n",
    "        \n",
    "        if step == 0:\n",
    "            raise ValueError('step cannot be 0')\n",
    "        \n",
    "        if stop is None:  # special case as range(n)\n",
    "            start, stop = 0, start # should be treated as range(0, n)\n",
    "        \n",
    "        self._length = max(0, (stop-start+step-1)//step)\n",
    "        self._start = start\n",
    "        self._step = step\n",
    "        \n",
    "    def __len__(self):\n",
    "        \"\"\"Return number of entries of the range\"\"\"\n",
    "        return self._length\n",
    "    \n",
    "    def __getitem__(self, j):\n",
    "        \"\"\"Return the entry at index k (using standard interpretation if negative\"\"\"\n",
    "        if j < 0:\n",
    "            j += self._length\n",
    "            \n",
    "        if 0 <= j < self._length:\n",
    "            raise IndexError('index out of Range')\n",
    "\n",
    "        return self._start + j* self._step\n",
    "    \n",
    "\"\"\"\n",
    "Answer: The 'stop-start' calculate the raw difference between the start and stop value.\n",
    "        The '+step-1' after 'stop-start' ensure every value which between start and stop is contained.\n",
    "        The integer division with step ('//step') make the collection adjust the size of 'step\n",
    "        The max(0, ...) ensure the length of the interator must be 0 or positive integers. Even if someone mistype something like start = 10, stop = 1, step = 1, it won't lead to an error raise. \n",
    "\"\"\"\n",
    "    "
   ],
   "metadata": {
    "collapsed": false,
    "ExecuteTime": {
     "end_time": "2024-10-29T14:47:19.501226Z",
     "start_time": "2024-10-29T14:47:19.484413Z"
    }
   },
   "id": "f9272e299c0ebbf2"
  },
  {
   "cell_type": "code",
   "execution_count": 25,
   "outputs": [
    {
     "name": "stdout",
     "output_type": "stream",
     "text": [
      "maa\n",
      "Making milk...\n",
      "Jumping high...\n",
      "grunt\n",
      "It is eating Corn..\n",
      "Wallowing in mud\n",
      "neigh\n",
      "It is joining the race\n",
      "neigh\n",
      "Accelerating\n",
      "True\n"
     ]
    }
   ],
   "source": [
    "\"\"\"R-2.17 Draw a class inheritance diagram for the following set of classes:\n",
    "\n",
    "Class Goat extends object and adds an instance variable _tail and methods milk() and jump().\n",
    "Class Pig extends object and adds an instance variable _nose and methods eat(food) and wallow().\n",
    "Class Horse extends object and adds instance variables _height and _color, and methods run() and jump().\n",
    "Class Racer extends Horse and adds a method race().\n",
    "Class Equestrian extends Horse, adding an instance variable _weight and methods trot() and is_trained().\"\"\"\n",
    "\n",
    "class Goat(Animal):\n",
    "    def __init__(self, tail):\n",
    "        \"\"\"\n",
    "        :param tail: \n",
    "        \"\"\"\n",
    "        self._tail = bool(tail)\n",
    "        \n",
    "    def make_sound(self):\n",
    "        return \"maa\"\n",
    "    \n",
    "    def milk(self):\n",
    "        return 'Making milk...'\n",
    "    \n",
    "    def jump(self):\n",
    "        return 'Jumping high...'\n",
    "        \n",
    "class Pig(Animal):\n",
    "    def __init__(self, nose):\n",
    "        self._nose = bool(nose)\n",
    "        \n",
    "    def make_sound(self):\n",
    "        return 'grunt'\n",
    "    \n",
    "    def eat(self, food):\n",
    "        return f\"It is eating {food}..\"\n",
    "    \n",
    "    def wallow(self):\n",
    "        return \"Wallowing in mud\"\n",
    "    \n",
    "    \n",
    "class Horse(Animal):\n",
    "    def __init__(self, height, color):\n",
    "        \"\"\"\n",
    "        :param height: the height of the horse, unit: cm, value need to be a float, Example: 130.2, 150.3 \n",
    "        :param color: the color of the horse, value need to be a str, Example: 'grey', 'brown' \" \n",
    "        \"\"\"\n",
    "        self._height = height\n",
    "        self._color = color\n",
    "        \n",
    "    def make_sound(self):\n",
    "        return \"neigh\"\n",
    "    \n",
    "class Racer(Horse):\n",
    "    def make_sound(self):\n",
    "        return \"neigh\"\n",
    "    \n",
    "    def race(self):\n",
    "        return 'It is joining the race'\n",
    "    \n",
    "    \n",
    "class Equestrian(Horse):\n",
    "    def __init__(self, height, color, weight):\n",
    "        \"\"\"\n",
    "        :param weight: the weight of the Equestrian, unit: kg, value need to be a float, Example: 320.0, 589.3 \n",
    "        \"\"\"\n",
    "        super().__init__(height, color)\n",
    "        self._weight = weight\n",
    "        \n",
    "    def make_sound(self):\n",
    "        return \"neigh\"\n",
    "    \n",
    "    def trot(self):\n",
    "        return \"Accelerating...\"\n",
    "    \n",
    "    def is_trained(self):\n",
    "        return True\n",
    "\n",
    "#Test case for Goat Class Instance\n",
    "goat1 = Goat(True)\n",
    "print(goat1.make_sound())\n",
    "print(goat1.milk())\n",
    "print(goat1.jump())\n",
    "\n",
    "#Test case for Pig Class Instance\n",
    "pig1 = Pig(1)\n",
    "print(pig1.make_sound())\n",
    "print(pig1.eat('Corn'))\n",
    "print(pig1.wallow())\n",
    "\n",
    "#Test case for Horse Class Instance\n",
    "horse1 = Horse(132.2, 'Black')\n",
    "horse1.make_sound()\n",
    "\n",
    "racer1 = Racer(144.2, 'White')\n",
    "print(racer1.make_sound())\n",
    "print(racer1.race())\n",
    "\n",
    "equestrian1 = Equestrian(113.3, 'Black', 3320)\n",
    "print(equestrian1.make_sound())\n",
    "print(equestrian1.trot())\n",
    "print(equestrian1.is_trained())"
   ],
   "metadata": {
    "collapsed": false,
    "ExecuteTime": {
     "end_time": "2024-10-30T09:50:35.219596Z",
     "start_time": "2024-10-30T09:50:35.196235Z"
    }
   },
   "id": "7bd6121ef45ae9f6"
  },
  {
   "cell_type": "code",
   "execution_count": 47,
   "outputs": [
    {
     "name": "stdout",
     "output_type": "stream",
     "text": [
      "42\n"
     ]
    }
   ],
   "source": [
    "\"\"\"R-2.18 Give a short fragment of Python code that uses the progression classes from Section 2.4.2 to find the 8th value of a Fibonacci progression that starts with 2 and 2 as its first two values.\"\"\"\n",
    "\n",
    "progression1 = FibonacciProgression(2,2)\n",
    "eighth_value = 0\n",
    "for i in range(8):\n",
    "    eighth_value = progression1.__next__()\n",
    "\n",
    "print(eighth_value)"
   ],
   "metadata": {
    "collapsed": false,
    "ExecuteTime": {
     "end_time": "2024-10-30T10:13:55.950544Z",
     "start_time": "2024-10-30T10:13:55.942753Z"
    }
   },
   "id": "ac8b03b9453101b4"
  },
  {
   "cell_type": "code",
   "execution_count": 4,
   "outputs": [
    {
     "name": "stdout",
     "output_type": "stream",
     "text": [
      "0 128 256 384 512 640 768 896 1024 1152 1280 1408 1536 1664 1792 1920 2048 2176 2304 2432 2560 2688 2816 2944 3072 3200 3328 3456 3584 3712 3840 3968 4096 4224 4352 4480 4608 4736 4864 4992 5120 5248 5376 5504 5632 5760 5888 6016 6144 6272 6400 6528 6656 6784 6912 7040 7168 7296 7424 7552 7680 7808 7936 8064 8192 8320 8448 8576 8704 8832 8960 9088 9216 9344 9472 9600 9728 9856 9984 10112 10240 10368 10496 10624 10752 10880 11008 11136 11264 11392 11520 11648 11776 11904 12032 12160 12288 12416 12544 12672 12800 12928 13056 13184 13312 13440 13568 13696 13824 13952 14080 14208 14336 14464 14592 14720 14848 14976 15104 15232 15360 15488 15616 15744 15872 16000 16128 16256\n"
     ]
    }
   ],
   "source": [
    "\"\"\"R-2.19 When using the ArithmeticProgression class of Section 2.4.2 with an increment of 128 and a start of 0, how many calls to next can we make before we reach an integer of 2^63 or larger?\"\"\"\n",
    "\n",
    "\"\"\"\n",
    "Answer: We need to call at least 2^56 times to reach the expected result of 2^63. That's because our arithmetic progression start at 0 and has a increment of 128(which equals to 2^7), which means every call we made adds 2^7, or we can say the n of the result is 2^7n. After we solve the equation of 2^7n = 2^63 --> n = 2^63/2^7, we can easily find out n = 2^56.\n",
    "\"\"\"\n"
   ],
   "metadata": {
    "collapsed": false,
    "ExecuteTime": {
     "end_time": "2024-10-30T11:39:16.373120Z",
     "start_time": "2024-10-30T11:39:16.349038Z"
    }
   },
   "id": "2e0e52be5e7aeaef"
  },
  {
   "cell_type": "code",
   "execution_count": null,
   "outputs": [],
   "source": [
    "\"\"\"R-2.20 What are some potential efficiency disadvantages of having very deep inheritance trees, that is, a large set of classes, A, B, C, and so on, such that B extends A, C extends B, D extends C, etc.?\"\"\"\n",
    "\n",
    "\"\"\"\n",
    "For the very deep inheritance tree, there will be several disadvantages. First, the code will be hard to maintain, once you need to add new instance or methods, every subclass need to add as well. Second, it will become very fragile, the more subclasses the more chance to meet unexpected consequences. Third, the code will become difficult and complex to understand. Forth, it will lead to the performance overuse, that's because any call of the deep inheritance tree will traverse multiple level of it.\n",
    "\"\"\""
   ],
   "metadata": {
    "collapsed": false
   },
   "id": "af58a6704e7febdf"
  },
  {
   "cell_type": "code",
   "execution_count": null,
   "outputs": [],
   "source": [
    "\"\"\"R-2.21 What are some potential efficiency disadvantages of having very shallow inheritance trees, that is, a large set of classes, A, B, C, and so on, such that all of these classes extend a single class, Z?\"\"\"\n",
    "\n",
    "\"\"\"\n",
    "For the very shallow inheritance trees, there are some disadvantages： \n",
    "First, if every class just extend a single base class, the code will become less reusable. \n",
    "Second, a shallow inheritance class can result in a rigid and inflexible class hierarchy. \n",
    "Third, a single subclass may violate the Liskov Substitution Principle. While a inheritance tree is shallow, it becomes less robust and hard to reason about. \n",
    "Fourth, if the whole codebase is built in single base class, that will lead to a reduction of abstraction and modularity level.\n",
    "Fifth, a large number of shallow subclass tree can be very complex and hard to understand.  When Developers need to navigate or comprehend such large number of existing codebase, they will feel the cognitive burden and slow down their development.\n",
    "Sixth, a shallow inheritance tree also may cause unnecessary memory usage and lead to potential performance drawback, if the base class contains significant functionality or state that is not required by other subclass.\n",
    "\"\"\""
   ],
   "metadata": {
    "collapsed": false
   },
   "id": "13c9e84eac8cdafe"
  },
  {
   "cell_type": "code",
   "execution_count": 17,
   "outputs": [
    {
     "name": "stdout",
     "output_type": "stream",
     "text": [
      "False\n",
      "False\n",
      "True\n",
      "False\n",
      "True\n",
      "False\n",
      "False\n",
      "True\n",
      "False\n"
     ]
    }
   ],
   "source": [
    "\"\"\"R-2.22 The collections.Sequence abstract base class does not provide support for comparing two sequences to each other. Modify our Sequence class from Code Fragment 2.14 to include a definition for the __eq__ method, so that expression seq1 == seq2 will return True precisely when the two sequences are element-by-element equivalent.\"\"\"\n",
    "\"\"\"R-2.23 In similar spirit to the previous problem, augment the Sequence class with method __lt__, to support lexicographic comparison seq1 < seq2.\"\"\"\n",
    "from abc import ABCMeta, abstractmethod\n",
    "\n",
    "class Sequence(metaclass=ABCMeta):\n",
    "    @abstractmethod\n",
    "    def __len__(self):\n",
    "        \"\"\"Return the length of the sequence\"\"\"\n",
    "    \n",
    "    @abstractmethod\n",
    "    def __getitem__(self, j):\n",
    "        \"\"\"Return the element at index j of the sequence\"\"\"\n",
    "    \n",
    "    def __contains__(self, val):\n",
    "        \"\"\"Return True if val found in sequence, False otherwise.\"\"\"\n",
    "        for i in range(len(self)):\n",
    "            if val == self[i]:\n",
    "                return True\n",
    "        return False\n",
    "    \n",
    "    def __eq__(self, other):\n",
    "        if not isinstance(other, Sequence):\n",
    "            return False\n",
    "        \n",
    "        if len(self) != len(other):\n",
    "            return False\n",
    "        \n",
    "        for i in range(len(self)):\n",
    "            if self[i] != other[i]:\n",
    "                return False\n",
    "        \n",
    "        return True\n",
    "    \n",
    "    def __lt__(self, other):\n",
    "        if not isinstance(other, Sequence):\n",
    "            return False\n",
    "\n",
    "        for i in range(min(len(self), len(other))):\n",
    "            if self[i] != other[i]:\n",
    "                return self[i] < other[i]\n",
    "        \n",
    "        return len(self) < len(other)\n",
    "    \n",
    "            \n",
    "    def index(self, val):\n",
    "        \"\"\"Return leftmost index at which val is found (or raise ValueError)\"\"\"\n",
    "        for i in range(len(self)):\n",
    "            if val == self[i]:\n",
    "                return i\n",
    "        raise ValueError\n",
    "        \n",
    "    def count(self, val):\n",
    "        \"\"\"Return the number of elements equal to given value.\"\"\"\n",
    "        k = 0\n",
    "        for i in range(len(self)):\n",
    "            if val == self[i]:\n",
    "                k +=1\n",
    "        return k\n",
    "\n",
    "class MySubClass(Sequence):\n",
    "    def __init__(self,seq):\n",
    "        self._seq = seq\n",
    "        \n",
    "    def __len__(self):\n",
    "        return len(self._seq)\n",
    "        \n",
    "    def __getitem__(self, j):\n",
    "        return self._seq[j]\n",
    "    \n",
    "\n",
    "#Test case of if the length of a and b is not equal\n",
    "a = MySubClass([1,2,2,'5'])\n",
    "b = MySubClass([1])\n",
    "print( a == b)\n",
    "\n",
    "#Test case of if the element of a and b is not the same\n",
    "a = MySubClass([1,2,2,'5'])\n",
    "b = MySubClass([1,2,2,5])\n",
    "print( a == b)\n",
    "\n",
    "# Test case of all elements are the same and print the expected result.\n",
    "a = MySubClass([1,2,2,'5'])\n",
    "b = MySubClass([1,2,2,'5'])\n",
    "print(a == b)\n",
    "\n",
    "# Test case of a > b in str.\n",
    "a = MySubClass('dot')\n",
    "b = MySubClass('dog')\n",
    "print(a < b)\n",
    "\n",
    "# Test case of a < b in str.\n",
    "a = MySubClass('cat')\n",
    "b = MySubClass('dog')\n",
    "print(a < b)\n",
    "\n",
    "#  Test case of a > b in num_list.\n",
    "a = MySubClass([1,2,3,4,6])\n",
    "b = MySubClass([1,2,3,4,5])\n",
    "print(a < b)\n",
    "\n",
    "#  Test case of a == b in num_list.\n",
    "a = MySubClass([1,2,3,4,5])\n",
    "b = MySubClass([1,2,3,4,5])\n",
    "print(a < b)\n",
    "\n",
    "#  Test case of a < b in num_list.\n",
    "a = MySubClass([1,2,3,4,5])\n",
    "b = MySubClass([1,2,3,5,5])\n",
    "print(a < b)\n",
    "\n",
    "# Test case of a > b in str.\n",
    "a = MySubClass('dot')\n",
    "b = MySubClass('dog')\n",
    "print(a < b)"
   ],
   "metadata": {
    "collapsed": false,
    "ExecuteTime": {
     "end_time": "2024-11-18T14:16:47.049516Z",
     "start_time": "2024-11-18T14:16:47.044406Z"
    }
   },
   "id": "19c75890dbaa57e5"
  }
 ],
 "metadata": {
  "kernelspec": {
   "display_name": "Python 3",
   "language": "python",
   "name": "python3"
  },
  "language_info": {
   "codemirror_mode": {
    "name": "ipython",
    "version": 2
   },
   "file_extension": ".py",
   "mimetype": "text/x-python",
   "name": "python",
   "nbconvert_exporter": "python",
   "pygments_lexer": "ipython2",
   "version": "2.7.6"
  }
 },
 "nbformat": 4,
 "nbformat_minor": 5
}
