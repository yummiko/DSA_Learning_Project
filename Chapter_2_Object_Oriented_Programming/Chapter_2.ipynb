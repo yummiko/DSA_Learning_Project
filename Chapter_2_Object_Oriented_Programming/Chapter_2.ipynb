{
 "cells": [
  {
   "cell_type": "markdown",
   "source": [
    "## Chapter 2 Object-Oriented Programming\n",
    "### 2.1.1 Object-Oriented design goals\n",
    "  - Robustness\n",
    "  - Adaptability\n",
    "  - Reusability\n",
    "\n",
    "### 2.1.2 Object-Oriented design principles\n",
    "- **Modularity**\n",
    "  As a real-world analogy, a house or apartment can be viewed as consisting ofseveral interacting units: electrical, heating and cooling, plumbing, and structural.Rather than viewing these systems as one giant jumble of.wires,vents,pipes, andboards, the organized architect designing a house or apartment wilview them asseparate modules that interact in well-defined ways.\n",
    "  \n",
    " <br>\n",
    " \n",
    "- **Abstraction**\n",
    "Python has a tradition of treating abstractionsimplicitly using a mechanism known as duck typing. As an interpreted and dynamically typed language, there is no “compile time’ checking of data types inPython, and no formal requirement for declarations of abstract base classes. Instead, programmers assume that an object supports a set of known behaviors, with the interpreter raising a run-time error if those assumptions fail. The description of this as “duck typing\"comes from an adage attributed to poet James Whitcomb Riley, stating that “when I see a bird that walks like a duck and swims like a duck and quacks like a duck, I call that bird a duck,”"
   ],
   "metadata": {
    "collapsed": false
   },
   "id": "1c6ce086c8d727b6"
  },
  {
   "cell_type": "code",
   "execution_count": 68,
   "outputs": [
    {
     "name": "stdout",
     "output_type": "stream",
     "text": [
      "Quack!\n",
      "I can make \"Quack\" sound like a duck.\n"
     ]
    }
   ],
   "source": [
    "import copy  # Example of Duck Typing\n",
    "\n",
    "class Duck:\n",
    "    def __init__(self):\n",
    "        pass\n",
    "    \n",
    "    def quack(self):\n",
    "        print('Quack!')\n",
    "        \n",
    "class Human():\n",
    "    def quack(self):\n",
    "        print('I can make \"Quack\" sound like a duck.')\n",
    "        \n",
    "def make_it_quack(duck):\n",
    "    duck.quack()\n",
    "    \n",
    "donald = Duck()\n",
    "john_doe = Human()\n",
    "\n",
    "# Here, the make_it_quack function works with both Duck and Person objects because both have a quack method. Python does not enforce that duck must be of type Duck; it only cares that duck has a quack method.\n",
    "\n",
    "make_it_quack(donald)\n",
    "make_it_quack(john_doe)"
   ],
   "metadata": {
    "collapsed": false,
    "ExecuteTime": {
     "end_time": "2024-06-13T12:04:30.727250Z",
     "start_time": "2024-06-13T12:04:30.721964Z"
    }
   },
   "id": "dee333042c01985c"
  },
  {
   "cell_type": "code",
   "execution_count": 5,
   "outputs": [
    {
     "name": "stdout",
     "output_type": "stream",
     "text": [
      "Woof!\n",
      "Meow!\n"
     ]
    }
   ],
   "source": [
    "from abc import ABC, abstractmethod\n",
    "\n",
    "class Animal(ABC):\n",
    "    @abstractmethod\n",
    "    def make_sound(self):\n",
    "        pass\n",
    "\n",
    "class Dog(Animal):\n",
    "    def make_sound(self):\n",
    "        return \"Woof!\"\n",
    "\n",
    "class Cat(Animal):\n",
    "    def make_sound(self):\n",
    "        return \"Meow!\"\n",
    "\n",
    "# animal = Animal()  # This will raise an error: Can't instantiate abstract class Animal with abstract methods make_sound\n",
    "\n",
    "dog = Dog()\n",
    "cat = Cat()\n",
    "\n",
    "print(dog.make_sound())  # Outputs: Woof!\n",
    "print(cat.make_sound())  # Outputs: Meow!\n"
   ],
   "metadata": {
    "collapsed": false,
    "ExecuteTime": {
     "end_time": "2024-06-13T06:26:53.358920Z",
     "start_time": "2024-06-13T06:26:53.314178Z"
    }
   },
   "id": "ae9cfe88eaece641"
  },
  {
   "cell_type": "markdown",
   "source": [
    "\n",
    "- Encapsulation\n",
    "\n"
   ],
   "metadata": {
    "collapsed": false
   },
   "id": "e1a5fe5a4c6a680d"
  },
  {
   "cell_type": "markdown",
   "source": [
    "## Design Pattern\n",
    "\n",
    "This book present several design patterns in this book, and we show how they can be consistently applied to implementations of data structures and algorithms. These design patterns fall into two groups patterns for solving algorithm design problems and patterns for solving software engineering problems. \n",
    "The **algorithm design patterns** we discuss include the following:\n",
    "Recursion (Chapter 4)\n",
    "Amortization (Sections 5.3 and 11.4)\n",
    "Divide-and-conquer (Section 12.2.1)\n",
    "Prune-and-search, also known as decrease-and-conquer (Section 12.7.1)\n",
    "Brute force (Section 13.2.1)\n",
    "Dynamic programming (Section 13.3).The greedy method (Sections 13.4.2, 14.6.2, and 14.7)\n",
    "</br>\n",
    "Likewise, the **software engineering design patterns** we discuss include:\n",
    "Iterator (Sections 1.8 and 2.3.4)\n",
    "Adapter (Section 6.1.2)\n",
    "Position (Sections 7.4 and 8.1.2)\n",
    "Composition (Sections 7.6.1, 9.2.1, and 10.1.4)\n",
    "Template method (Sections 2.4.3, 8.4.6, 10.1.3, 10.5.2, and 11.2.1)\n",
    "Locator (Section 9.5.1)\n",
    "Factory method (Section 11.2.1)\n"
   ],
   "metadata": {
    "collapsed": false
   },
   "id": "3049dd8e4225e53c"
  },
  {
   "cell_type": "markdown",
   "source": [
    "### 2.3 Class Definition"
   ],
   "metadata": {
    "collapsed": false
   },
   "id": "b6d3f2dcdf1caf94"
  },
  {
   "cell_type": "code",
   "execution_count": 2,
   "outputs": [
    {
     "name": "stdout",
     "output_type": "stream",
     "text": [
      "Customer = Jonathan Doe\n",
      "Bank = AAB\n",
      "Account = 3211 4819 7777 4919\n",
      "Limit = 2500\n",
      "Balance = 136\n",
      "New Balance = 36\n",
      "\n",
      "Customer = Jonathan Doe\n",
      "Bank = BBC\n",
      "Account = 1211 4819 8888 4919\n",
      "Limit = 3500\n",
      "Balance = 272\n",
      "New Balance = 172\n",
      "New Balance = 72\n",
      "\n",
      "Customer = Jonathan Doe\n",
      "Bank = CCA\n",
      "Account = 3211 4819 9999 4919\n",
      "Limit = 5000\n",
      "Balance = 408\n",
      "New Balance = 308\n",
      "New Balance = 208\n",
      "New Balance = 108\n",
      "New Balance = 8\n"
     ]
    }
   ],
   "source": [
    "\"\"\"\n",
    "Here's a example of CreditCard Class definition\n",
    "\"\"\"\n",
    "class CreditCard:\n",
    "    \"\"\"A consumer credit card.\"\"\"\n",
    "    def __init__(self, customer, bank, acnt, limit):\n",
    "        \"\"\"Create a new credit card instance\n",
    "        \n",
    "        The initial balance is zero\n",
    "        \n",
    "        customer  the name of the customer (e.g. 'John Roman')\n",
    "        bank      the name of the bank (e.g. 'California Saving')\n",
    "        acnt      the account identifier (e.g. '5522 3991 3332 2344')\n",
    "        limit     credit limit (measured in dollars) \n",
    "        \"\"\"\n",
    "        \n",
    "        self._customer = customer\n",
    "        self._bank = bank\n",
    "        self._acnt = acnt\n",
    "        self._limit = limit\n",
    "        self._balance = 0\n",
    "        \n",
    "    def get_customer(self):\n",
    "        \"\"\"return the name of customer\"\"\"        \n",
    "        return self._customer\n",
    "    \n",
    "    def get_bank(self):\n",
    "        \"\"\"return the name of bank\"\"\"\n",
    "        return self._bank\n",
    "    \n",
    "    def get_acnt(self):\n",
    "        \"\"\"return the account number, typically in string\"\"\"\n",
    "        return self._acnt\n",
    "    \n",
    "    def get_limit(self):\n",
    "        \"\"\"return current credit limit\"\"\"\n",
    "        return self._limit\n",
    "    \n",
    "    def get_balance(self):\n",
    "        \"\"\"return current balance\"\"\"\n",
    "        return self._balance\n",
    "    \n",
    "    def charge(self, price):\n",
    "        \"\"\"Charge given price to the card, assuming sufficient credit limit.\n",
    "        Return True if the charge was processed; False if charge was denied.\n",
    "        \"\"\"\n",
    "        if price + self._balance > self._limit:\n",
    "            return False\n",
    "        else:\n",
    "            self._balance += price\n",
    "            return True\n",
    "        \n",
    "    def make_payment(self, amount):\n",
    "        \"\"\"Process customer payment that reduces balance\"\"\"\n",
    "        self._balance -= amount\n",
    "        return self._balance\n",
    "    \n",
    "\n",
    "if __name__ == '__main__':\n",
    "    wallet = []\n",
    "    wallet.append(CreditCard('Jonathan Doe', 'AAB', '3211 4819 7777 4919', 2500))\n",
    "    wallet.append(CreditCard('Jonathan Doe', 'BBC', '1211 4819 8888 4919', 3500))\n",
    "    wallet.append(CreditCard('Jonathan Doe', 'CCA', '3211 4819 9999 4919', 5000))\n",
    "    for val in range(1,17):\n",
    "        wallet[0].charge(val)\n",
    "        wallet[1].charge(val*2)\n",
    "        wallet[2].charge(val*3)\n",
    "        \n",
    "    for c in range(3):\n",
    "        print(f\"Customer = {wallet[c].get_customer()}\")\n",
    "        print(f\"Bank = {wallet[c].get_bank()}\")\n",
    "        print(f\"Account = {wallet[c].get_acnt()}\")\n",
    "        print(f\"Limit = {wallet[c].get_limit()}\")\n",
    "        print(f\"Balance = {wallet[c].get_balance()}\")\n",
    "        while wallet[c].get_balance() > 100:\n",
    "            wallet[c].make_payment(100)\n",
    "            print(f\"New Balance = {wallet[c].get_balance()}\")\n",
    "        print()\n"
   ],
   "metadata": {
    "collapsed": false,
    "ExecuteTime": {
     "end_time": "2024-09-01T04:28:08.211844Z",
     "start_time": "2024-09-01T04:28:08.210472Z"
    }
   },
   "id": "1485bb27b8163f14"
  },
  {
   "cell_type": "code",
   "execution_count": 102,
   "outputs": [
    {
     "name": "stdout",
     "output_type": "stream",
     "text": [
      "[19, 0, 5]\n",
      "[19, 0, -3]\n",
      "16\n",
      "<[19, 0, -3]>\n"
     ]
    }
   ],
   "source": [
    "\"\"\"Example Multidimensional Vector Class\n",
    "   To demonstrate the use of operator overloading via special method.\n",
    "\"\"\"\n",
    "\n",
    "class Vector:\n",
    "    def __init__(self, dims):\n",
    "        \"\"\"Create d-dimensional vector of zero\"\"\"\n",
    "        self.dims = dims\n",
    "        self.vector = [0] * dims\n",
    "        \n",
    "    def __len__(self):\n",
    "        \"\"\"Return the dimension of the vector\"\"\"\n",
    "        return len(self.vector)\n",
    "\n",
    "    def __getitem__(self, j):\n",
    "        \"\"\"Return the jth coordinate of vector\"\"\"\n",
    "        return self.vector[j]\n",
    "    \n",
    "    def __setitem__(self, j, value):\n",
    "        \"\"\"Set jth coordinate of vector to given value\"\"\"\n",
    "        self.vector[j] = value\n",
    "        return self.vector\n",
    "    \n",
    "    def __add__(self, other):\n",
    "        \"\"\"Return the sum of two vector\"\"\"\n",
    "        if len(self.vector) != len(other.vector):\n",
    "            raise ValueError('Two Vectors must have the same length!')\n",
    "        return [self.vector[i]+ other.vector[i] for i in range(len(self.vector))]\n",
    "    \n",
    "    def __eq__(self, other):\n",
    "        \"\"\"\"\"\"\n",
    "        if self.vector == other.vector:\n",
    "            return True\n",
    "    \n",
    "    def __ne__(self, other):\n",
    "        if self.vector != other.vector:\n",
    "            return True\n",
    "    \n",
    "    def __str__(self):\n",
    "        return '<' + str(self.vector[:]) + '>'\n",
    "    \n",
    "v_a = Vector(3)\n",
    "v_b = Vector(3)\n",
    "v_a[0] = 19\n",
    "v_a[-1] = -3\n",
    "v_b[-1]= 8\n",
    "total = 0\n",
    "for entry in v_a:\n",
    "    total += entry\n",
    "\n",
    "\n",
    "print(v_a+v_b)\n",
    "print(v_a[:])\n",
    "print(total)\n",
    "print(v_a)"
   ],
   "metadata": {
    "collapsed": false,
    "ExecuteTime": {
     "end_time": "2024-06-19T10:17:29.109264Z",
     "start_time": "2024-06-19T10:17:29.096129Z"
    }
   },
   "id": "8f2e4390ece5404"
  },
  {
   "cell_type": "code",
   "execution_count": 73,
   "outputs": [
    {
     "data": {
      "text/plain": "[0, 0, 0, 0, 0]"
     },
     "execution_count": 73,
     "metadata": {},
     "output_type": "execute_result"
    }
   ],
   "source": [
    "\"\"\"An Example to demonstrate how an iterator works\"\"\"\n",
    "\n",
    "class SequenceIterator:\n",
    "    \"\"\"An iterator for any of Python's sequence types\"\"\"\n",
    "    def __init__(self, sequence):\n",
    "        \"\"\"Create an iterator for a given sequence\"\"\"\n",
    "        self._seq = sequence\n",
    "        self._k = -1\n",
    "        \n",
    "    def __next__(self):\n",
    "        \"\"\"Return the next element, or else raise StopIteration error.\"\"\"\n",
    "        self._k += 1\n",
    "        if self._k <= len(self._seq):\n",
    "            return self._seq[self._k]\n",
    "        else:\n",
    "            raise StopIteration()\n",
    "        \n",
    "    def __iter__(self):\n",
    "        \"\"\"By convention, an iterator must return itself as an iterator.\"\"\"\n",
    "        return self\n",
    "    \n",
    "    \n",
    "    "
   ],
   "metadata": {
    "collapsed": false,
    "ExecuteTime": {
     "end_time": "2024-06-19T09:41:33.643246Z",
     "start_time": "2024-06-19T09:41:33.621848Z"
    }
   },
   "id": "dc7dcd7d306dd3d7"
  },
  {
   "cell_type": "code",
   "execution_count": 147,
   "outputs": [],
   "source": [
    "\"\"\"A Range Class Example\"\"\"\n",
    "\n",
    "class Range:\n",
    "    \"\"\"A class that mimic's the python build-in class range.\"\"\"\n",
    "    def __init__(self, start, stop=None, step=1):\n",
    "        \"\"\"Initialize a Range instance\n",
    "        Semantics is similar to the build-in range class.\n",
    "        \"\"\"\n",
    "        \n",
    "        if step == 0:\n",
    "            raise ValueError('step cannot be 0')\n",
    "        \n",
    "        if stop is None:  # special case as range(n)\n",
    "            start, stop = 0, start # should be treated as range(0, n)\n",
    "        \n",
    "        self._length = max(0, (stop-start+step-1)//step)\n",
    "        self._start = start\n",
    "        self._step = step\n",
    "        \n",
    "    def __len__(self):\n",
    "        \"\"\"Return number of entries of the range\"\"\"\n",
    "        return self._length\n",
    "    \n",
    "    def __getitem__(self, j):\n",
    "        \"\"\"Return the entry at index k (using standard interpretation if negative\"\"\"\n",
    "        if j < 0:\n",
    "            j += self._length\n",
    "            \n",
    "        if 0 <= j < self._length:\n",
    "            raise IndexError('index out of Range')\n",
    "\n",
    "        return self._start + j* self._step\n",
    "    \n"
   ],
   "metadata": {
    "collapsed": false,
    "ExecuteTime": {
     "end_time": "2024-06-20T07:22:06.575281Z",
     "start_time": "2024-06-20T07:22:06.512045Z"
    }
   },
   "id": "43ad607a6cc1c0a2"
  },
  {
   "cell_type": "code",
   "execution_count": 120,
   "outputs": [
    {
     "name": "stdout",
     "output_type": "stream",
     "text": [
      "2\n",
      "0\n",
      "4\n"
     ]
    }
   ],
   "source": [
    "\"\"\"Extending the CreditCard class by using super() method to demonstrate the mechanisms for inheritance\"\"\"\n",
    "\n",
    "class PredatoryCreditCard(CreditCard):\n",
    "    \"\"\"Create a new predatory credit card instance.\n",
    "    \n",
    "    The initial balance is zero\n",
    "    \n",
    "    customer  the name of the customer (e.g., 'John Bowman')\n",
    "    bank      the name of the bank (e.g., 'California Savings)\n",
    "    acnt      the account identifier (e.g., '5391 0375 9387 5309') \n",
    "    limit     credit limit (measured in dollars)\n",
    "    apr       annual percentage rate (e.g., 0.0825 for 8.25% APR)\n",
    "    \"\"\"\n",
    "    \n",
    "    def __init__(self, customer, bank, acnt, limit, apr):\n",
    "        super().__init__(customer, bank, acnt, limit)\n",
    "        self._apr = apr\n",
    "        \n",
    "    def charge(self, price):\n",
    "        \"\"\"Charge given price to the card, assuming sufficient credit limit.\n",
    "        \n",
    "        Return True if charge was processed.\n",
    "        Return False and assess $5 fee if charge is denied.\n",
    "        \"\"\"\n",
    "        success = super().charge(price)   # call inherited method\n",
    "        if not success:\n",
    "            self._balance += 5\n",
    "        return success # caller expects return value\n",
    "    \n",
    "    def process_month(self):\n",
    "        \"\"\"Access monthly interest outstanding balance.\"\"\"\n",
    "        if self._balance > 0:\n",
    "            monthly_interest = pow(1+self._apr, 1/12)\n",
    "            self._balance *= monthly_interest\n",
    "        \n",
    "            \n",
    "        \n",
    "    \n",
    "        "
   ],
   "metadata": {
    "collapsed": false,
    "ExecuteTime": {
     "end_time": "2024-06-20T02:32:37.144647Z",
     "start_time": "2024-06-20T02:32:37.115875Z"
    }
   },
   "id": "68dd1705e29223e1"
  },
  {
   "cell_type": "markdown",
   "source": [
    "## 2.4.2 Hierarchy of Numeric Progression"
   ],
   "metadata": {
    "collapsed": false
   },
   "id": "8bfb368ffa0bcba1"
  },
  {
   "cell_type": "code",
   "execution_count": 172,
   "outputs": [
    {
     "name": "stdout",
     "output_type": "stream",
     "text": [
      "10 11 12 13 14 15 16 17 18 19 20\n"
     ]
    }
   ],
   "source": [
    "class Progression:\n",
    "    def __init__(self, start=0):\n",
    "        self._current = start\n",
    "        \n",
    "    def __iter__(self):\n",
    "        return self\n",
    "    \n",
    "    def _advance(self):\n",
    "        \"\"\" Update self._current to a new value.\n",
    "        \n",
    "        This should be overridden by a subclass to customize progression\n",
    "        \n",
    "        By convention, if current is set to None, this designates the end of a finite progression. \n",
    "        \"\"\"\n",
    "        self._current += 1\n",
    "    \n",
    "    def __next__(self):\n",
    "        if self._current is None:\n",
    "            raise StopIteration()\n",
    "        else:\n",
    "            answer = self._current\n",
    "            self._advance()\n",
    "            return answer\n",
    "        \n",
    "    def print_progression(self, n):\n",
    "        \"\"\" Print the next n value of the progression.\"\"\"\n",
    "        print(' '.join(str(next(self)) for j in range(n)))\n",
    "        \n",
    "ps = Progression(10)\n",
    "ps.print_progression(11)"
   ],
   "metadata": {
    "collapsed": false,
    "ExecuteTime": {
     "start_time": "2024-06-20T12:30:28.421537Z"
    }
   },
   "id": "71ef17af05ba6a73"
  },
  {
   "cell_type": "code",
   "execution_count": 170,
   "outputs": [
    {
     "name": "stdout",
     "output_type": "stream",
     "text": [
      "5 8 11 14 17 20 23 26 29 32 35 38 41 44 47 50 53 56 59 62\n"
     ]
    }
   ],
   "source": [
    "class ArithmeticProgression(Progression):\n",
    "    def __init__(self,increment=1,start=0):\n",
    "        \"\"\"Create a new arithmetic progression class\n",
    "        :param increment: the fix constant to add to each term (default 1)\n",
    "        :param start:     the first term of progression (default 0) \n",
    "        \"\"\"\n",
    "        super().__init__(start)\n",
    "        self._increment = increment\n",
    "        \n",
    "    def _advance(self):\n",
    "        \"\"\"Update self._current value by adding the fixed increment\"\"\"\n",
    "        self._current += self._increment\n",
    "        \n",
    "        \n",
    "ap = ArithmeticProgression(3, 5)\n",
    "\n",
    "ap.print_progression(20)   "
   ],
   "metadata": {
    "collapsed": false,
    "ExecuteTime": {
     "start_time": "2024-06-20T12:29:31.173029Z"
    }
   },
   "id": "dfe8e75c47396675"
  },
  {
   "cell_type": "code",
   "execution_count": 0,
   "outputs": [],
   "source": [
    "class GeometricProgression(Progression):\n",
    "    def __init__(self, base=2, start=1):\n",
    "        \"\"\"Create a new geometric progression class\n",
    "        :param base:   the fix constant multiplied to each term ( default 2)\n",
    "        :param start:  the first term of progression （ default 1)\n",
    "        \"\"\"\n",
    "        super().__init__(start)\n",
    "        self._base = base\n",
    "        \n",
    "    def _advance(self):\n",
    "        \"\"\"Update self._current value by multiplying the base value.\"\"\"\n",
    "        self._current *= self._base\n",
    "        \n",
    "\n",
    "gp = GeometricProgression(9,3)\n",
    "\n",
    "gp.print_progression(10)"
   ],
   "metadata": {
    "collapsed": false
   },
   "id": "db1adcef75df3edb"
  },
  {
   "cell_type": "code",
   "execution_count": 0,
   "outputs": [],
   "source": [
    "class FibonacciProgression(Progression):\n",
    "    def __init__(self, first=0, second=1):\n",
    "        \"\"\"Iterator producing a generalized Fibonacci progression\n",
    "        :param first:    the first term of the progression (default 0)\n",
    "        :param second:   the second term of the progression (default 1)\n",
    "        \"\"\"\n",
    "        self._prev = second - first\n",
    "        super().__init__(first)\n",
    "        \n",
    "    def _advance(self):\n",
    "        \"\"\"Update self._current and self._prev value by taking sum of previous two.\"\"\"\n",
    "        self._prev, self._current = self._current, self._prev + self._current\n",
    "        \n",
    "fb = FibonacciProgression()\n",
    "fb.print_progression(10)"
   ],
   "metadata": {
    "collapsed": false
   },
   "id": "4ee99489086c5c81"
  },
  {
   "cell_type": "code",
   "execution_count": 178,
   "outputs": [
    {
     "name": "stdout",
     "output_type": "stream",
     "text": [
      "Default progression:\n",
      "0 1 2 3 4 5 6 7 8 9\n",
      "Arithmatic Progression with increment 5.\n",
      "0 5 10 15 20 25 30 35 40 45\n",
      "Arithmetic Progression with increment 5 and start 2\n",
      "2 7 12 17 22 27 32 37 42 47\n",
      "Geometric Progression with default base.\n",
      "1 2 4 8 16 32 64 128 256 512\n",
      "Geometric Progression with base 3 and default start\n",
      "1 3 9 27 81 243 729 2187 6561 19683\n",
      "Fibonacci Progression with default start\n",
      "0 1 1 2 3 5 8 13 21 34\n",
      "Fibonacci Progression with start values 4 and 6\n",
      "4 6 10 16 26 42 68 110 178 288\n"
     ]
    }
   ],
   "source": [
    "\"\"\"Test our Progression class family\"\"\"\n",
    "\n",
    "if __name__ == '__main__':\n",
    "    print(\"Default progression:\")\n",
    "    Progression().print_progression(10)\n",
    "    \n",
    "    print(\"Arithmatic Progression with increment 5.\")\n",
    "    ArithmeticProgression(5).print_progression(10)\n",
    "    \n",
    "    print(\"Arithmetic Progression with increment 5 and start 2\")\n",
    "    ArithmeticProgression(5, 2).print_progression(10)\n",
    "    \n",
    "    print(\"Geometric Progression with default base.\")\n",
    "    GeometricProgression().print_progression(10)\n",
    "    \n",
    "    print(\"Geometric Progression with base 3 and default start\")\n",
    "    GeometricProgression(3).print_progression(10)\n",
    "    \n",
    "    print(\"Fibonacci Progression with default start\")\n",
    "    FibonacciProgression().print_progression(10)\n",
    "    \n",
    "    print(\"Fibonacci Progression with start values 4 and 6\")\n",
    "    FibonacciProgression(4,6).print_progression(10)"
   ],
   "metadata": {
    "collapsed": false,
    "ExecuteTime": {
     "end_time": "2024-06-22T06:25:12.168730Z",
     "start_time": "2024-06-22T06:25:12.123836Z"
    }
   },
   "id": "872627812d933b2b"
  },
  {
   "cell_type": "markdown",
   "source": [
    "## 2.4.3 Abstract Based Classes \n"
   ],
   "metadata": {
    "collapsed": false
   },
   "id": "66ceee44e233c252"
  },
  {
   "cell_type": "code",
   "execution_count": 208,
   "outputs": [
    {
     "name": "stdout",
     "output_type": "stream",
     "text": [
      "3\n",
      "9\n",
      "2\n",
      "4\n",
      "True\n"
     ]
    }
   ],
   "source": [
    "\"\"\"In this implementation, I create a 'MySubClass' to indicate how to create a subclass by through an AbstractBaseClass. When we use abstractmethod, it means we ensure the rule that all the subclass must include __len__() and __getitem__() method. And all the subclass can use those concrete method like index(), __contains__(), count()\"\"\"\n",
    "from abc import ABCMeta, abstractmethod\n",
    "\n",
    "class Sequence(metaclass=ABCMeta):\n",
    "    @abstractmethod\n",
    "    def __len__(self):\n",
    "        \"\"\"Return the length of the sequence\"\"\"\n",
    "    \n",
    "    @abstractmethod\n",
    "    def __getitem__(self, j):\n",
    "        \"\"\"Return the element at index j of the sequence\"\"\"\n",
    "    \n",
    "    def __contains__(self, val):\n",
    "        \"\"\"Return True if val found in sequence, False otherwise.\"\"\"\n",
    "        for i in range(len(self)):\n",
    "            if val == self[i]:\n",
    "                return True\n",
    "        return False\n",
    "            \n",
    "    def index(self, val):\n",
    "        \"\"\"Return leftmost index at which val is found (or raise ValueError)\"\"\"\n",
    "        for i in range(len(self)):\n",
    "            if val == self[i]:\n",
    "                return i\n",
    "        raise ValueError\n",
    "        \n",
    "    def count(self, val):\n",
    "        \"\"\"Return the number of elements equal to given value.\"\"\"\n",
    "        k = 0\n",
    "        for i in range(len(self)):\n",
    "            if val == self[i]:\n",
    "                k +=1\n",
    "        return k\n",
    "\n",
    "class MySubClass(Sequence):\n",
    "    def __init__(self,seq):\n",
    "        self._seq = seq\n",
    "        \n",
    "    def __len__(self):\n",
    "        return len(self._seq)\n",
    "        \n",
    "    def __getitem__(self, j):\n",
    "        return self._seq[j]\n",
    "    \n",
    "msc = MySubClass([1,3,3,3,5,7,7,8,9])\n",
    "print(msc[3])\n",
    "print(len(msc))\n",
    "print(msc.count(7))\n",
    "print(msc.index(5))\n",
    "print(3 in msc)\n",
    "    "
   ],
   "metadata": {
    "collapsed": false,
    "ExecuteTime": {
     "start_time": "2024-06-22T09:08:05.722039Z"
    }
   },
   "id": "a9e40b3caef71b03"
  },
  {
   "cell_type": "markdown",
   "source": [
    "## 2.5 Namespaces and Object-Orientation\n",
    "## 2.5.1 Instance and Class Namespaces"
   ],
   "metadata": {
    "collapsed": false
   },
   "id": "3890274ca5eddd1f"
  },
  {
   "cell_type": "code",
   "execution_count": 14,
   "outputs": [
    {
     "name": "stdout",
     "output_type": "stream",
     "text": [
      "0\n",
      "False\n",
      "5\n"
     ]
    }
   ],
   "source": [
    "\"\"\"Class Data Members\n",
    "A Class-level data member is often used when there is some value, such as a constant, that is to be shared by all instances of a class.  \n",
    "As a sample, we revisit the PredatoryCreditCard \n",
    "\"\"\"\n",
    "\n",
    "class PredatoryCreditCard(CreditCard):\n",
    "    OVERLIMIT_FEE = 5\n",
    "    \n",
    "    def charge(self, price):\n",
    "        success = super().charge(price)\n",
    "        if not success:\n",
    "            self._balance += PredatoryCreditCard.OVERLIMIT_FEE\n",
    "        return success\n",
    "    \n",
    "pcc = PredatoryCreditCard('Jenny','CBB','1100 1110 1001 1011', 500)\n",
    "print(pcc.get_balance())\n",
    "print(pcc.charge(5000))\n",
    "print(pcc.get_balance())"
   ],
   "metadata": {
    "collapsed": false,
    "ExecuteTime": {
     "end_time": "2024-09-01T09:27:19.701085Z",
     "start_time": "2024-09-01T09:27:19.689513Z"
    }
   },
   "id": "ac6a510add2e47b9"
  },
  {
   "cell_type": "code",
   "execution_count": 50,
   "outputs": [
    {
     "name": "stdout",
     "output_type": "stream",
     "text": [
      "{'_customer': 'Jenny', '_bank': 'CBB', '_acnt': '1100 1110 1001 1011', '_limit': 500, '_balance': 5, 'x': 3}\n",
      "{'_customer': 'Jenny', '_bank': 'CBB', '_acnt': '1100 1110 1001 1011', '_limit': 500, '_balance': 5, 'x': 3}\n",
      "3\n",
      "{'z': 100}\n",
      "sec.x =  10\n",
      "ec.x =  10\n"
     ]
    },
    {
     "ename": "AttributeError",
     "evalue": "'ExampleClass' object has no attribute 'z'",
     "output_type": "error",
     "traceback": [
      "\u001B[0;31m---------------------------------------------------------------------------\u001B[0m",
      "\u001B[0;31mAttributeError\u001B[0m                            Traceback (most recent call last)",
      "Cell \u001B[0;32mIn[50], line 28\u001B[0m\n\u001B[1;32m     26\u001B[0m ec\u001B[38;5;241m.\u001B[39mx \u001B[38;5;241m=\u001B[39m \u001B[38;5;241m10\u001B[39m\n\u001B[1;32m     27\u001B[0m \u001B[38;5;28mprint\u001B[39m(\u001B[38;5;124m'\u001B[39m\u001B[38;5;124mec.x = \u001B[39m\u001B[38;5;124m'\u001B[39m, ec\u001B[38;5;241m.\u001B[39mx)\n\u001B[0;32m---> 28\u001B[0m ec\u001B[38;5;241m.\u001B[39mz \u001B[38;5;241m=\u001B[39m \u001B[38;5;241m50\u001B[39m\n",
      "\u001B[0;31mAttributeError\u001B[0m: 'ExampleClass' object has no attribute 'z'"
     ]
    }
   ],
   "source": [
    "\"\"\"1. You can use .__dict__ method to check what namespaces does an instance contain (and this mechanism require extra memory of your system.) \n",
    "   2. By the code fragment below you can see, we actually can add a variable to a instance by using [instance_name].[variable_name] = value (We can see this as a benefit of dynamic programing language, compare to static programing language.\n",
    "   3. To avoid the extra-memory-used problem in 1. , we can use __slots__ method as a solution \n",
    "   4. Additionally, __slots__ method can also limit variables of a Class, so if I write a code like \" __slots__ = ('x', 'y')\" inside the declaration of ExampleClass, I can't add other variables (such as 'z') to instances of ExampleClass, and I can't use __dict__ to show all variables of ExampleClass as well (because it hadn't created one when it was created).\n",
    "   5. If you set up a subclass of ExampleClass, you can use __dict__ and add new variable to the instance dynamically. However, when you use __dict__ method to show all variables, it won't show those had define in __slots__\". Or, if you want to make sure all inheritances to avoid creation of instance dictionaries, you should also declare __slots__ in your subclasses.   \n",
    "\"\"\"\n",
    "pcc1 = PredatoryCreditCard('Jenny1','CBB','1100 1110 1001 1011', 500)\n",
    "print(pcc.__dict__)\n",
    "pcc.x =3\n",
    "print(pcc.__dict__)\n",
    "print(pcc.x)\n",
    "\n",
    "class ExampleClass:\n",
    "    __slots__ = ('x','y')\n",
    "\n",
    "class SubExampleClass(ExampleClass):\n",
    "    pass\n",
    "\n",
    "sec = SubExampleClass()   \n",
    "sec.x = 10\n",
    "sec.z = 100\n",
    "print(sec.__dict__)\n",
    "print('sec.x = ', sec.x)\n",
    "ec = ExampleClass()\n",
    "ec.x = 10\n",
    "print('ec.x = ', ec.x)\n",
    "ec.z = 50"
   ],
   "metadata": {
    "collapsed": false,
    "ExecuteTime": {
     "end_time": "2024-09-01T10:41:15.996341Z",
     "start_time": "2024-09-01T10:41:15.978388Z"
    }
   },
   "id": "c6e1d4f009edc3e4"
  },
  {
   "cell_type": "code",
   "execution_count": 40,
   "outputs": [
    {
     "ename": "AttributeError",
     "evalue": "'ExampleClass' object has no attribute '__dict__'",
     "output_type": "error",
     "traceback": [
      "\u001B[0;31m---------------------------------------------------------------------------\u001B[0m",
      "\u001B[0;31mAttributeError\u001B[0m                            Traceback (most recent call last)",
      "Cell \u001B[0;32mIn[40], line 1\u001B[0m\n\u001B[0;32m----> 1\u001B[0m ec\u001B[38;5;241m.\u001B[39m\u001B[38;5;18m__dict__\u001B[39m\n",
      "\u001B[0;31mAttributeError\u001B[0m: 'ExampleClass' object has no attribute '__dict__'"
     ]
    }
   ],
   "source": [
    "ec.__dict__"
   ],
   "metadata": {
    "collapsed": false,
    "ExecuteTime": {
     "end_time": "2024-09-01T10:23:32.564801Z",
     "start_time": "2024-09-01T10:23:32.549358Z"
    }
   },
   "id": "5bd79291b53d2bee"
  },
  {
   "cell_type": "markdown",
   "source": [
    "## 2.6 Shallow and Deep copy"
   ],
   "metadata": {
    "collapsed": false
   },
   "id": "752fecd336215ae4"
  },
  {
   "cell_type": "code",
   "execution_count": 72,
   "outputs": [
    {
     "name": "stdout",
     "output_type": "stream",
     "text": [
      "warm color ID: 4406480192\n",
      "content of warm color[0]: {'_red': 249, '_green': 124, '_blue': 43}\n",
      "palette ID as reference: 4406480192\n",
      "content of palette[0]: {'_red': 249, '_green': 124, '_blue': 43}\n",
      "warm color ID: 4406480192\n",
      "content of warm color: [<__main__.Color object at 0x1068c9ad0>, <__main__.Color object at 0x106a56a10>]\n",
      "palette ID : 4396414144\n",
      "content of palette: [<__main__.Color object at 0x1068c9ad0>, <__main__.Color object at 0x106a56a10>]\n",
      "content of warm color after pop: [<__main__.Color object at 0x1068c9ad0>, <__main__.Color object at 0x106a56a10>]\n",
      "content of palette after pop: [<__main__.Color object at 0x1068c9ad0>]\n",
      "content of warm color after edit value: {'_red': 99, '_green': 124, '_blue': 43}\n",
      "content of palette after edit value: {'_red': 99, '_green': 124, '_blue': 43}\n",
      "warm color ID: 4406696448\n",
      "palette ID: 4406062720\n",
      "content of warm color[0] value: {'_red': 249, '_green': 124, '_blue': 43}\n",
      "content of palette[0] value: {'_red': 99, '_green': 124, '_blue': 43}\n"
     ]
    }
   ],
   "source": [
    "class Color:\n",
    "    def __init__(self, r, g, b):\n",
    "        self._red = r\n",
    "        self._green = g\n",
    "        self._blue = b\n",
    "\n",
    "warm_color = [Color(249, 124, 43), Color(169, 163, 52)]\n",
    "\n",
    "# no new list creat, just a reference:\n",
    "palette = warm_color\n",
    "print('warm color ID:', id(warm_color))\n",
    "print('content of warm color[0]:', warm_color[0].__dict__)\n",
    "print('palette ID as reference:', id(palette))\n",
    "print('content of palette[0]:', palette[0].__dict__)\n",
    "\n",
    "# shallow copy ( different id, can delete element of list, but share same content)\n",
    "palette = list(warm_color)\n",
    "print('warm color ID:', id(warm_color))\n",
    "print('content of warm color:', warm_color)\n",
    "print('palette ID :', id(palette))\n",
    "print('content of palette:', palette)\n",
    "palette.pop()\n",
    "print('content of warm color after pop:', warm_color)\n",
    "print('content of palette after pop:', palette)\n",
    "palette[0]._red = 99\n",
    "print('content of warm color after edit value:', warm_color[0].__dict__)\n",
    "print('content of palette after edit value:', palette[0].__dict__)\n",
    "\n",
    "# deep copy, by using the module 'copy'\n",
    "import copy\n",
    "\n",
    "warm_color = [Color(249, 124, 43), Color(169, 163, 52)]\n",
    "palette = copy.deepcopy(warm_color)\n",
    "print('warm color ID:', id(warm_color))\n",
    "print('palette ID:', id(palette))\n",
    "palette[0]._red = 99\n",
    "print('content of warm color[0] value:', warm_color[0].__dict__)\n",
    "print('content of palette[0] value:', palette[0].__dict__)\n"
   ],
   "metadata": {
    "collapsed": false,
    "ExecuteTime": {
     "end_time": "2024-09-03T14:45:27.081293Z",
     "start_time": "2024-09-03T14:45:27.076518Z"
    }
   },
   "id": "5184b674a58e141d"
  },
  {
   "cell_type": "code",
   "execution_count": null,
   "outputs": [],
   "source": [],
   "metadata": {
    "collapsed": false
   },
   "id": "76b3dcbc51a5bf9c"
  }
 ],
 "metadata": {
  "kernelspec": {
   "display_name": "Python 3",
   "language": "python",
   "name": "python3"
  },
  "language_info": {
   "codemirror_mode": {
    "name": "ipython",
    "version": 2
   },
   "file_extension": ".py",
   "mimetype": "text/x-python",
   "name": "python",
   "nbconvert_exporter": "python",
   "pygments_lexer": "ipython2",
   "version": "2.7.6"
  }
 },
 "nbformat": 4,
 "nbformat_minor": 5
}
