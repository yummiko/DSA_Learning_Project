{
 "cells": [
  {
   "cell_type": "code",
   "execution_count": 1,
   "id": "2f1ea84a0ccec100",
   "metadata": {
    "collapsed": true,
    "ExecuteTime": {
     "end_time": "2024-06-07T11:11:59.647066Z",
     "start_time": "2024-06-07T11:11:59.640348Z"
    }
   },
   "outputs": [
    {
     "name": "stdout",
     "output_type": "stream",
     "text": [
      "0\n",
      "1\n",
      "1\n",
      "2\n",
      "3\n",
      "5\n",
      "8\n",
      "13\n",
      "21\n",
      "34\n",
      "55\n",
      "89\n",
      "144\n",
      "233\n",
      "377\n",
      "610\n",
      "987\n",
      "1597\n",
      "2584\n",
      "4181\n"
     ]
    }
   ],
   "source": [
    "'''\n",
    "Fibonacci Sequence:\n",
    "Problem: Write a function to compute the n-th Fibonacci number using recursion.\n",
    "Example: fibonacci(5) should return 5 (since the sequence is 0, 1, 1, 2, 3, 5, ...).\n",
    "'''\n",
    "\n",
    "\n",
    "def fibonacci_num(n):\n",
    "    if n == 0:\n",
    "        return 0\n",
    "    if n == 1:\n",
    "        return 1\n",
    "    else:\n",
    "        return fibonacci_num(n - 1) + fibonacci_num(n - 2)\n",
    "\n",
    "\n",
    "for i in range(20):\n",
    "    print(fibonacci_num(i))"
   ]
  },
  {
   "cell_type": "code",
   "execution_count": null,
   "outputs": [],
   "source": [
    "'''\n",
    "Factorial Calculation:\n",
    "Problem: Write a function to compute the factorial of a number using recursion.\n",
    "Example: factorial(5) should return 120 (since 5! = 5 * 4 * 3 * 2 * 1).\n",
    "'''\n",
    "\n",
    "\n",
    "def factorial(n):\n",
    "    return 1 if n == 1 else n * factorial(n - 1)\n",
    "\n",
    "\n",
    "factorial(5)"
   ],
   "metadata": {
    "collapsed": false
   },
   "id": "c59ff8bff5724ebc"
  },
  {
   "cell_type": "code",
   "execution_count": 2,
   "outputs": [
    {
     "name": "stdout",
     "output_type": "stream",
     "text": [
      "23\n",
      "23\n"
     ]
    }
   ],
   "source": [
    "'''\n",
    "Binary Search:\n",
    "Problem: Implement binary search using recursion to find an element in a sorted array.\n",
    "Example: binary_search([1, 2, 3, 4, 5], 3) should return the index 2.\n",
    "'''\n",
    "\n",
    "\n",
    "def binary_search(arr, target):\n",
    "    if len(arr) == 0:\n",
    "        return -1\n",
    "\n",
    "    #print(f'claim mid_p = {mid_p}')\n",
    "    mid_p = len(arr) // 2\n",
    "\n",
    "    if target == arr[mid_p]:\n",
    "        #print(f'target{target} == midpoint{mid_p}, pick{arr[mid_p]}')\n",
    "        return mid_p\n",
    "\n",
    "    if target > arr[mid_p]:\n",
    "        #print(f'target{target} > midpoint{arr[mid_p]}, pick{arr[mid_p]}-{arr[-1]}')\n",
    "        result = binary_search(arr[mid_p + 1:], target)\n",
    "        return mid_p + 1 + result if result != -1 else -1\n",
    "\n",
    "    if target < arr[mid_p]:\n",
    "        #print(f'target{target} < midpoint{arr[mid_p]}, pick{arr[0]}-{arr[mid_p-1]}')\n",
    "        return binary_search(arr[:mid_p], target)\n",
    "\n",
    "\n",
    "list1 = [i for i in range(100)]\n",
    "print(binary_search(list1, 23))\n",
    "print(list1.index(23))\n"
   ],
   "metadata": {
    "collapsed": false,
    "ExecuteTime": {
     "end_time": "2024-06-07T11:12:23.007137Z",
     "start_time": "2024-06-07T11:12:22.994228Z"
    }
   },
   "id": "a95eee15fba916ac"
  },
  {
   "cell_type": "code",
   "execution_count": 4,
   "outputs": [
    {
     "name": "stdout",
     "output_type": "stream",
     "text": [
      "Move Disk1 from A to B\n",
      "Move Disk2 from A to C\n",
      "Move Disk1 from B to C\n",
      "Move Disk3 from A to B\n",
      "Move Disk1 from C to A\n",
      "Move Disk2 from C to B\n",
      "Move Disk1 from A to B\n",
      "Move Disk4 from A to C\n",
      "Move Disk1 from B to C\n",
      "Move Disk2 from B to A\n",
      "Move Disk1 from C to A\n",
      "Move Disk3 from B to C\n",
      "Move Disk1 from A to B\n",
      "Move Disk2 from A to C\n",
      "Move Disk1 from B to C\n"
     ]
    }
   ],
   "source": [
    "'''\n",
    "Tower of Hanoi:\n",
    "Problem: Write a recursive function to solve the Tower of Hanoi problem.\n",
    "Example: tower_of_hanoi(n, 'A', 'C', 'B') should print the steps to move n disks from peg 'A' to peg 'C' using 'B' as auxiliary.\n",
    "'''\n",
    "\n",
    "\n",
    "def t_Hanoi(disks, s_peg, t_peg, aux):\n",
    "    if disks == 1:\n",
    "        print(f'Move Disk1 from {s_peg} to {t_peg}')\n",
    "        return\n",
    "\n",
    "    t_Hanoi(disks - 1, s_peg, aux, t_peg)\n",
    "    print(f'Move Disk{disks} from {s_peg} to {t_peg}')\n",
    "    t_Hanoi(disks - 1, aux, t_peg, s_peg)\n",
    "\n",
    "\n",
    "t_Hanoi(4, 'A', 'C', 'B')"
   ],
   "metadata": {
    "collapsed": false,
    "ExecuteTime": {
     "end_time": "2024-06-07T11:12:38.944006Z",
     "start_time": "2024-06-07T11:12:38.935610Z"
    }
   },
   "id": "3c98f99c8e1b1804"
  },
  {
   "cell_type": "code",
   "execution_count": null,
   "outputs": [],
   "source": [
    "'''\n",
    "Permutations of a String:\n",
    "Problem: Write a recursive function to generate all permutations of a string.\n",
    "Example: permute('abc') should return ['abc', 'acb', 'bac', 'bca', 'cab', 'cba'].\n",
    "'''\n",
    "\n",
    "\n",
    "def permute(s):\n",
    "    if len(s) == 0:\n",
    "        return 'No character here.'\n",
    "    if len(s) == 1:\n",
    "        return s\n",
    "    permutation_list = []\n",
    "    for i, char in enumerate(s):\n",
    "        for p in permute(s[:i] + s[i + 1:]):\n",
    "            permutation_list.append(char + p)\n",
    "    return permutation_list\n",
    "\n",
    "\n",
    "print(permute('abc'))"
   ],
   "metadata": {
    "collapsed": false
   },
   "id": "457f66d46ddc2d78"
  },
  {
   "cell_type": "code",
   "execution_count": 14,
   "outputs": [
    {
     "data": {
      "text/plain": "15"
     },
     "execution_count": 14,
     "metadata": {},
     "output_type": "execute_result"
    }
   ],
   "source": [
    "'''\n",
    "Sum of Digits:\n",
    "Problem: Write a recursive function to find the sum of the digits of a given number.\n",
    "Example: sum_of_digits(1234) should return 10 (since 1 + 2 + 3 + 4 = 10).\n",
    "\n",
    "Hint:\n",
    "\n",
    "Base Case: If the number is 0, return 0.\n",
    "Recursive Case: Extract the last digit and add it to the sum of the digits of the remaining number.\n",
    "'''\n",
    "\n",
    "def sum_of_digits(n):\n",
    "    if n == 0:\n",
    "        return 0\n",
    "    return n % 10 + sum_of_digits(n // 10)\n",
    "\n",
    "sum_of_digits(12345)\n",
    "    "
   ],
   "metadata": {
    "collapsed": false,
    "ExecuteTime": {
     "end_time": "2024-06-08T00:50:58.007465Z",
     "start_time": "2024-06-08T00:50:57.996613Z"
    }
   },
   "id": "initial_id"
  },
  {
   "cell_type": "code",
   "execution_count": 16,
   "outputs": [
    {
     "data": {
      "text/plain": "1024"
     },
     "execution_count": 16,
     "metadata": {},
     "output_type": "execute_result"
    }
   ],
   "source": [
    "'''2. Power Calculation:\n",
    "Problem: Write a recursive function to compute x^n (x raised to the power n).\n",
    "Example: power(2, 3) should return 8 (since 2^3 = 8).\n",
    "\n",
    "Hint:\n",
    "Base Case: If the exponent is 0, return 1.\n",
    "Recursive Case: Multiply x by the result of power(x, n-1).'''\n",
    "\n",
    "def power(x, n):\n",
    "    if n == 0:\n",
    "        return 1\n",
    "    \n",
    "    return x * power(x, n-1)\n",
    "\n",
    "power(2,10)"
   ],
   "metadata": {
    "collapsed": false,
    "ExecuteTime": {
     "end_time": "2024-06-08T01:19:18.413844Z",
     "start_time": "2024-06-08T01:19:18.406696Z"
    }
   },
   "id": "2e7e3f34b014f156"
  },
  {
   "cell_type": "code",
   "execution_count": 20,
   "outputs": [
    {
     "data": {
      "text/plain": "1"
     },
     "execution_count": 20,
     "metadata": {},
     "output_type": "execute_result"
    }
   ],
   "source": [
    "'''3. Greatest Common Divisor (GCD):\n",
    "Problem: Write a recursive function to find the GCD of two numbers using the Euclidean algorithm.\n",
    "Example: gcd(48, 18) should return 6.\n",
    "\n",
    "Hint:\n",
    "Base Case: If one number is 0, return the other number.\n",
    "Recursive Case: Call gcd(b, a % b).'''\n",
    "\n",
    "def gcd(a, b): # Finding the Greatest common divisor between two number.\n",
    "    if a == 0:\n",
    "        return b\n",
    "    if b == 0:\n",
    "        return a\n",
    "    return gcd(b, a%b)\n",
    "\n",
    "gcd(100, 39)"
   ],
   "metadata": {
    "collapsed": false,
    "ExecuteTime": {
     "end_time": "2024-06-08T02:10:21.849061Z",
     "start_time": "2024-06-08T02:10:21.842955Z"
    }
   },
   "id": "dc14c34d1230f70c"
  },
  {
   "cell_type": "code",
   "execution_count": 21,
   "outputs": [
    {
     "data": {
      "text/plain": "'olleh'"
     },
     "execution_count": 21,
     "metadata": {},
     "output_type": "execute_result"
    }
   ],
   "source": [
    "\"\"\"4. String Reversal:\n",
    "Problem: Write a recursive function to reverse a string.\n",
    "Example: reverse_string(\"hello\") should return \"olleh\".\n",
    "\n",
    "Hint:\n",
    "Base Case: If the string is empty, return an empty string.\n",
    "Recursive Case: Take the last character and add it to the reverse of the remaining string.\"\"\"\n",
    "\n",
    "def reverse_string(string):\n",
    "    if string == '':\n",
    "        return ''\n",
    "    return string[-1] + reverse_string(string[:-1])\n",
    "\n",
    "reverse_string('hello')"
   ],
   "metadata": {
    "collapsed": false,
    "ExecuteTime": {
     "end_time": "2024-06-08T02:14:20.971516Z",
     "start_time": "2024-06-08T02:14:20.965930Z"
    }
   },
   "id": "39a1919cc9b2c44a"
  },
  {
   "cell_type": "code",
   "execution_count": 42,
   "outputs": [
    {
     "data": {
      "text/plain": "3"
     },
     "execution_count": 42,
     "metadata": {},
     "output_type": "execute_result"
    }
   ],
   "source": [
    "'''5. Count Occurrences:\n",
    "Problem: Write a recursive function to count the number of occurrences of a target element in a list.\n",
    "Example: count_occurrences([1, 2, 3, 4, 1, 2, 1], 1) should return 3.\n",
    "Hint:\n",
    "\n",
    "Base Case: If the list is empty, return 0.\n",
    "Recursive Case: Check if the first element is the target and count it, then call the function on the rest of the list.'''\n",
    "\n",
    "def count_occurrences(seq, num):\n",
    "    if  len(seq) == 0:\n",
    "        return 0\n",
    "    return (1 if seq[0] == num else 0) + count_occurrences(seq[1:], num)\n",
    "    \n",
    "count_occurrences([1, 2, 3, 4, 1, 2, 1], 1)\n",
    "\n"
   ],
   "metadata": {
    "collapsed": false,
    "ExecuteTime": {
     "end_time": "2024-06-08T02:29:40.575527Z",
     "start_time": "2024-06-08T02:29:40.557873Z"
    }
   },
   "id": "4725cb5bc796ecb3"
  }
 ],
 "metadata": {
  "kernelspec": {
   "display_name": "Python 3",
   "language": "python",
   "name": "python3"
  },
  "language_info": {
   "codemirror_mode": {
    "name": "ipython",
    "version": 2
   },
   "file_extension": ".py",
   "mimetype": "text/x-python",
   "name": "python",
   "nbconvert_exporter": "python",
   "pygments_lexer": "ipython2",
   "version": "2.7.6"
  }
 },
 "nbformat": 4,
 "nbformat_minor": 5
}
