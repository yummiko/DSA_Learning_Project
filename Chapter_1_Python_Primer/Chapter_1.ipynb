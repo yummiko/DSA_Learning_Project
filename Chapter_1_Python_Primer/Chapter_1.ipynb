{
 "cells": [
  {
   "cell_type": "markdown",
   "source": [
    "## Chapter 1. Python Primer\n",
    "### 1.1 Python Overview\n",
    "\n",
    "#### GPA Calculator Sample\n"
   ],
   "metadata": {
    "collapsed": false
   },
   "id": "41bf5fab59e552ae"
  },
  {
   "cell_type": "code",
   "execution_count": 103,
   "outputs": [
    {
     "name": "stdout",
     "output_type": "stream",
     "text": [
      "Welcome to the GPA Calculator.\n",
      "Please enter all your letter grades, one per line.\n",
      "Enter a blank line to designate the end.\n",
      "\n",
      "Process end up by user....\n"
     ]
    }
   ],
   "source": [
    "print('Welcome to the GPA Calculator.')\n",
    "print('Please enter all your letter grades, one per line.')\n",
    "print('Enter a blank line to designate the end.')\n",
    "\n",
    "# map from letter grade to point value\n",
    "points = {'A+':4.0, 'A':4.0, 'A-':3.67, 'B+': 3.33, 'B':3.0, 'B-': 2.67, 'C+': 2.33, \n",
    "          'C': 2.0,'C-': 1.67, 'D+': 1.33, 'D': 1.0, 'F': 0.0}\n",
    "num_courses = 0\n",
    "total_points = 0\n",
    "done = False\n",
    "\n",
    "while not done:\n",
    "    grade = input(\"Please enter your grade, Enter a blank line to calculate: \")\n",
    "    if grade == \"\":\n",
    "        done = True\n",
    "        \n",
    "    elif grade not in points:\n",
    "        print('Unknown grade, Please Try again.')\n",
    "    else:\n",
    "        num_courses += 1\n",
    "        print(f\"You've entered {num_courses} grades, The grade you entered is {grade}\")\n",
    "        total_points += points[grade]\n",
    "\n",
    "if num_courses > 0:\n",
    "    print(f'\\nYour GPA is {total_points / num_courses:.3f}')\n",
    "    \n",
    "print('\\nProcess end up by user....')"
   ],
   "metadata": {
    "collapsed": false,
    "ExecuteTime": {
     "end_time": "2024-06-04T09:42:40.356669Z",
     "start_time": "2024-06-04T09:42:37.850432Z"
    }
   },
   "id": "eccbeb4dddf29bb7"
  },
  {
   "cell_type": "code",
   "execution_count": 100,
   "outputs": [
    {
     "data": {
      "text/plain": "3.111666666666667"
     },
     "execution_count": 100,
     "metadata": {},
     "output_type": "execute_result"
    }
   ],
   "source": [
    "def compute_gpa(grades, pointdict=None):\n",
    "    total_score = 0\n",
    "    num_courses = 0\n",
    "    \n",
    "    if pointdict is None:\n",
    "        pointdict = {'A+':4.0, 'A':4.0, 'A-':3.67, 'B+': 3.33, 'B':3.0, \n",
    "                                'B-': 2.67,'C+': 2.33,'C': 2.0,'C-': 1.67, 'D+': 1.33,\n",
    "                                'D': 1.0, 'F': 0.0}\n",
    "    for g in grades:\n",
    "        if g in pointdict:\n",
    "            total_score += pointdict[g]\n",
    "            num_courses += 1\n",
    "    \n",
    "    final_score = total_score/num_courses\n",
    "    return final_score\n",
    "\n",
    "compute_gpa(['A','A+','B','C+','C-','A-'])\n",
    "    "
   ],
   "metadata": {
    "collapsed": false,
    "ExecuteTime": {
     "end_time": "2024-06-04T09:41:57.174249Z",
     "start_time": "2024-06-04T09:41:57.160686Z"
    }
   },
   "id": "6ee76d285dfade49"
  },
  {
   "cell_type": "markdown",
   "source": [
    "## 1.8 Iterator and Generator\n",
    "Iterator and Generator is an more efficient approach which can process data ( especially for those large files or data stream) one line at a time. Thus, using iterator and Generator won't load everything into memory."
   ],
   "metadata": {
    "collapsed": false
   },
   "id": "75a793eba28fbedb"
  },
  {
   "cell_type": "code",
   "execution_count": 44,
   "outputs": [
    {
     "data": {
      "text/plain": "1"
     },
     "execution_count": 44,
     "metadata": {},
     "output_type": "execute_result"
    }
   ],
   "source": [
    "list1 = [1,2,3,4]\n",
    "iterator = iter(list1)\n",
    "next(iterator)"
   ],
   "metadata": {
    "collapsed": false,
    "ExecuteTime": {
     "start_time": "2024-06-02T08:12:13.006584Z"
    }
   },
   "id": "d25800d7233147c6"
  },
  {
   "cell_type": "code",
   "execution_count": 85,
   "outputs": [],
   "source": [
    "def factors(n):\n",
    "    for k in range(1,n+1):\n",
    "        if n % k == 0:\n",
    "            yield k\n"
   ],
   "metadata": {
    "collapsed": false,
    "ExecuteTime": {
     "end_time": "2024-06-03T06:08:26.022186Z",
     "start_time": "2024-06-03T06:08:25.992077Z"
    }
   },
   "id": "4862658edccf76ba"
  },
  {
   "cell_type": "code",
   "execution_count": 106,
   "outputs": [
    {
     "name": "stdout",
     "output_type": "stream",
     "text": [
      "CPU times: user 2 µs, sys: 5 µs, total: 7 µs\n",
      "Wall time: 14.1 µs\n",
      "CPU times: user 1e+03 ns, sys: 1 µs, total: 2 µs\n",
      "Wall time: 4.05 µs\n"
     ]
    }
   ],
   "source": [
    "# Normal Function\n",
    "%time\n",
    "def generate_sequence_return(n):\n",
    "    return [i for i in range(n)]\n",
    "\n",
    "# Generate a large sequence\n",
    "sequence = generate_sequence_return(1000000)\n",
    "\n",
    "# Generator Function\n",
    "%time\n",
    "def generate_sequence_yield(n):\n",
    "    for i in range(n):\n",
    "        yield i\n",
    "\n",
    "# Generate a large sequence\n",
    "sequence = generate_sequence_yield(1000000)\n",
    "for number in sequence:\n",
    "    pass  # Iterate through the generator to consume it"
   ],
   "metadata": {
    "collapsed": false,
    "ExecuteTime": {
     "end_time": "2024-06-06T02:04:38.452631Z",
     "start_time": "2024-06-06T02:04:38.340211Z"
    }
   },
   "id": "78d6a80a0673645f"
  },
  {
   "cell_type": "code",
   "execution_count": 104,
   "outputs": [
    {
     "name": "stdout",
     "output_type": "stream",
     "text": [
      "4 5\n",
      "6 7\n",
      "8 9\n"
     ]
    },
    {
     "ename": "TypeError",
     "evalue": "vars() argument must have __dict__ attribute",
     "output_type": "error",
     "traceback": [
      "\u001B[0;31m---------------------------------------------------------------------------\u001B[0m",
      "\u001B[0;31mTypeError\u001B[0m                                 Traceback (most recent call last)",
      "Cell \u001B[0;32mIn[104], line 4\u001B[0m\n\u001B[1;32m      1\u001B[0m \u001B[38;5;28;01mfor\u001B[39;00m x, y \u001B[38;5;129;01min\u001B[39;00m [(\u001B[38;5;241m4\u001B[39m,\u001B[38;5;241m5\u001B[39m),(\u001B[38;5;241m6\u001B[39m,\u001B[38;5;241m7\u001B[39m),(\u001B[38;5;241m8\u001B[39m,\u001B[38;5;241m9\u001B[39m)]:\n\u001B[1;32m      2\u001B[0m     \u001B[38;5;28mprint\u001B[39m(x,y )\n\u001B[0;32m----> 4\u001B[0m \u001B[38;5;28mvars\u001B[39m(points)\n",
      "\u001B[0;31mTypeError\u001B[0m: vars() argument must have __dict__ attribute"
     ]
    }
   ],
   "source": [
    "for x, y in [(4,5),(6,7),(8,9)]:\n",
    "    print(x,y )\n"
   ],
   "metadata": {
    "collapsed": false,
    "ExecuteTime": {
     "end_time": "2024-06-04T09:42:43.776461Z",
     "start_time": "2024-06-04T09:42:43.720778Z"
    }
   },
   "id": "f37d06a76aeee19d"
  },
  {
   "cell_type": "markdown",
   "source": [
    "## 1.12 Chapter Exercises\n",
    "### Reinforcement"
   ],
   "metadata": {
    "collapsed": false
   },
   "id": "7e45c0ae3944d8e1"
  },
  {
   "cell_type": "code",
   "execution_count": 131,
   "outputs": [
    {
     "name": "stdout",
     "output_type": "stream",
     "text": [
      "True\n",
      "False\n",
      "True\n",
      "You can't Mod zero\n"
     ]
    }
   ],
   "source": [
    "'''\n",
    "R-1.1 Write a short Python function, is_multiple(n, m), that takes two integer values and returns True if n is a multiple of m, that is, n = mi for some integer i, and False otherwise.\n",
    "'''\n",
    "\n",
    "def is_multiple(n, m):\n",
    "    try:    \n",
    "        return n % m == 0\n",
    "    except ZeroDivisionError:\n",
    "        return \"You can't Mod zero\"\n",
    "        \n",
    "print(is_multiple(100, 4))\n",
    "print(is_multiple(100, 11))\n",
    "print(is_multiple(0,11))\n",
    "print(is_multiple(100,0))"
   ],
   "metadata": {
    "collapsed": false,
    "ExecuteTime": {
     "end_time": "2024-06-06T02:55:37.825437Z",
     "start_time": "2024-06-06T02:55:37.814392Z"
    }
   },
   "id": "50b9c4fc6ebe236b"
  },
  {
   "cell_type": "code",
   "execution_count": 137,
   "outputs": [
    {
     "name": "stdout",
     "output_type": "stream",
     "text": [
      "True\n",
      "True\n",
      "False\n"
     ]
    }
   ],
   "source": [
    "'''\n",
    "R-1.2 Write a short Python function, is_even(k), that takes an integer value and returns True if k is even, and Fales otherwise. However, your function cannot use the multiplication, modulo, or division operators.\n",
    "'''\n",
    "def is_even(k):\n",
    "    return k & 1 == 0 # given b(1) = 0001, every other bit of this arithmetic formula will be 0,and the least significant bit can be 1 or 0 depend on 'k', if k is odd, the last digi is 1 and 1 which equal 1, and return false; if k is even, answer will be opposite. \n",
    "\n",
    "print(is_even(0))\n",
    "print(is_even(4))\n",
    "print(is_even(7))"
   ],
   "metadata": {
    "collapsed": false,
    "ExecuteTime": {
     "end_time": "2024-06-06T04:16:26.413140Z",
     "start_time": "2024-06-06T04:16:26.404499Z"
    }
   },
   "id": "37a61e27064d2048"
  },
  {
   "cell_type": "code",
   "execution_count": 144,
   "outputs": [
    {
     "name": "stdout",
     "output_type": "stream",
     "text": [
      "(1, 8)\n",
      "(-99, 103)\n",
      "(-19, -1)\n"
     ]
    }
   ],
   "source": [
    "'''\n",
    "R-1.3 Write a short Python function, minmax(data), that takes a sequence of one or more numbers, and returns the smallest and largest numbers, in the form of a tuple of length two. Do not use the built-in functions min or max in implementing your solution.\n",
    "'''\n",
    "def minmax(data):\n",
    "    if not data:\n",
    "        raise ValueError('minmax() arg is an empty sequence')\n",
    "    min_val = max_val = data[0]\n",
    "    for i in data[1:]:\n",
    "        if i < min_val:\n",
    "            min_val = i\n",
    "        if i > max_val:\n",
    "            max_val = i\n",
    "    \n",
    "    return min_val, max_val\n",
    "\n",
    "seq = [1,2,3,4,5,6,7,8]\n",
    "print(minmax(seq))\n",
    "print(minmax([44,22,-99,88,103,21,55]))\n",
    "print(minmax([-1,-3,-19]))\n",
    "\n",
    "            \n",
    "    \n"
   ],
   "metadata": {
    "collapsed": false,
    "ExecuteTime": {
     "end_time": "2024-06-06T05:25:18.609429Z",
     "start_time": "2024-06-06T05:25:18.600886Z"
    }
   },
   "id": "3f1635ced7f2ba66"
  },
  {
   "cell_type": "code",
   "execution_count": 154,
   "outputs": [
    {
     "name": "stdout",
     "output_type": "stream",
     "text": [
      "CPU times: user 1e+03 ns, sys: 4 µs, total: 5 µs\n",
      "Wall time: 17.9 µs\n",
      "333332833333500000\n",
      "CPU times: user 1e+03 ns, sys: 4 µs, total: 5 µs\n",
      "Wall time: 83.9 µs\n",
      "332833500\n"
     ]
    }
   ],
   "source": [
    "'''\n",
    "R-1.4 Write a short Python function that takes a positive integer n and returns the sum of the squares of all the positive integers smaller than n.\n",
    "'''\n",
    "%time\n",
    "def all_sum_sqr(n:int):\n",
    "    for i in range(1, n):\n",
    "        yield i ** 2\n",
    "print(sum(all_sum_sqr(1000000)))\n",
    "\n",
    "    \n"
   ],
   "metadata": {
    "collapsed": false,
    "ExecuteTime": {
     "end_time": "2024-06-06T06:11:19.876410Z",
     "start_time": "2024-06-06T06:11:19.866601Z"
    }
   },
   "id": "7bc6944bb4005fb4"
  },
  {
   "cell_type": "code",
   "execution_count": 159,
   "outputs": [
    {
     "name": "stdout",
     "output_type": "stream",
     "text": [
      "CPU times: user 2 µs, sys: 7 µs, total: 9 µs\n",
      "Wall time: 16.9 µs\n",
      "328350\n"
     ]
    }
   ],
   "source": [
    "'''\n",
    "R-1.5 Give a single command that computes the sum from Exercise R-1.4, relying on Python's comprehension syntax and the built-in sum function.\n",
    "'''\n",
    "%time\n",
    "def sum_of_squares(n):\n",
    "    return sum(i**2 for i in range(n))\n",
    "print(sum_of_squares(100))\n"
   ],
   "metadata": {
    "collapsed": false,
    "ExecuteTime": {
     "end_time": "2024-06-06T06:17:29.930296Z",
     "start_time": "2024-06-06T06:17:29.923852Z"
    }
   },
   "id": "9c55cea2c36f976b"
  },
  {
   "cell_type": "code",
   "execution_count": 158,
   "outputs": [
    {
     "name": "stdout",
     "output_type": "stream",
     "text": [
      "CPU times: user 1e+03 ns, sys: 3 µs, total: 4 µs\n",
      "Wall time: 11 µs\n",
      "166650\n"
     ]
    }
   ],
   "source": [
    "'''\n",
    "R-1.6 Write a short Python function that takes a positive integer n and returns the sum of the squares of all the odd positive integers smaller than n.\n",
    "'''\n",
    "%time\n",
    "def sum_odd_squares(n):\n",
    "    return sum(i**2 for i in range(1,n,2))\n",
    "\n",
    "print(sum_odd_squares(100))\n"
   ],
   "metadata": {
    "collapsed": false,
    "ExecuteTime": {
     "end_time": "2024-06-06T06:17:15.509666Z",
     "start_time": "2024-06-06T06:17:15.506434Z"
    }
   },
   "id": "cf406e0742cd9c2b"
  },
  {
   "cell_type": "code",
   "execution_count": 160,
   "outputs": [
    {
     "data": {
      "text/plain": "166650"
     },
     "execution_count": 160,
     "metadata": {},
     "output_type": "execute_result"
    }
   ],
   "source": [
    "\n",
    "'''\n",
    "R-1.7 Give a single command that computes the sum from Exercise R-1.6, relying on Python's comprehension syntax and the built-in sum function.\n",
    "'''\n",
    "sum(i**2 for i in range(1,100) if i % 2 != 0)\n"
   ],
   "metadata": {
    "collapsed": false,
    "ExecuteTime": {
     "end_time": "2024-06-06T06:37:25.663755Z",
     "start_time": "2024-06-06T06:37:25.662621Z"
    }
   },
   "id": "510f139c06aeb91d"
  },
  {
   "cell_type": "code",
   "execution_count": 169,
   "outputs": [
    {
     "name": "stdout",
     "output_type": "stream",
     "text": [
      "Assuming there is a string s = \"HellowWorld\", The length of s is n = 10.\n",
      "If k = -2 (-n ≤ k < 0), s[k] is \"l\".\n",
      "Correspondingly, when j = n-2 = 8, s[j] is also \"l\". \n"
     ]
    }
   ],
   "source": [
    "'''\n",
    "R-1.8 Python allows negative integers to be used as indices into a sequence.such as a string. If string s has length n, and expression s[k] is used for index -n ≤ k < 0, what is the equivalent index j≥ 0 such that s[j] references the same element?\n",
    "'''\n",
    "\n",
    "s = \"HelloWorld\" # Assuming there is a string\n",
    "n = len(s) # And it's length equal n\n",
    "print(f'Assuming there is a string s = \"HellowWorld\", The length of s is n = {n}.')\n",
    "print(f'If k = -2 (-n ≤ k < 0), s[k] is \"{s[-2]}\".')\n",
    "print(f'Correspondingly, when j = n-2 = 8, s[j] is also \"{s[8]}\". ')\n",
    "\n"
   ],
   "metadata": {
    "collapsed": false,
    "ExecuteTime": {
     "end_time": "2024-06-06T06:52:46.216504Z",
     "start_time": "2024-06-06T06:52:46.197064Z"
    }
   },
   "id": "a271ebc9a211da50"
  },
  {
   "cell_type": "code",
   "execution_count": 176,
   "outputs": [
    {
     "name": "stdout",
     "output_type": "stream",
     "text": [
      "[50, 60, 70, 80]\n"
     ]
    }
   ],
   "source": [
    "'''\n",
    "R-1.9 What parameters should be sent to the range constructor, to produce a range with values 50, 60, 70, 80?\n",
    "'''\n",
    "print([i for i in range(50, 81, 10)])"
   ],
   "metadata": {
    "collapsed": false,
    "ExecuteTime": {
     "end_time": "2024-06-06T06:55:29.622011Z",
     "start_time": "2024-06-06T06:55:29.617634Z"
    }
   },
   "id": "e3be76822bbd0f69"
  },
  {
   "cell_type": "code",
   "execution_count": 177,
   "outputs": [
    {
     "data": {
      "text/plain": "[8, 6, 4, 2, 0, -2, -4, -6, -8]"
     },
     "execution_count": 177,
     "metadata": {},
     "output_type": "execute_result"
    }
   ],
   "source": [
    "'''\n",
    "R-1.10 What parameters should be sent to the range constructor, to produce arange with values 8, 6,4,2,0,-2,-4,-6,-8?\n",
    "'''\n",
    "[i for i in range(8, -10, -2)]"
   ],
   "metadata": {
    "collapsed": false,
    "ExecuteTime": {
     "end_time": "2024-06-06T06:56:12.366801Z",
     "start_time": "2024-06-06T06:56:12.362635Z"
    }
   },
   "id": "9219cc8c80eaa632"
  },
  {
   "cell_type": "code",
   "execution_count": 179,
   "outputs": [
    {
     "data": {
      "text/plain": "[1, 2, 4, 8, 16, 32, 64, 128, 256]"
     },
     "execution_count": 179,
     "metadata": {},
     "output_type": "execute_result"
    }
   ],
   "source": [
    "'''\n",
    "R-1.11 Demonstrate how to use Python's list comprehension syntax to producethe list [1, 2, 4,8,16,32, 64,128, 256].\n",
    "'''\n",
    "[2**i for i in range(9)]"
   ],
   "metadata": {
    "collapsed": false,
    "ExecuteTime": {
     "end_time": "2024-06-06T06:57:30.865190Z",
     "start_time": "2024-06-06T06:57:30.860414Z"
    }
   },
   "id": "9009ce7db25d61e4"
  },
  {
   "cell_type": "code",
   "execution_count": 252,
   "outputs": [
    {
     "data": {
      "text/plain": "33"
     },
     "execution_count": 252,
     "metadata": {},
     "output_type": "execute_result"
    }
   ],
   "source": [
    "'''\n",
    "R-1.12 Python's random module includes a function choice(data) that returns a random element from a non-empty sequence. The random module includes a more basic function randrange, with parameterization similar to the built-in range function, that return a random choice from the given range. Using only the randrange function, implement your own version of the choice function.\n",
    "'''\n",
    "from random import randrange\n",
    "\n",
    "def replace_choice(data):\n",
    "    if not data:\n",
    "        return 'non-empty sequence is required.'\n",
    "    return data[randrange(len(data))]\n",
    "\n",
    "\n",
    "seq = [11,22,33,44,55,66,77,88,99,1010,111,222,333,444,555]\n",
    "replace_choice(seq)\n"
   ],
   "metadata": {
    "collapsed": false,
    "ExecuteTime": {
     "end_time": "2024-06-06T07:17:16.860580Z",
     "start_time": "2024-06-06T07:17:16.856920Z"
    }
   },
   "id": "ada7f45c14fd7718"
  },
  {
   "cell_type": "markdown",
   "source": [
    "### Creativity"
   ],
   "metadata": {
    "collapsed": false
   },
   "id": "4caaed7d0b0de898"
  },
  {
   "cell_type": "code",
   "execution_count": 279,
   "outputs": [
    {
     "name": "stdout",
     "output_type": "stream",
     "text": [
      "Pseudo-code Description:\n",
      "        1. Create a empty sequence new_seq.\n",
      "        2. Pick the last element of original_seq and append it into a new sequence(new_seq).\n",
      "        3. Loop step 2 until original_seq has no element, then return new_seq.\n",
      "    \n"
     ]
    },
    {
     "data": {
      "text/plain": "[33, 22, 11]"
     },
     "execution_count": 279,
     "metadata": {},
     "output_type": "execute_result"
    }
   ],
   "source": [
    "'''\n",
    "C-1.13 Write a pseudo-code description of a function that reverses a list of n integers, so that the numbers are listed in the opposite order than they were before, and compare this method to an equivalent Python function for doing the same thing.\n",
    "'''\n",
    "print(\"\"\"Pseudo-code Description:\n",
    "        1. Create a empty sequence new_seq.\n",
    "        2. Pick the last element of original_seq and append it into a new sequence(new_seq).\n",
    "        3. Loop step 2 until original_seq has no element, then return new_seq.\n",
    "    \"\"\")\n",
    "\n",
    "def rev_seq(original_seq):\n",
    "    new_seq = []\n",
    "    for i in range(len(original_seq)-1,-1,-1):\n",
    "        new_seq.append(original_seq[i])\n",
    "    return new_seq\n",
    "\n",
    "rev_seq([11,22,33])\n",
    "    "
   ],
   "metadata": {
    "collapsed": false,
    "ExecuteTime": {
     "end_time": "2024-06-06T07:53:25.610062Z",
     "start_time": "2024-06-06T07:53:25.594831Z"
    }
   },
   "id": "d3157d6586c6938e"
  },
  {
   "cell_type": "code",
   "execution_count": 291,
   "outputs": [
    {
     "name": "stdout",
     "output_type": "stream",
     "text": [
      "True\n",
      "False\n",
      "True\n",
      "False\n"
     ]
    }
   ],
   "source": [
    "'''\n",
    "C-1.14 Write a short Python function that takes a sequence of integer values and determines if there is a distinct pair of numbers in the sequence whose product is odd.\n",
    "'''\n",
    "def is_odd(seq):\n",
    "    odd_num = set() # A set can not contain duplicated number.\n",
    "    for i in seq:\n",
    "        if i % 2 != 0:\n",
    "            odd_num.add(i)\n",
    "        if len(odd_num)> 1:\n",
    "            return True\n",
    "    return False\n",
    "\n",
    "print(is_odd([0,1,2,3]))\n",
    "print(is_odd([0,2,4,6]))\n",
    "print(is_odd([1,3,4,5]))\n",
    "print(is_odd([0,1,2,4]))\n",
    "        "
   ],
   "metadata": {
    "collapsed": false,
    "ExecuteTime": {
     "end_time": "2024-06-06T08:10:57.733614Z",
     "start_time": "2024-06-06T08:10:57.723472Z"
    }
   },
   "id": "e6aeec1b3690d639"
  },
  {
   "cell_type": "code",
   "execution_count": 293,
   "outputs": [
    {
     "name": "stdout",
     "output_type": "stream",
     "text": [
      "True\n",
      "False\n"
     ]
    }
   ],
   "source": [
    "'''\n",
    "C-1.15 Write a Python function that takes a sequence of numbers and determines if all the numbers are different from each other (that is, they are distinct).\n",
    "'''\n",
    "def is_distinct(seq):\n",
    "    return len(seq) == len(set(seq))\n",
    "\n",
    "print(is_distinct([1,2,3,4,5])) # True\n",
    "print(is_distinct([1,1,2,3,4])) # False"
   ],
   "metadata": {
    "collapsed": false,
    "ExecuteTime": {
     "end_time": "2024-06-06T08:16:47.955620Z",
     "start_time": "2024-06-06T08:16:47.944663Z"
    }
   },
   "id": "9d9fd19cb137e718"
  },
  {
   "cell_type": "code",
   "execution_count": 298,
   "outputs": [
    {
     "name": "stdout",
     "output_type": "stream",
     "text": [
      "List ID before: 6358374272\n",
      "ID of data[0] before: 4382696664\n",
      "ID of data[0] after: 4382696696\n",
      "ID of data[1] before: 4382696696\n",
      "ID of data[1] after: 4382696760\n",
      "ID of data[2] before: 4382696728\n",
      "ID of data[2] after: 4382696824\n",
      "List ID after: 6358374272\n",
      "[2, 4, 6]\n",
      " We can see that the list ID is the still the same even though we operate the scale method because the list  is mutable in python while numeric type is immutable. And despite on the data[j] *= factor create a new numeric instance for data[j], we can still use list as a container to replace the new instance to the same index of a list.\n"
     ]
    }
   ],
   "source": [
    "'''\n",
    "C-1.16 In our implementation of the scale function (page 25), the body of the loop executes the command data[j] *= factor. We have discussed that numeric types are immutable, and that use of the *= operator in this context causes the creation of a new instance (not the mutation of an existing instance). How is it still possible, then, that our implementation of scale changes the actual parameter sent by the caller?\n",
    "'''\n",
    "def scale(data, factor):\n",
    "    print(\"List ID before:\", id(data))\n",
    "    for j in range(len(data)):\n",
    "        print(f\"ID of data[{j}] before:\", id(data[j]))\n",
    "        data[j] *= factor\n",
    "        print(f\"ID of data[{j}] after:\", id(data[j]))\n",
    "    print(\"List ID after:\", id(data))\n",
    "\n",
    "# Example usage:\n",
    "lst = [1, 2, 3]\n",
    "scale(lst, 2)\n",
    "print(lst)  # Output: [2, 4, 6]\n",
    "\n",
    "print(\"\"\" We can see that the list ID is the still the same even though we operate the scale method because the list  is mutable in python while numeric type is immutable. And despite on the data[j] *= factor create a new numeric instance for data[j], we can still use list as a container to replace the new instance to the same index of a list.\n",
    "\"\"\")"
   ],
   "metadata": {
    "collapsed": false,
    "ExecuteTime": {
     "end_time": "2024-06-06T08:50:32.688554Z",
     "start_time": "2024-06-06T08:50:32.663642Z"
    }
   },
   "id": "fbaab9a07f2e42d7"
  },
  {
   "cell_type": "code",
   "execution_count": null,
   "outputs": [],
   "source": [
    "'''\n",
    "C-1.17 Had we implemented the scale function (page 25) as follows, does it work properly?\n",
    "def scale(data, factor):\n",
    "    for val in data:\n",
    "        val *= factor\n",
    "Explain why or why not.\n",
    "'''\n",
    "print(\"\"\" No, it doesn't. The variety 'val' in the loop is a copy of each element in data. When 'val *= factor' is executed, it creates a new instance of 'val' but does not modify the original list 'data'. Therefore,the changes are not reflected in 'data'. \n",
    "\"\"\")"
   ],
   "metadata": {
    "collapsed": false
   },
   "id": "be677619cab54215"
  },
  {
   "cell_type": "code",
   "execution_count": 299,
   "outputs": [
    {
     "data": {
      "text/plain": "[0, 2, 6, 12, 20, 30, 42, 56, 72, 90]"
     },
     "execution_count": 299,
     "metadata": {},
     "output_type": "execute_result"
    }
   ],
   "source": [
    "'''\n",
    "C-1.18 Demonstrate how to use Python’s list comprehension syntax to produce the list [0, 2, 6, 12, 20, 30, 42, 56, 72, 90].\n",
    "'''\n",
    "# Target is [0*1, 1*2, 2*3, 3*4,..., 9*10]\n",
    "[i*(i+1) for i in range(10)] "
   ],
   "metadata": {
    "collapsed": false,
    "ExecuteTime": {
     "end_time": "2024-06-06T09:01:32.025919Z",
     "start_time": "2024-06-06T09:01:31.995410Z"
    }
   },
   "id": "5ad0e8bbf4d02cf7"
  },
  {
   "cell_type": "code",
   "execution_count": 305,
   "outputs": [
    {
     "name": "stdout",
     "output_type": "stream",
     "text": [
      "['a', 'b', 'c', 'd', 'e', 'f', 'g', 'h', 'i', 'j', 'k', 'l', 'm', 'n', 'o', 'p', 'q', 'r', 's', 't', 'u', 'v', 'w', 'x', 'y', 'z']\n"
     ]
    }
   ],
   "source": [
    "'''C-1.19 Demonstrate how to use Python’s list comprehension syntax to produce the list ['a', 'b', 'c', ..., 'z'], but without having to type all 26 such characters literally.\n",
    "'''\n",
    "result = [chr(i) for i in range(97,123)]\n",
    "print(result)"
   ],
   "metadata": {
    "collapsed": false,
    "ExecuteTime": {
     "end_time": "2024-06-06T09:09:27.096688Z",
     "start_time": "2024-06-06T09:09:27.037100Z"
    }
   },
   "id": "e0253d71cbe47d7e"
  },
  {
   "cell_type": "code",
   "execution_count": 41,
   "outputs": [
    {
     "name": "stdout",
     "output_type": "stream",
     "text": [
      "['y', 'q', 'x', 'm', 'f', 'l', 'e', 'z', 'u', 'g', 'a', 'p', 'h', 'n', 'v', 's', 'c', 'o', 't', 'k', 'b', 'r', 'j', 'w', 'd', 'i']\n"
     ]
    }
   ],
   "source": [
    "'''\n",
    "C-1.20 Python’s random module includes a function shuffle(data) that accepts a list of elements and randomly reorders the elements so that each possible order occurs with equal probability. The random module includes a more basic function randint(a, b) that returns a uniformly random integer from a to b (including both endpoints). Using only the randint function, implement your own version of the shuffle function.\n",
    "'''\n",
    "import random\n",
    "\n",
    "data_list = ['a', 'b', 'c', 'd', 'e', 'f', 'g', 'h', 'i', 'j', 'k', 'l', 'm', 'n', 'o', 'p', 'q', 'r', 's', 't', 'u', 'v', 'w', 'x', 'y', 'z']\n",
    "\n",
    "def own_ver_shuffle(data):\n",
    "    n = len(data)\n",
    "    for i in range(n):\n",
    "        rand_index = random.randint(0,n-1)\n",
    "        # Swap elements at i and rand_index\n",
    "        data[i], data[rand_index] = data[rand_index], data[i]\n",
    "    return data\n",
    "print(own_ver_shuffle(data_list))"
   ],
   "metadata": {
    "collapsed": false,
    "ExecuteTime": {
     "end_time": "2024-06-07T06:17:48.408570Z",
     "start_time": "2024-06-07T06:17:48.385291Z"
    }
   },
   "id": "5cdb946187d78a23"
  },
  {
   "cell_type": "code",
   "execution_count": 8,
   "outputs": [
    {
     "name": "stdout",
     "output_type": "stream",
     "text": [
      "10\n",
      "9\n",
      "8\n",
      "7\n",
      "6\n",
      "6\n",
      "5\n",
      "4\n",
      "3\n",
      "2\n",
      "1\n",
      "1\n"
     ]
    }
   ],
   "source": [
    "'''C-1.21 Write a Python program that repeatedly reads lines from standard input until an EOFError is raised, and then outputs those lines in reverse order (a user can indicate end of input by typing ctrl-D).\n",
    "'''\n",
    "def read_lines():\n",
    "    lines = []\n",
    "    while True:\n",
    "        try:\n",
    "            line = input('Input whatever you want, input \\'quit\\' to end up input')\n",
    "            if line == 'quit':\n",
    "                break\n",
    "            lines.append(line)\n",
    "        except EOFError(\"User press 'Ctrl-D' to interrupt the Input process\"):\n",
    "            break\n",
    "            \n",
    "    return lines\n",
    "\n",
    "\n",
    "def rev_order(lines):\n",
    "    return lines[::-1]\n",
    "\n",
    "for i in rev_order(read_lines()):\n",
    "    print(i)"
   ],
   "metadata": {
    "collapsed": false,
    "ExecuteTime": {
     "end_time": "2024-06-06T13:01:08.044813Z",
     "start_time": "2024-06-06T13:00:58.794315Z"
    }
   },
   "id": "a6c29504df1fe7ef"
  },
  {
   "cell_type": "code",
   "execution_count": 9,
   "outputs": [
    {
     "data": {
      "text/plain": "[11, 44, 99, 176, 275, 396, 539]"
     },
     "execution_count": 9,
     "metadata": {},
     "output_type": "execute_result"
    }
   ],
   "source": [
    "'''\n",
    "C-1.22 Write a short Python program that takes two arrays a and b of length n storing int values, and returns the dot product of a and b. That is, it returns an array c of length n such that c[i] = a[i] * b[i], for i = 0, ..., n-1.\n",
    "'''\n",
    "def dot_product(a, b):\n",
    "    # Ensure two arrays are in the same length.\n",
    "    if len(a) == len(b):\n",
    "        # Calculate the dot product by using list comprehension.\n",
    "        return [a[i]*b[i] for i in range(len(a))]\n",
    "    return 'Two Arrays aren\\'t in the same length.'\n",
    "\n",
    "# Use example:\n",
    "a = [1,2,3,4,5,6,7]\n",
    "b = [11,22,33,44,55,66,77]\n",
    "\n",
    "dot_product(a,b) # Output : [11, 44, 99, 176, 275, 396, 539]\n"
   ],
   "metadata": {
    "collapsed": false,
    "ExecuteTime": {
     "end_time": "2024-06-06T13:15:12.976739Z",
     "start_time": "2024-06-06T13:15:12.975559Z"
    }
   },
   "id": "f53398b7c73b5e08"
  },
  {
   "cell_type": "code",
   "execution_count": 15,
   "outputs": [
    {
     "name": "stdout",
     "output_type": "stream",
     "text": [
      "Don't try buffer overflow attacks in Python!\n"
     ]
    }
   ],
   "source": [
    "'''\n",
    "C-1.23 Give an example of a Python code fragment that attempts to write an element to a list based on an index that may be out of bounds. If that index is out of bounds, the program should catch the exception that results, and print the following error message:\n",
    "“Don’t try buffer overflow attacks in Python!”\n",
    "'''\n",
    "\n",
    "example_list = [1,2,3,4,5]\n",
    "try:\n",
    "    # Attempt to write to an index that is out of bounds\n",
    "    example_list[5] = 100\n",
    "\n",
    "    # Catch the IndexError exception and print the custom error Message. \n",
    "except IndexError:\n",
    "    print(\"Don't try buffer overflow attacks in Python!\")\n",
    "\n"
   ],
   "metadata": {
    "collapsed": false,
    "ExecuteTime": {
     "end_time": "2024-06-06T13:24:17.856353Z",
     "start_time": "2024-06-06T13:24:17.846368Z"
    }
   },
   "id": "eea998a62f3d9789"
  },
  {
   "cell_type": "code",
   "execution_count": 17,
   "outputs": [
    {
     "name": "stdout",
     "output_type": "stream",
     "text": [
      "1\n",
      "5\n"
     ]
    }
   ],
   "source": [
    "'''\n",
    "C-1.24 Write a short Python function that counts the number of vowels in a given character string.\n",
    "'''\n",
    "\n",
    "def count_vowels(strings):\n",
    "    # Initiate count number and the list of vowels. \n",
    "    count = 0\n",
    "    vowels_strings = 'aeiouAEIOU'\n",
    "    \n",
    "    # Iterate every character of strings and count the amount of vowels by using comprehension.\n",
    "    return sum(1 for i in strings if i in vowels_strings)\n",
    "\n",
    "# User Example:\n",
    "print(count_vowels('World')) # expect output 1\n",
    "print(count_vowels('Beautiful')) # expect output 5\n"
   ],
   "metadata": {
    "collapsed": false,
    "ExecuteTime": {
     "end_time": "2024-06-06T13:43:43.423570Z",
     "start_time": "2024-06-06T13:43:43.419015Z"
    }
   },
   "id": "26fda006b45ae560"
  },
  {
   "cell_type": "code",
   "execution_count": 22,
   "outputs": [
    {
     "name": "stdout",
     "output_type": "stream",
     "text": [
      "Lets try Mike\n",
      "Ive dedicated in this company for years since Jordans dog birth \n"
     ]
    }
   ],
   "source": [
    "'''\n",
    "C-1.25 Write a short Python function that takes a string s, representing a sentence, and returns a copy of the string with all punctuation removed. For example, if given the string \"Let’s try, Mike.\", this function would return \"Lets try Mike\".\n",
    "'''\n",
    "\n",
    "def removal_punc(strings):\n",
    "    # Initiate the list of alphabets\n",
    "    alphabets = 'abcdefghijklmnopqrstuvwxyzABCDEFGHIJKLMNOPQRSTUVWXYZ '\n",
    "    \n",
    "    # Keep characters only in alphabets by using join and comprehension.\n",
    "    new_string = ''.join(char for char in strings if char in alphabets)\n",
    "    return new_string\n",
    "    \n",
    "print(removal_punc('Let’s try, Mike.'))\n",
    "print(removal_punc(\"I've dedicated in this company for years, since Jordan's dog birth. \"))"
   ],
   "metadata": {
    "collapsed": false,
    "ExecuteTime": {
     "end_time": "2024-06-06T13:55:40.809544Z",
     "start_time": "2024-06-06T13:55:40.778303Z"
    }
   },
   "id": "b322ea0e506c68dd"
  },
  {
   "cell_type": "code",
   "execution_count": 28,
   "outputs": [
    {
     "name": "stdout",
     "output_type": "stream",
     "text": [
      "['2 + 2 = 4', '2 * 2 = 4']\n",
      "['2 + 3 = 5']\n",
      "['1 * 8 = 8']\n",
      "['7 = 2 + 5', '7 - 2 = 5']\n",
      "[]\n"
     ]
    }
   ],
   "source": [
    "'''\n",
    "C-1.26 Write a short program that takes as input three integers, a, b, and c, from the console and determines if they can be used in a correct arithmetic formula (in the given order), like “a + b = c”, “a = b - c”, or “a * b = c”.\n",
    "'''\n",
    "def three_int(a,b,c):\n",
    "    operations = [\n",
    "        # Addition\n",
    "        (a + b, c, f'{a} + {b} = {c}'),\n",
    "        (a, b + c, f'{a} = {b} + {c}'),\n",
    "        \n",
    "        # Subtract\n",
    "        (a - b, c, f'{a} - {b} = {c}'),\n",
    "        (a, b - c, f'{a} = {b} - {c}'),\n",
    "        \n",
    "        # Multiply \n",
    "        (a * b, c, f'{a} * {b} = {c}'),\n",
    "        (a, b * c, f'{a} = {b} * {c}')\n",
    "    ]\n",
    "    \n",
    "    correct_formula = []\n",
    "    for res, var, expression in operations:\n",
    "        if res == var:\n",
    "            correct_formula.append(expression)\n",
    "    \n",
    "    return correct_formula\n",
    "\n",
    "print(three_int(2,2,4))\n",
    "print(three_int(2,3,5))\n",
    "print(three_int(1,8,8))\n",
    "print(three_int(7,2,5))\n",
    "print(three_int(3,8,2))"
   ],
   "metadata": {
    "collapsed": false,
    "ExecuteTime": {
     "end_time": "2024-06-06T14:22:49.406113Z",
     "start_time": "2024-06-06T14:22:49.400861Z"
    }
   },
   "id": "755245e6986ca8e9"
  },
  {
   "cell_type": "code",
   "execution_count": 34,
   "outputs": [
    {
     "name": "stdout",
     "output_type": "stream",
     "text": [
      "[1, 2, 4, 5, 8, 10, 20, 25, 40, 50, 100, 125, 200, 250, 500, 1000]\n"
     ]
    }
   ],
   "source": [
    "'''\n",
    "C-1.27 In Section 1.8, we provided three different implementations of a generator that computes factors of a given integer. The third of those implementations, from page 41, was the most efficient, but we noted that it did not yield the factors in increasing order. Modify the generator so that it reports factors in increasing order, while maintaining its general performance advantages.\n",
    "'''\n",
    "def factors(n):\n",
    "    k = 1\n",
    "    small_factors = []\n",
    "    large_factors = []\n",
    "    while k * k < n:\n",
    "        if n % k == 0:\n",
    "            small_factors.append(k)\n",
    "            large_factors.append(n//k)\n",
    "        k += 1\n",
    "    if k * k == n:\n",
    "        small_factors.append(k)\n",
    "    \n",
    "    for i in small_factors:\n",
    "        yield i\n",
    "        \n",
    "    for j in reversed(large_factors):\n",
    "        yield j\n",
    "    \n",
    "\n",
    "print(list(factors(1000)))\n"
   ],
   "metadata": {
    "collapsed": false,
    "ExecuteTime": {
     "end_time": "2024-06-07T05:34:40.210581Z",
     "start_time": "2024-06-07T05:34:40.204488Z"
    }
   },
   "id": "62817d26df0382b9"
  },
  {
   "cell_type": "markdown",
   "source": [
    "\n",
    "'''C-1.28\n",
    "The p-norm of a vector \\( \\mathbf{v} = (v_1, v_2,..., v_n) \\) in n-dimensional space is defined as:\n",
    "\n",
    "\\[ \\|\\mathbf{v}\\|_p = \\left( \\sum_{i=1}^n |v_i|^p \\right)^{1/p} \\]\n",
    "\n",
    "For the special case of \\( p = 2 \\), this results in the traditional Euclidean norm, which represents the length of the vector. For example, the Euclidean norm of a two-dimensional vector with coordinates (4, 3) has a Euclidean norm of:\n",
    "\n",
    "\\[ \\sqrt{4^2 + 3^2} = \\sqrt{16 + 9} = \\sqrt{25} = 5 \\]\n",
    "\n",
    "Give an implementation of a function named `norm` such that `norm(v, p)` returns the p-norm value of \\( \\mathbf{v} \\) and `norm(v)` returns the Euclidean norm of \\( \\mathbf{v} \\). You may assume that \\( \\mathbf{v} \\) is a list of numbers.\n"
   ],
   "metadata": {
    "collapsed": false
   },
   "id": "4036b15a90674757"
  },
  {
   "cell_type": "code",
   "execution_count": 39,
   "outputs": [
    {
     "data": {
      "text/plain": "7.3484692283495345"
     },
     "execution_count": 39,
     "metadata": {},
     "output_type": "execute_result"
    }
   ],
   "source": [
    "def norm(v:list, p=2):\n",
    "    return sum([v_pow**p for v_pow in v]) ** (1 / p)\n",
    "\n",
    "#user example:\n",
    "\n",
    "norm([1,2,3,4],3) # Output: 4.641588833612778\n",
    "norm([2,3,4,5]) # Output: 7.3484692283495345"
   ],
   "metadata": {
    "collapsed": false,
    "ExecuteTime": {
     "end_time": "2024-06-07T06:04:57.857459Z",
     "start_time": "2024-06-07T06:04:57.842650Z"
    }
   },
   "id": "f7591853004b15e2"
  },
  {
   "cell_type": "markdown",
   "source": [
    "### Project"
   ],
   "metadata": {
    "collapsed": false
   },
   "id": "3a4217200e4ca29d"
  },
  {
   "cell_type": "code",
   "execution_count": 57,
   "outputs": [
    {
     "name": "stdout",
     "output_type": "stream",
     "text": [
      "['catdog', 'catdgo', 'catodg', 'catogd', 'catgdo', 'catgod', 'cadtog', 'cadtgo', 'cadotg', 'cadogt', 'cadgto', 'cadgot', 'caotdg', 'caotgd', 'caodtg', 'caodgt', 'caogtd', 'caogdt', 'cagtdo', 'cagtod', 'cagdto', 'cagdot', 'cagotd', 'cagodt', 'ctadog', 'ctadgo', 'ctaodg', 'ctaogd', 'ctagdo', 'ctagod', 'ctdaog', 'ctdago', 'ctdoag', 'ctdoga', 'ctdgao', 'ctdgoa', 'ctoadg', 'ctoagd', 'ctodag', 'ctodga', 'ctogad', 'ctogda', 'ctgado', 'ctgaod', 'ctgdao', 'ctgdoa', 'ctgoad', 'ctgoda', 'cdatog', 'cdatgo', 'cdaotg', 'cdaogt', 'cdagto', 'cdagot', 'cdtaog', 'cdtago', 'cdtoag', 'cdtoga', 'cdtgao', 'cdtgoa', 'cdoatg', 'cdoagt', 'cdotag', 'cdotga', 'cdogat', 'cdogta', 'cdgato', 'cdgaot', 'cdgtao', 'cdgtoa', 'cdgoat', 'cdgota', 'coatdg', 'coatgd', 'coadtg', 'coadgt', 'coagtd', 'coagdt', 'cotadg', 'cotagd', 'cotdag', 'cotdga', 'cotgad', 'cotgda', 'codatg', 'codagt', 'codtag', 'codtga', 'codgat', 'codgta', 'cogatd', 'cogadt', 'cogtad', 'cogtda', 'cogdat', 'cogdta', 'cgatdo', 'cgatod', 'cgadto', 'cgadot', 'cgaotd', 'cgaodt', 'cgtado', 'cgtaod', 'cgtdao', 'cgtdoa', 'cgtoad', 'cgtoda', 'cgdato', 'cgdaot', 'cgdtao', 'cgdtoa', 'cgdoat', 'cgdota', 'cgoatd', 'cgoadt', 'cgotad', 'cgotda', 'cgodat', 'cgodta', 'actdog', 'actdgo', 'actodg', 'actogd', 'actgdo', 'actgod', 'acdtog', 'acdtgo', 'acdotg', 'acdogt', 'acdgto', 'acdgot', 'acotdg', 'acotgd', 'acodtg', 'acodgt', 'acogtd', 'acogdt', 'acgtdo', 'acgtod', 'acgdto', 'acgdot', 'acgotd', 'acgodt', 'atcdog', 'atcdgo', 'atcodg', 'atcogd', 'atcgdo', 'atcgod', 'atdcog', 'atdcgo', 'atdocg', 'atdogc', 'atdgco', 'atdgoc', 'atocdg', 'atocgd', 'atodcg', 'atodgc', 'atogcd', 'atogdc', 'atgcdo', 'atgcod', 'atgdco', 'atgdoc', 'atgocd', 'atgodc', 'adctog', 'adctgo', 'adcotg', 'adcogt', 'adcgto', 'adcgot', 'adtcog', 'adtcgo', 'adtocg', 'adtogc', 'adtgco', 'adtgoc', 'adoctg', 'adocgt', 'adotcg', 'adotgc', 'adogct', 'adogtc', 'adgcto', 'adgcot', 'adgtco', 'adgtoc', 'adgoct', 'adgotc', 'aoctdg', 'aoctgd', 'aocdtg', 'aocdgt', 'aocgtd', 'aocgdt', 'aotcdg', 'aotcgd', 'aotdcg', 'aotdgc', 'aotgcd', 'aotgdc', 'aodctg', 'aodcgt', 'aodtcg', 'aodtgc', 'aodgct', 'aodgtc', 'aogctd', 'aogcdt', 'aogtcd', 'aogtdc', 'aogdct', 'aogdtc', 'agctdo', 'agctod', 'agcdto', 'agcdot', 'agcotd', 'agcodt', 'agtcdo', 'agtcod', 'agtdco', 'agtdoc', 'agtocd', 'agtodc', 'agdcto', 'agdcot', 'agdtco', 'agdtoc', 'agdoct', 'agdotc', 'agoctd', 'agocdt', 'agotcd', 'agotdc', 'agodct', 'agodtc', 'tcadog', 'tcadgo', 'tcaodg', 'tcaogd', 'tcagdo', 'tcagod', 'tcdaog', 'tcdago', 'tcdoag', 'tcdoga', 'tcdgao', 'tcdgoa', 'tcoadg', 'tcoagd', 'tcodag', 'tcodga', 'tcogad', 'tcogda', 'tcgado', 'tcgaod', 'tcgdao', 'tcgdoa', 'tcgoad', 'tcgoda', 'tacdog', 'tacdgo', 'tacodg', 'tacogd', 'tacgdo', 'tacgod', 'tadcog', 'tadcgo', 'tadocg', 'tadogc', 'tadgco', 'tadgoc', 'taocdg', 'taocgd', 'taodcg', 'taodgc', 'taogcd', 'taogdc', 'tagcdo', 'tagcod', 'tagdco', 'tagdoc', 'tagocd', 'tagodc', 'tdcaog', 'tdcago', 'tdcoag', 'tdcoga', 'tdcgao', 'tdcgoa', 'tdacog', 'tdacgo', 'tdaocg', 'tdaogc', 'tdagco', 'tdagoc', 'tdocag', 'tdocga', 'tdoacg', 'tdoagc', 'tdogca', 'tdogac', 'tdgcao', 'tdgcoa', 'tdgaco', 'tdgaoc', 'tdgoca', 'tdgoac', 'tocadg', 'tocagd', 'tocdag', 'tocdga', 'tocgad', 'tocgda', 'toacdg', 'toacgd', 'toadcg', 'toadgc', 'toagcd', 'toagdc', 'todcag', 'todcga', 'todacg', 'todagc', 'todgca', 'todgac', 'togcad', 'togcda', 'togacd', 'togadc', 'togdca', 'togdac', 'tgcado', 'tgcaod', 'tgcdao', 'tgcdoa', 'tgcoad', 'tgcoda', 'tgacdo', 'tgacod', 'tgadco', 'tgadoc', 'tgaocd', 'tgaodc', 'tgdcao', 'tgdcoa', 'tgdaco', 'tgdaoc', 'tgdoca', 'tgdoac', 'tgocad', 'tgocda', 'tgoacd', 'tgoadc', 'tgodca', 'tgodac', 'dcatog', 'dcatgo', 'dcaotg', 'dcaogt', 'dcagto', 'dcagot', 'dctaog', 'dctago', 'dctoag', 'dctoga', 'dctgao', 'dctgoa', 'dcoatg', 'dcoagt', 'dcotag', 'dcotga', 'dcogat', 'dcogta', 'dcgato', 'dcgaot', 'dcgtao', 'dcgtoa', 'dcgoat', 'dcgota', 'dactog', 'dactgo', 'dacotg', 'dacogt', 'dacgto', 'dacgot', 'datcog', 'datcgo', 'datocg', 'datogc', 'datgco', 'datgoc', 'daoctg', 'daocgt', 'daotcg', 'daotgc', 'daogct', 'daogtc', 'dagcto', 'dagcot', 'dagtco', 'dagtoc', 'dagoct', 'dagotc', 'dtcaog', 'dtcago', 'dtcoag', 'dtcoga', 'dtcgao', 'dtcgoa', 'dtacog', 'dtacgo', 'dtaocg', 'dtaogc', 'dtagco', 'dtagoc', 'dtocag', 'dtocga', 'dtoacg', 'dtoagc', 'dtogca', 'dtogac', 'dtgcao', 'dtgcoa', 'dtgaco', 'dtgaoc', 'dtgoca', 'dtgoac', 'docatg', 'docagt', 'doctag', 'doctga', 'docgat', 'docgta', 'doactg', 'doacgt', 'doatcg', 'doatgc', 'doagct', 'doagtc', 'dotcag', 'dotcga', 'dotacg', 'dotagc', 'dotgca', 'dotgac', 'dogcat', 'dogcta', 'dogact', 'dogatc', 'dogtca', 'dogtac', 'dgcato', 'dgcaot', 'dgctao', 'dgctoa', 'dgcoat', 'dgcota', 'dgacto', 'dgacot', 'dgatco', 'dgatoc', 'dgaoct', 'dgaotc', 'dgtcao', 'dgtcoa', 'dgtaco', 'dgtaoc', 'dgtoca', 'dgtoac', 'dgocat', 'dgocta', 'dgoact', 'dgoatc', 'dgotca', 'dgotac', 'ocatdg', 'ocatgd', 'ocadtg', 'ocadgt', 'ocagtd', 'ocagdt', 'octadg', 'octagd', 'octdag', 'octdga', 'octgad', 'octgda', 'ocdatg', 'ocdagt', 'ocdtag', 'ocdtga', 'ocdgat', 'ocdgta', 'ocgatd', 'ocgadt', 'ocgtad', 'ocgtda', 'ocgdat', 'ocgdta', 'oactdg', 'oactgd', 'oacdtg', 'oacdgt', 'oacgtd', 'oacgdt', 'oatcdg', 'oatcgd', 'oatdcg', 'oatdgc', 'oatgcd', 'oatgdc', 'oadctg', 'oadcgt', 'oadtcg', 'oadtgc', 'oadgct', 'oadgtc', 'oagctd', 'oagcdt', 'oagtcd', 'oagtdc', 'oagdct', 'oagdtc', 'otcadg', 'otcagd', 'otcdag', 'otcdga', 'otcgad', 'otcgda', 'otacdg', 'otacgd', 'otadcg', 'otadgc', 'otagcd', 'otagdc', 'otdcag', 'otdcga', 'otdacg', 'otdagc', 'otdgca', 'otdgac', 'otgcad', 'otgcda', 'otgacd', 'otgadc', 'otgdca', 'otgdac', 'odcatg', 'odcagt', 'odctag', 'odctga', 'odcgat', 'odcgta', 'odactg', 'odacgt', 'odatcg', 'odatgc', 'odagct', 'odagtc', 'odtcag', 'odtcga', 'odtacg', 'odtagc', 'odtgca', 'odtgac', 'odgcat', 'odgcta', 'odgact', 'odgatc', 'odgtca', 'odgtac', 'ogcatd', 'ogcadt', 'ogctad', 'ogctda', 'ogcdat', 'ogcdta', 'ogactd', 'ogacdt', 'ogatcd', 'ogatdc', 'ogadct', 'ogadtc', 'ogtcad', 'ogtcda', 'ogtacd', 'ogtadc', 'ogtdca', 'ogtdac', 'ogdcat', 'ogdcta', 'ogdact', 'ogdatc', 'ogdtca', 'ogdtac', 'gcatdo', 'gcatod', 'gcadto', 'gcadot', 'gcaotd', 'gcaodt', 'gctado', 'gctaod', 'gctdao', 'gctdoa', 'gctoad', 'gctoda', 'gcdato', 'gcdaot', 'gcdtao', 'gcdtoa', 'gcdoat', 'gcdota', 'gcoatd', 'gcoadt', 'gcotad', 'gcotda', 'gcodat', 'gcodta', 'gactdo', 'gactod', 'gacdto', 'gacdot', 'gacotd', 'gacodt', 'gatcdo', 'gatcod', 'gatdco', 'gatdoc', 'gatocd', 'gatodc', 'gadcto', 'gadcot', 'gadtco', 'gadtoc', 'gadoct', 'gadotc', 'gaoctd', 'gaocdt', 'gaotcd', 'gaotdc', 'gaodct', 'gaodtc', 'gtcado', 'gtcaod', 'gtcdao', 'gtcdoa', 'gtcoad', 'gtcoda', 'gtacdo', 'gtacod', 'gtadco', 'gtadoc', 'gtaocd', 'gtaodc', 'gtdcao', 'gtdcoa', 'gtdaco', 'gtdaoc', 'gtdoca', 'gtdoac', 'gtocad', 'gtocda', 'gtoacd', 'gtoadc', 'gtodca', 'gtodac', 'gdcato', 'gdcaot', 'gdctao', 'gdctoa', 'gdcoat', 'gdcota', 'gdacto', 'gdacot', 'gdatco', 'gdatoc', 'gdaoct', 'gdaotc', 'gdtcao', 'gdtcoa', 'gdtaco', 'gdtaoc', 'gdtoca', 'gdtoac', 'gdocat', 'gdocta', 'gdoact', 'gdoatc', 'gdotca', 'gdotac', 'gocatd', 'gocadt', 'goctad', 'goctda', 'gocdat', 'gocdta', 'goactd', 'goacdt', 'goatcd', 'goatdc', 'goadct', 'goadtc', 'gotcad', 'gotcda', 'gotacd', 'gotadc', 'gotdca', 'gotdac', 'godcat', 'godcta', 'godact', 'godatc', 'godtca', 'godtac']\n",
      "720\n"
     ]
    }
   ],
   "source": [
    "'''\n",
    "P-1.29 Write a Python program that outputs all possible strings formed by using the characters 'c', 'a', 't', 'd', 'o', and 'g' exactly once.\n",
    "'''\n",
    "def permute_recursion(s):\n",
    "    if len(s) == 1:\n",
    "        return s\n",
    "    permutations = []\n",
    "    for i, char in enumerate(s):\n",
    "        for p in permute_recursion(s[:i]+s[i+1:]):\n",
    "            permutations.append(char+p)\n",
    "    return permutations\n",
    "    \n",
    "strings = 'catdog'    \n",
    "print(permute_recursion(strings))\n",
    "print(len(permute_recursion(strings)))"
   ],
   "metadata": {
    "collapsed": false,
    "ExecuteTime": {
     "end_time": "2024-06-07T07:11:53.312199Z",
     "start_time": "2024-06-07T07:11:53.304230Z"
    }
   },
   "id": "da4bc101f7a14713"
  },
  {
   "cell_type": "markdown",
   "source": [
    "#### More problems need to solved by recursion method."
   ],
   "metadata": {
    "collapsed": false
   },
   "id": "e5d85769cebeee31"
  },
  {
   "cell_type": "code",
   "execution_count": 61,
   "outputs": [
    {
     "name": "stdout",
     "output_type": "stream",
     "text": [
      "0\n",
      "1\n",
      "1\n",
      "2\n",
      "3\n",
      "5\n",
      "8\n",
      "13\n",
      "21\n",
      "34\n",
      "55\n",
      "89\n",
      "144\n",
      "233\n",
      "377\n",
      "610\n",
      "987\n",
      "1597\n",
      "2584\n",
      "4181\n"
     ]
    }
   ],
   "source": [
    "'''\n",
    "Fibonacci Sequence:\n",
    "Problem: Write a function to compute the n-th Fibonacci number using recursion.\n",
    "Example: fibonacci(5) should return 5 (since the sequence is 0, 1, 1, 2, 3, 5, ...).\n",
    "'''\n",
    "\n",
    "def fibonacci_num(n):\n",
    "    if n == 0 :\n",
    "        return 0\n",
    "    if n == 1:\n",
    "        return 1\n",
    "    else:\n",
    "        return fibonacci_num(n-1) + fibonacci_num(n-2)\n",
    "\n",
    "for i in range(20):\n",
    "    print(fibonacci_num(i))"
   ],
   "metadata": {
    "collapsed": false,
    "ExecuteTime": {
     "end_time": "2024-06-07T07:23:03.489137Z",
     "start_time": "2024-06-07T07:23:03.480649Z"
    }
   },
   "id": "53d6c08c68646225"
  },
  {
   "cell_type": "code",
   "execution_count": 770,
   "outputs": [
    {
     "data": {
      "text/plain": "9188111095254496019212176412065202140090580418774645194675369840967804846588863095597762591294093025991679067056119532289819154031153412626361004655299317292397491794124983183190181485863175356339673174577270709354011349841159870162315388021077551574544150339454677263259292741490470278652918758618155319193382176540756099231912808304474174078456156193961001478398647954868692612278257154615836148475874973044173323055630082048837853679900542059105112845394071947192443208478530700194532818459855315620661704950466695965700997551748520475941227743698121112130799760005290512978278155471280205501581277410145813062661991385483143379923345195406432165518340351716868931650203126650444315203993600000000000000000000000000000000000000000000000000000000000000000000000000000000000000000"
     },
     "execution_count": 770,
     "metadata": {},
     "output_type": "execute_result"
    }
   ],
   "source": [
    "'''\n",
    "Factorial Calculation:\n",
    "Problem: Write a function to compute the factorial of a number using recursion.\n",
    "Example: factorial(5) should return 120 (since 5! = 5 * 4 * 3 * 2 * 1).\n",
    "'''\n",
    "\n",
    "def factorial(n):\n",
    "    return 1 if n == 1 else n * factorial(n-1)\n",
    "\n",
    "factorial(366)"
   ],
   "metadata": {
    "collapsed": false,
    "ExecuteTime": {
     "end_time": "2024-06-10T08:26:54.444737Z",
     "start_time": "2024-06-10T08:26:54.394869Z"
    }
   },
   "id": "fe2a3e5647ac26ee"
  },
  {
   "cell_type": "code",
   "execution_count": 118,
   "outputs": [
    {
     "name": "stdout",
     "output_type": "stream",
     "text": [
      "23\n",
      "23\n"
     ]
    }
   ],
   "source": [
    "'''\n",
    "Binary Search:\n",
    "Problem: Implement binary search using recursion to find an element in a sorted array.\n",
    "Example: binary_search([1, 2, 3, 4, 5], 3) should return the index 2.\n",
    "'''\n",
    "def binary_search(arr, target):\n",
    "    if len(arr) == 0:\n",
    "        return -1\n",
    "    \n",
    "    #print(f'claim mid_p = {mid_p}')\n",
    "    mid_p = len(arr)//2\n",
    "    \n",
    "    if target == arr[mid_p]:\n",
    "    #print(f'target{target} == midpoint{mid_p}, pick{arr[mid_p]}')\n",
    "        return mid_p\n",
    "    \n",
    "    if  target > arr[mid_p]:\n",
    "        #print(f'target{target} > midpoint{arr[mid_p]}, pick{arr[mid_p]}-{arr[-1]}')\n",
    "        result = binary_search(arr[mid_p + 1:], target)\n",
    "        return mid_p + 1 + result if result != -1 else -1\n",
    "    \n",
    "    if target < arr[mid_p]:\n",
    "        #print(f'target{target} < midpoint{arr[mid_p]}, pick{arr[0]}-{arr[mid_p-1]}')\n",
    "        return binary_search(arr[:mid_p], target)\n",
    "    \n",
    "\n",
    "    \n",
    "\n",
    "list1 = [i for i in range(100)]\n",
    "print(binary_search(list1, 23))\n",
    "print(list1.index(23))\n",
    "        "
   ],
   "metadata": {
    "collapsed": false,
    "ExecuteTime": {
     "end_time": "2024-06-07T08:52:36.440332Z",
     "start_time": "2024-06-07T08:52:36.421552Z"
    }
   },
   "id": "f0a4774877af3cb2"
  },
  {
   "cell_type": "code",
   "execution_count": 148,
   "outputs": [
    {
     "name": "stdout",
     "output_type": "stream",
     "text": [
      "Move Disk1 from A to B\n",
      "Move Disk2 from A to C\n",
      "Move Disk1 from B to C\n",
      "Move Disk3 from A to B\n",
      "Move Disk1 from C to A\n",
      "Move Disk2 from C to B\n",
      "Move Disk1 from A to B\n",
      "Move Disk4 from A to C\n",
      "Move Disk1 from B to C\n",
      "Move Disk2 from B to A\n",
      "Move Disk1 from C to A\n",
      "Move Disk3 from B to C\n",
      "Move Disk1 from A to B\n",
      "Move Disk2 from A to C\n",
      "Move Disk1 from B to C\n",
      "None\n"
     ]
    }
   ],
   "source": [
    "'''\n",
    "Tower of Hanoi:\n",
    "Problem: Write a recursive function to solve the Tower of Hanoi problem.\n",
    "Example: tower_of_hanoi(n, 'A', 'C', 'B') should print the steps to move n disks from peg 'A' to peg 'C' using 'B' as auxiliary.\n",
    "'''\n",
    "\n",
    "def t_Hanoi(disks, s_peg, t_peg, aux):     \n",
    "    if disks == 1:\n",
    "        print(f'Move Disk1 from {s_peg} to {t_peg}')\n",
    "        return \n",
    "    \n",
    "    t_Hanoi(disks-1, s_peg, aux, t_peg)\n",
    "    print(f'Move Disk{disks} from {s_peg} to {t_peg}')\n",
    "    t_Hanoi(disks-1, aux, t_peg, s_peg)\n",
    "    \n",
    "print(t_Hanoi(4, 'A', 'C', 'B'))"
   ],
   "metadata": {
    "collapsed": false,
    "ExecuteTime": {
     "end_time": "2024-06-07T11:01:03.535162Z",
     "start_time": "2024-06-07T11:01:03.530239Z"
    }
   },
   "id": "c67f15fa36cf815a"
  },
  {
   "cell_type": "code",
   "execution_count": 67,
   "outputs": [
    {
     "name": "stdout",
     "output_type": "stream",
     "text": [
      "['abc', 'acb', 'bac', 'bca', 'cab', 'cba']\n"
     ]
    }
   ],
   "source": [
    "'''\n",
    "Permutations of a String:\n",
    "Problem: Write a recursive function to generate all permutations of a string.\n",
    "Example: permute('abc') should return ['abc', 'acb', 'bac', 'bca', 'cab', 'cba'].\n",
    "'''\n",
    "\n",
    "def permute(s):\n",
    "    if len(s) == 0:\n",
    "        return 'No character here.'\n",
    "    if len(s) == 1:\n",
    "        return s\n",
    "    permutation_list = []\n",
    "    for i, char in enumerate(s):\n",
    "        for p in permute(s[:i]+s[i+1:]):\n",
    "            permutation_list.append(char+p)\n",
    "    return permutation_list\n",
    "print(permute('abc'))"
   ],
   "metadata": {
    "collapsed": false,
    "ExecuteTime": {
     "end_time": "2024-06-07T07:43:15.572946Z",
     "start_time": "2024-06-07T07:43:15.555927Z"
    }
   },
   "id": "eecac69ebdfae875"
  },
  {
   "cell_type": "code",
   "execution_count": 155,
   "outputs": [
    {
     "data": {
      "text/plain": "9"
     },
     "execution_count": 155,
     "metadata": {},
     "output_type": "execute_result"
    }
   ],
   "source": [
    "'''\n",
    "P-1.30 Write a Python program that can take a positive integer greater than 2 as input and write out the number of times one must repeatedly divide this number by 2 before getting a value less than 2.\n",
    "'''\n",
    "\n",
    "def division_two(n):\n",
    "    if n < 2 :\n",
    "        return 0\n",
    "    if n == 2 :\n",
    "        return 1\n",
    "    return 1 + division_two(n//2)\n",
    "\n",
    "division_two(1023)\n",
    "    \n",
    "    "
   ],
   "metadata": {
    "collapsed": false,
    "ExecuteTime": {
     "end_time": "2024-06-08T02:43:24.091969Z",
     "start_time": "2024-06-08T02:43:24.067028Z"
    }
   },
   "id": "454ac2269b4a3282"
  },
  {
   "cell_type": "code",
   "execution_count": 186,
   "outputs": [
    {
     "name": "stdout",
     "output_type": "stream",
     "text": [
      "{'100Y': 5.0, '50Y': 1.0, '20Y': 1.0, '10Y': 1.0, '5Y': 1.0, '1Y': 2.0, '50cent': 1.0, '10cent': 2.0}\n",
      "{'50Y': 1.0, '1Y': 2.0, '50cent': 1.0, '10cent': 4.0}\n",
      "{'100Y': 1}\n",
      "{}\n",
      "Given amount is less than the charge amount.\n"
     ]
    }
   ],
   "source": [
    "'''\n",
    "P-1.31 Write a Python program that can “make change.” Your program should take two numbers as input, one that is a monetary amount charged and the other that is a monetary amount given. It should then return the number of each kind of bill and coin to give back as change for the difference between the amount given and the amount charged. The values assigned to the bills and coins can be based on the monetary system of any current or former government. Try to design your program so that it returns as few bills and coins as possible.\n",
    "'''\n",
    "def make_change(charge, given):\n",
    "    currencies = [('100Y', 100), \n",
    "        ('50Y', 50), \n",
    "        ('20Y', 20), \n",
    "        ('10Y', 10), \n",
    "        ('5Y', 5), \n",
    "        ('1Y', 1), \n",
    "        ('50cent', 0.5), \n",
    "        ('10cent', 0.1)\n",
    "    ]\n",
    "    charges_result = {}\n",
    "    changes = given - charge\n",
    "    if changes < 0:\n",
    "        return \"Given amount is less than the charge amount.\"\n",
    "    for i, value in currencies: \n",
    "        if changes >= value:\n",
    "            charges_result[i] = changes // value\n",
    "            changes = round(changes % value,2)\n",
    "    return charges_result\n",
    "\n",
    "print(make_change(412.3, 1000))\n",
    "print(make_change(47.1, 100))  # Should return the correct change\n",
    "print(make_change(0, 100))     # Should handle the full given amount as change\n",
    "print(make_change(100, 100))   # Should return an empty dictionary since no change is needed\n",
    "print(make_change(150, 100)) "
   ],
   "metadata": {
    "collapsed": false,
    "ExecuteTime": {
     "end_time": "2024-06-08T04:00:57.816655Z",
     "start_time": "2024-06-08T04:00:57.799374Z"
    }
   },
   "id": "5be77d6ef7ce41cb"
  },
  {
   "cell_type": "code",
   "execution_count": 275,
   "outputs": [
    {
     "name": "stdout",
     "output_type": "stream",
     "text": [
      "11.0 3.401 *\n",
      "The answer is 37.411\n",
      "User ended the process.\n"
     ]
    }
   ],
   "source": [
    "'''\n",
    "P-1.32 Write a Python program that can simulate a simple calculator, using the console as the exclusive input and output device. That is, each input to the calculator, be it a number, like 12.34 or 1034, or an operator, like + or =, can be done on a separate line. After each such input, you should output to the Python console what would be displayed on your calculator.\n",
    "'''\n",
    "def operator(a, b, method):\n",
    "    if method == '+':\n",
    "        return a + b\n",
    "    if method == '-':\n",
    "        return a - b\n",
    "    if method == '*':\n",
    "        return a * b\n",
    "    if method == '/' and b != 0:\n",
    "        return a / b\n",
    "    if method == '/' and b == 0:\n",
    "        return 'invalid divisor'\n",
    "    return b\n",
    "\n",
    "def isfloat(n:str):\n",
    "    try:\n",
    "        float(n)\n",
    "        return True\n",
    "    except:\n",
    "        return False\n",
    "\n",
    "def calculator():\n",
    "    a = None\n",
    "    b = None\n",
    "    current_method = None\n",
    "    operators = '+-*/'\n",
    "    while True:\n",
    "        line = input('Input a number or a operator. Input \\'=\\' to calculate. Input \\'quit\\' to exit.').strip()\n",
    "        # print(f'Current status: line = {line}, a={a}, b={b}, last_input={last_input}, current_method={current_method}')\n",
    "\n",
    "        if line == 'quit':\n",
    "            print('User ended the process.')\n",
    "            break\n",
    "\n",
    "        if line == '=':\n",
    "            if a is not None and b is not None and current_method is not None:\n",
    "                print(a, b, current_method)\n",
    "                result = operator(a,b, current_method)\n",
    "                print(f'The answer is {result}')\n",
    "                a = None\n",
    "                b = None\n",
    "                current_method = None\n",
    "            else:\n",
    "                print(f'Incomplete operation({a},{b},{current_method}. Please provide both numbers and an operator.')\n",
    "            continue\n",
    "\n",
    "\n",
    "        if isfloat(line):\n",
    "            # print('Catch a number')\n",
    "            num = float(line)\n",
    "            if a is None:\n",
    "                a = num\n",
    "            elif b is None:\n",
    "                b = num\n",
    "            else:\n",
    "                print('Both operands are already set. Press \"=\" to calculate or \"quit\" to exit.')\n",
    "            continue\n",
    "            \n",
    "        \n",
    "        if line in operators:\n",
    "            if a is not None:\n",
    "                if current_method is not None and b is not None:\n",
    "                    a = operator(a, b, current_method)\n",
    "                    b = None\n",
    "                current_method = line\n",
    "            else:\n",
    "                print('Please provide the first number before the operator.')\n",
    "            continue\n",
    "    \n",
    "calculator()"
   ],
   "metadata": {
    "collapsed": false,
    "ExecuteTime": {
     "end_time": "2024-06-08T14:11:45.638672Z",
     "start_time": "2024-06-08T14:11:29.054787Z"
    }
   },
   "id": "1cfc8b2f70643fd0"
  },
  {
   "cell_type": "code",
   "execution_count": null,
   "outputs": [],
   "source": [
    "'''\n",
    "P-1.33 Write a Python program that simulates a handheld calculator. Your program should process input from the Python console representing buttons that are “pushed,” and then output the contents of the screen after each operation is performed. Minimally, your calculator should be able to process the basic arithmetic operations and a reset/clear operation.\n",
    "'''\n",
    "\n"
   ],
   "metadata": {
    "collapsed": false
   },
   "id": "a9e47575f4a451e9"
  },
  {
   "cell_type": "code",
   "execution_count": 762,
   "outputs": [
    {
     "name": "stdout",
     "output_type": "stream",
     "text": [
      "1. I will nevea spam my friends again.\n",
      "2. I will never splam my friends again.\n",
      "3. I will never spam my friends again.\n",
      "4. I wilL never spam my friends again.\n",
      "5. I will never spam my friends again.\n",
      "6. I will never spam my friends again.\n",
      "7. I will never spam my friends again.\n",
      "8. I will never spam y friends again.\n",
      "9. I will never spam my friends again.\n",
      "10. I will never spam my friends again.\n",
      "11. I will never spam my friEnds again.\n",
      "12. I will never spam my friends again.\n",
      "13. I will never spam my friends again.!\n",
      "14. I will never spam my friends again.\n",
      "15. I wIll never spam my friends again.\n",
      "16. I will, never spam my friends again.\n",
      "17. I will never spam my friends again.\n",
      "18. I will never spam mh friends again.\n",
      "19. Iw will never spam my friends again.\n",
      "20. I will never spam my friends again.\n",
      "21. I will never spam my friends again.\n",
      "22. I will never spam my friends again.\n",
      "23. I will never spam my friends again.\n",
      "24. I will never never spam my friends again.\n",
      "25.  I will never spam my friends again.\n",
      "26. I will never spam my friends again.\n",
      "27. I will never spam m friends again.\n",
      "28. I will never spam my my friends again.\n",
      "29. I will never spam  my friends again.\n",
      "30. I will never spam my fiends again.\n",
      "31. I waill never spam my friends again.\n",
      "32. I will never spam myhfriends again.\n",
      "33. I will never spam my friends again.\n",
      "34. I will never spam my friends again.\n",
      "35. I will never spam my friends again.\n",
      "36. I will never spam my friends again.\n",
      "37. I will never spam my friends again.\n",
      "38. I will never spam my friends again.\n",
      "39. I will never spam my friends. again.\n",
      "40. I will never spam my friends asain.\n",
      "41. I will never spam my friends again.\n",
      "42. I will never spam my friends again.\n",
      "43. I will never spam my friends again.\n",
      "44. I will never spam my friends again.\n",
      "45. I will never spam my friends agzin.\n",
      "46. I will never spam! my friends again.\n",
      "47. I will! never spam my friends again.\n",
      "48. I will never spam my friends again.\n",
      "49. I will never spam my friends again.\n",
      "50. I will never spam my friends again.\n",
      "51. I will never spam  my friends again.\n",
      "52. I will never spam my friends again.\n",
      "53. I will never spam my friends again.\n",
      "54. I will never spam my friends again.\n",
      "55. I will never spam my friend again.\n",
      "56. I will neever spam my friends again.\n",
      "57. I will never spam myfriends again.\n",
      "58. I will never spam my friends again.\n",
      "59. I will never spam my friends again.\n",
      "60. I will! never spam my friends again.\n",
      "61. I will never spam my friends again.\n",
      "62. I will never spam my friends again.\n",
      "63. I will never spam my friends gagain.\n",
      "64. I will never spam my friends again.\n",
      "65. I will never spam my friends again.\n",
      "66. I will never spam my! friends again.\n",
      "67. I will never spam my friends again. again.\n",
      "68. I will never spam my friends again.\n",
      "69. I will never spam my frienps again.\n",
      "70. I will never spam my friends again. again.\n",
      "71. I will ever spam my friends again.\n",
      "72. I will never spam my friends again.\n",
      "73. I woll never spam my friends again.\n",
      "74. I will never spam my friends again.\n",
      "75. I will never spam my  friends again.\n",
      "76. I will never spam my friends again.\n",
      "77. I will never spam my  friends again.\n",
      "78. I will never spam my friends again.\n",
      "79. I will never sapam my friends again.\n",
      "80. I will never spam my friends againd.\n",
      "81. I will never spam my friends again.\n",
      "82. I wilkl never spam my friends again.\n",
      "83. I wlill never spam my friends again.\n",
      "84. I will never spam my friends again.\n",
      "85. I will never spam my friends agaitn.\n",
      "86. I will never spam my friends again.\n",
      "87. I will never spam my friends again.\n",
      "88. I will will never spam my friends again.\n",
      "89. I will never spam my Friends again.\n",
      "90. I will never spam my friends again.\n",
      "91. I will never spam my friends again.\n",
      "92. I will never spam my frIends again.\n",
      "93. I will never spam my friends again.\n",
      "94. I willvnever spam my friends again.\n",
      "95. I will never spam my friends again.\n",
      "96. I will never spam my friends again.\n",
      "97. I will never spam my friendszagain.\n",
      "98. I will never spam my friends again.\n",
      "99. I will never spam my friends again.\n",
      "100. I will never spam my friends again.\n"
     ]
    }
   ],
   "source": [
    "'''\n",
    "P-1.34 A common punishment for school children is to write out a sentence multiple times. Write a Python stand-alone program that will write out the following sentence one hundred times: “I will never spam my friends again.” Your program should number each of the sentences and it should make eight different random-looking typos.\n",
    "'''\n",
    "\n",
    "def typos(string):\n",
    "    typo_type = random.randint(1,8)\n",
    "    if typo_type == 1: # Omission: Remove a letter (e.g., \"I wil never spam my friends again.\")\n",
    "        if len(string) == 0:\n",
    "            return string\n",
    "        position = random.randint(0, len(string)-1)\n",
    "        return string[:position]+string[position+1:]\n",
    "    \n",
    "    if typo_type == 2: # Insertion: Add an extra letter (e.g., \"I willl never spam my friends again.\")\n",
    "        if len(string) == 0:\n",
    "            return string\n",
    "        position = random.randint(0, len(string)-1)\n",
    "        extra_letter = random.choice('abcdefghijklmnopqrstuvwxyz')\n",
    "        return string[:position]+extra_letter+string[position:]\n",
    "    \n",
    "    if typo_type == 3: # Substitution: Replace a letter with another (e.g., \"I will neber spam my friends again.\")\n",
    "        if len(string) == 0:\n",
    "            return string\n",
    "        position = random.randint(0, len(string)-1)\n",
    "        replace_letter = random.choice('abcdefghijklmnopqrstuvwxyz')\n",
    "        return string[:position] + replace_letter + string[position+1:]\n",
    "          \n",
    "    if typo_type == 4: # Transposition: Swap two adjacent letters (e.g., \"I will never smap my friends again.\")\n",
    "        if len(string) < 2:\n",
    "            return string\n",
    "        position = random.randint(0, len(string)-2)\n",
    "        return string[:position] + string[position+1] +string[position] + string[position+1:]\n",
    "        \n",
    "        \n",
    "    if typo_type == 5: # Double Space: Introduce an extra space between words or letters (e.g., \"I will never spam my friends again.\").\n",
    "        words = string.split()\n",
    "        if words == 0:\n",
    "            return string\n",
    "        position = random.randint(0, len(words)-1)\n",
    "        words[position] = ' ' + words[position]\n",
    "        return ' '.join(words)\n",
    "        \n",
    "    if typo_type == 6: # Case Error: Randomly change the case of a letter (e.g., \"I will Never spam my friends again.\").\n",
    "        if len(string) == 0:\n",
    "            return string\n",
    "        position = random.randint(0, len(string)-1)\n",
    "        return string[:position]+string[position].upper() + string[position +1:]\n",
    "    \n",
    "    if typo_type == 7: # Repetition: Repeat a word (e.g., \"I will never never spam my friends again.\").\n",
    "        words = string.split()\n",
    "        if words == 0:\n",
    "            return string\n",
    "        position = random.randint(0, len(words)-1)\n",
    "        words.insert(position,words[position])\n",
    "        return ' '.join(words)  \n",
    "    \n",
    "    if typo_type == 8: # Punctuation Error: Introduce or misplace punctuation marks (e.g., \"I will never spam, my friends again.\").\n",
    "        words = string.split()\n",
    "        if words == 0:\n",
    "            return string\n",
    "        position = random.randint(0, len(words)-1)\n",
    "        words[position] = words[position] + random.choice(',.!?')\n",
    "        return ' '.join(words)\n",
    "    \n",
    "def punishment():\n",
    "    sentence = 'I will never spam my friends again.' \n",
    "    for i in range(1, 101):\n",
    "        typo = random.randint(0, 1)\n",
    "        if typo:\n",
    "            new_sentence = typos(sentence)\n",
    "            print(f'{i}. {new_sentence}')\n",
    "            continue\n",
    "        print(f'{i}. {sentence}')\n",
    "        \n",
    "punishment()\n",
    "        \n",
    "        \n",
    "    "
   ],
   "metadata": {
    "collapsed": false,
    "ExecuteTime": {
     "end_time": "2024-06-10T06:59:04.369155Z",
     "start_time": "2024-06-10T06:59:04.352119Z"
    }
   },
   "id": "4a67bf2d1f35d211"
  },
  {
   "cell_type": "code",
   "execution_count": 751,
   "outputs": [
    {
     "name": "stdout",
     "output_type": "stream",
     "text": [
      "I will never spam my friends again. again.\n"
     ]
    }
   ],
   "source": [
    "def create_repetition_typo(string):\n",
    "    words = string.split()\n",
    "    if words == 0:\n",
    "        return string\n",
    "    position = random.randint(0, len(words)-1)\n",
    "    words.insert(position,words[position])\n",
    "    return ' '.join(words)\n",
    "\n",
    "# Example usage:\n",
    "sentence = \"I will never spam my friends again.\"\n",
    "typo_sentence = create_repetition_typo(sentence)\n",
    "print(typo_sentence)"
   ],
   "metadata": {
    "collapsed": false,
    "ExecuteTime": {
     "end_time": "2024-06-10T06:42:13.137691Z",
     "start_time": "2024-06-10T06:42:13.104404Z"
    }
   },
   "id": "6111c21bbfe6a05e"
  },
  {
   "cell_type": "code",
   "execution_count": 819,
   "outputs": [
    {
     "name": "stdout",
     "output_type": "stream",
     "text": [
      "Number of people: 5 ---- Probability of shared birthday: 2.7136%\n",
      "Number of people: 10 ---- Probability of shared birthday: 11.6948%\n",
      "Number of people: 15 ---- Probability of shared birthday: 25.2901%\n",
      "Number of people: 20 ---- Probability of shared birthday: 41.1438%\n",
      "Number of people: 23 ---- Probability of shared birthday: 50.7297%\n",
      "Number of people: 25 ---- Probability of shared birthday: 56.8700%\n",
      "Number of people: 30 ---- Probability of shared birthday: 70.6316%\n",
      "Number of people: 35 ---- Probability of shared birthday: 81.4383%\n",
      "Number of people: 40 ---- Probability of shared birthday: 89.1232%\n",
      "Number of people: 45 ---- Probability of shared birthday: 94.0976%\n",
      "Number of people: 50 ---- Probability of shared birthday: 97.0374%\n",
      "Number of people: 55 ---- Probability of shared birthday: 98.6262%\n",
      "Number of people: 60 ---- Probability of shared birthday: 99.4123%\n",
      "Number of people: 65 ---- Probability of shared birthday: 99.7683%\n",
      "Number of people: 70 ---- Probability of shared birthday: 99.9160%\n",
      "Number of people: 75 ---- Probability of shared birthday: 99.9720%\n",
      "Number of people: 80 ---- Probability of shared birthday: 99.9914%\n",
      "Number of people: 85 ---- Probability of shared birthday: 99.9976%\n",
      "Number of people: 90 ---- Probability of shared birthday: 99.9994%\n",
      "Number of people: 95 ---- Probability of shared birthday: 99.9999%\n",
      "Number of people: 100 ---- Probability of shared birthday: 100.0000%\n"
     ]
    },
    {
     "data": {
      "text/plain": "{5: '2.7136%',\n 10: '11.6948%',\n 15: '25.2901%',\n 20: '41.1438%',\n 23: '50.7297%',\n 25: '56.8700%',\n 30: '70.6316%',\n 35: '81.4383%',\n 40: '89.1232%',\n 45: '94.0976%',\n 50: '97.0374%',\n 55: '98.6262%',\n 60: '99.4123%',\n 65: '99.7683%',\n 70: '99.9160%',\n 75: '99.9720%',\n 80: '99.9914%',\n 85: '99.9976%',\n 90: '99.9994%',\n 95: '99.9999%',\n 100: '100.0000%'}"
     },
     "execution_count": 819,
     "metadata": {},
     "output_type": "execute_result"
    }
   ],
   "source": [
    "\"\"\"\n",
    "P-1.35 The birthday paradox says that the probability that two people in a room will have the same birthday is more than half, provided n, the number of people in the room, is more than 23. This property is not really a paradox, but many people find it surprising. Design a Python program that can test this paradox by a series of experiments on randomly generated birthdays, which test this paradox for n=5,10,15,20,…,100.\n",
    "\"\"\"\n",
    "import math\n",
    "\n",
    "def shared_birthday_p(n):\n",
    "    unshared = 1\n",
    "    for i in range(n):\n",
    "        unshared *= (365 - i) / 365\n",
    "    return 1 - unshared\n",
    "\n",
    "    \n",
    "n_series = [5, 10, 15, 20, 23, 25, 30, 35, 40, 45, 50,\n",
    "            55, 60, 65, 70, 75, 80, 85, 90, 95, 100]\n",
    "probability_dict = {num:f'{shared_birthday_p(num)*100:.4f}%' for num in n_series}\n",
    "for num, prob in probability_dict.items():\n",
    "    print(f'Number of people: {num} ---- Probability of shared birthday: {prob}')\n",
    "\n",
    "probability_dict "
   ],
   "metadata": {
    "collapsed": false,
    "ExecuteTime": {
     "end_time": "2024-06-10T10:36:24.728451Z",
     "start_time": "2024-06-10T10:36:24.697664Z"
    }
   },
   "id": "2e52bd92e0d5d7b2"
  },
  {
   "cell_type": "code",
   "execution_count": 820,
   "outputs": [
    {
     "name": "stdout",
     "output_type": "stream",
     "text": [
      "\n",
      "Number of participants:5\n",
      "Total experiment times: 1000, 30 of them have repetition birthday among participants, the probability is 3.00\n",
      "\n",
      "Number of participants:10\n",
      "Total experiment times: 1000, 111 of them have repetition birthday among participants, the probability is 11.10\n",
      "\n",
      "Number of participants:15\n",
      "Total experiment times: 1000, 258 of them have repetition birthday among participants, the probability is 25.80\n",
      "\n",
      "Number of participants:20\n",
      "Total experiment times: 1000, 422 of them have repetition birthday among participants, the probability is 42.20\n",
      "\n",
      "Number of participants:23\n",
      "Total experiment times: 1000, 499 of them have repetition birthday among participants, the probability is 49.90\n",
      "\n",
      "Number of participants:25\n",
      "Total experiment times: 1000, 584 of them have repetition birthday among participants, the probability is 58.40\n",
      "\n",
      "Number of participants:30\n",
      "Total experiment times: 1000, 706 of them have repetition birthday among participants, the probability is 70.60\n",
      "\n",
      "Number of participants:35\n",
      "Total experiment times: 1000, 812 of them have repetition birthday among participants, the probability is 81.20\n",
      "\n",
      "Number of participants:40\n",
      "Total experiment times: 1000, 874 of them have repetition birthday among participants, the probability is 87.40\n",
      "\n",
      "Number of participants:45\n",
      "Total experiment times: 1000, 937 of them have repetition birthday among participants, the probability is 93.70\n",
      "\n",
      "Number of participants:50\n",
      "Total experiment times: 1000, 972 of them have repetition birthday among participants, the probability is 97.20\n",
      "\n",
      "Number of participants:55\n",
      "Total experiment times: 1000, 982 of them have repetition birthday among participants, the probability is 98.20\n",
      "\n",
      "Number of participants:60\n",
      "Total experiment times: 1000, 992 of them have repetition birthday among participants, the probability is 99.20\n",
      "\n",
      "Number of participants:65\n",
      "Total experiment times: 1000, 999 of them have repetition birthday among participants, the probability is 99.90\n",
      "\n",
      "Number of participants:70\n",
      "Total experiment times: 1000, 996 of them have repetition birthday among participants, the probability is 99.60\n",
      "\n",
      "Number of participants:75\n",
      "Total experiment times: 1000, 999 of them have repetition birthday among participants, the probability is 99.90\n",
      "\n",
      "Number of participants:80\n",
      "Total experiment times: 1000, 1000 of them have repetition birthday among participants, the probability is 100.00\n",
      "\n",
      "Number of participants:85\n",
      "Total experiment times: 1000, 1000 of them have repetition birthday among participants, the probability is 100.00\n",
      "\n",
      "Number of participants:90\n",
      "Total experiment times: 1000, 1000 of them have repetition birthday among participants, the probability is 100.00\n",
      "\n",
      "Number of participants:95\n",
      "Total experiment times: 1000, 1000 of them have repetition birthday among participants, the probability is 100.00\n",
      "\n",
      "Number of participants:100\n",
      "Total experiment times: 1000, 1000 of them have repetition birthday among participants, the probability is 100.00\n"
     ]
    }
   ],
   "source": [
    "import datetime\n",
    "import random\n",
    "\n",
    "def birthdays_generator():\n",
    "    birthdays = []\n",
    "    for i in range(13):\n",
    "        for j in range(32):\n",
    "            try:\n",
    "                data = datetime.date(2021,i,j)\n",
    "                birthdays.append(data.strftime(\"%m%d\"))\n",
    "            except ValueError:\n",
    "                continue\n",
    "    return birthdays\n",
    "\n",
    "def experiments(exp_times, participant_num, b_days):\n",
    "    count = 0\n",
    "    time = 0\n",
    "    birthdays = b_days\n",
    "    \n",
    "    while time < exp_times:\n",
    "        participant_birthdays = []\n",
    "        for i in range(participant_num):\n",
    "            birthday = random.choice(birthdays)\n",
    "            if birthday in participant_birthdays:\n",
    "                count += 1\n",
    "                break\n",
    "            participant_birthdays.append(birthday)\n",
    "        time += 1\n",
    "    print(f'Total experiment times: {time}, {count} of them have repetition birthday among participants, the probability is {count*100/time:.2f}')    \n",
    "        \n",
    "\n",
    "date_list = birthdays_generator()\n",
    "for n in n_series:\n",
    "    print(f'\\nNumber of participants:{n}')\n",
    "    experiments(1000, n ,date_list)"
   ],
   "metadata": {
    "collapsed": false,
    "ExecuteTime": {
     "end_time": "2024-06-10T10:36:36.026646Z",
     "start_time": "2024-06-10T10:36:35.593022Z"
    }
   },
   "id": "3059c40398e0e1ca"
  },
  {
   "cell_type": "code",
   "execution_count": 779,
   "outputs": [
    {
     "data": {
      "text/plain": "{0, 1, 2, 3, 4}"
     },
     "execution_count": 779,
     "metadata": {},
     "output_type": "execute_result"
    }
   ],
   "source": [],
   "metadata": {
    "collapsed": false,
    "ExecuteTime": {
     "end_time": "2024-06-10T09:07:15.293590Z",
     "start_time": "2024-06-10T09:07:15.288410Z"
    }
   },
   "id": "8bf8c593df89d6dc"
  },
  {
   "cell_type": "code",
   "execution_count": 822,
   "outputs": [
    {
     "data": {
      "text/plain": "{'apple': 4, 'banana': 3, 'orange': 2, 'mango': 2, 'grape': 1}"
     },
     "execution_count": 822,
     "metadata": {},
     "output_type": "execute_result"
    }
   ],
   "source": [
    "'''\n",
    "P-1.36 Write a Python program that inputs a list of words, separated by whitespace, and outputs how many times each word appears in the list. You need not worry about efficiency at this point, however, as this topic is something that will be addressed later in this book.\n",
    "'''\n",
    "\n",
    "def word_fre_count(words):\n",
    "    word_dict = {}\n",
    "    word_list = words.split(' ')\n",
    "        \n",
    "    for i in word_list:\n",
    "        if i in word_dict:\n",
    "            word_dict[i] += 1\n",
    "            continue\n",
    "        word_dict[i] = 1\n",
    "    return word_dict\n",
    "\n",
    "word_list = 'apple banana orange apple mango banana apple grape orange mango banana apple'\n",
    "word_fre_count(word_list)\n",
    "     "
   ],
   "metadata": {
    "collapsed": false,
    "ExecuteTime": {
     "end_time": "2024-06-10T10:52:06.539883Z",
     "start_time": "2024-06-10T10:52:06.480676Z"
    }
   },
   "id": "71cad585a02907ce"
  }
 ],
 "metadata": {
  "kernelspec": {
   "display_name": "Python 3",
   "language": "python",
   "name": "python3"
  },
  "language_info": {
   "codemirror_mode": {
    "name": "ipython",
    "version": 2
   },
   "file_extension": ".py",
   "mimetype": "text/x-python",
   "name": "python",
   "nbconvert_exporter": "python",
   "pygments_lexer": "ipython2",
   "version": "2.7.6"
  }
 },
 "nbformat": 4,
 "nbformat_minor": 5
}
